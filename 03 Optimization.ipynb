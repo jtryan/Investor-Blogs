{
 "cells": [
  {
   "cell_type": "markdown",
   "metadata": {},
   "source": [
    "# Parameter Optimization #\n",
    "\n",
    "This project provides an easy to use functionality to implement and evaluate automatic stock trading strategies. It is implemented in java and therefore can be used in any environment which builds on the JVM.\n",
    "\n",
    "It provides the following functionality:\n",
    "- Simple access to stock data\n",
    "- Declarative formulation of trading strategies\n",
    "- Evaluation of trading strategies\n",
    "- Optimization of trading strategies\n",
    "- Support of portfolio of multiple stocks / trading strategies\n",
    "\n",
    "In this document we describe the functionality which helps us to optimize the parameters for trading strategies.\n",
    "\n",
    "## Setup and Imports ##\n",
    "First you need to install the java libraries:"
   ]
  },
  {
   "cell_type": "code",
   "execution_count": 25,
   "metadata": {},
   "outputs": [
    {
     "data": {
      "application/vnd.jupyter.widget-view+json": {
       "model_id": "",
       "version_major": 2,
       "version_minor": 0
      },
      "method": "display_data"
     },
     "metadata": {},
     "output_type": "display_data"
    },
    {
     "data": {
      "application/vnd.jupyter.widget-view+json": {
       "model_id": "",
       "version_major": 2,
       "version_minor": 0
      },
      "method": "display_data"
     },
     "metadata": {},
     "output_type": "display_data"
    },
    {
     "data": {
      "text/plain": [
       "import ch.pschatzmann.dates._\n",
       "import ch.pschatzmann.stocks._\n",
       "import ch.pschatzmann.stocks.data.universe._\n",
       "import ch.pschatzmann.stocks.input._\n",
       "import ch.pschatzmann.stocks.accounting._\n",
       "import ch.pschatzmann.stocks.accounting.kpi._\n",
       "import ch.pschatzmann.stocks.execution._\n",
       "import ch.pschatzmann.stocks.execution.fees._\n",
       "import ch.pschatzmann.stocks.execution.price._\n",
       "import ch.pschatzmann.stocks.parameters._\n",
       "import ch.pschatzmann.stocks.strategy._\n",
       "import ch.pschatzmann.stocks.strategy.optimization._\n",
       "import ch.pschatzmann.stocks.strategy.allocation._\n",
       "import ch.pschatzmann.stocks.strategy.selection._\n",
       "import ch.pschatzmann.stocks.integration._\n",
       "import ch.pschatzmann.stocks.strategy.OptimizedStrategy.Schedule._\n",
       "import java.lang._\n",
       "import java.util.ArrayList\n",
       "import org.ta4j.core._\n",
       "import org.ta4j.c..."
      ]
     },
     "execution_count": 25,
     "metadata": {},
     "output_type": "execute_result"
    }
   ],
   "source": [
    "%classpath config resolver maven-public http://192.168.1.10:8081/repository/maven-public/\n",
    "%classpath add mvn ch.pschatzmann:investor:0.9-SNAPSHOT\n",
    "%classpath add mvn ch.pschatzmann:jupyter-jdk-extensions:0.0.1-SNAPSHOT\n",
    "\n",
    "// our stock evaluation framwork\n",
    "import ch.pschatzmann.dates._\n",
    "import ch.pschatzmann.stocks._\n",
    "import ch.pschatzmann.stocks.data.universe._\n",
    "import ch.pschatzmann.stocks.input._\n",
    "import ch.pschatzmann.stocks.accounting._\n",
    "import ch.pschatzmann.stocks.accounting.kpi._\n",
    "import ch.pschatzmann.stocks.execution._\n",
    "import ch.pschatzmann.stocks.execution.fees._\n",
    "import ch.pschatzmann.stocks.execution.price._\n",
    "import ch.pschatzmann.stocks.parameters._\n",
    "import ch.pschatzmann.stocks.strategy._\n",
    "import ch.pschatzmann.stocks.strategy.optimization._\n",
    "import ch.pschatzmann.stocks.strategy.allocation._\n",
    "import ch.pschatzmann.stocks.strategy.selection._\n",
    "import ch.pschatzmann.stocks.integration._\n",
    "import ch.pschatzmann.stocks.strategy.OptimizedStrategy.Schedule._\n",
    "\n",
    "// java\n",
    "import java.lang._;\n",
    "import java.util.ArrayList\n",
    "\n",
    "// ta4j\n",
    "import org.ta4j.core._\n",
    "import org.ta4j.core.analysis._\n",
    "import org.ta4j.core.analysis.criteria._\n",
    "import org.ta4j.core.indicators._\n",
    "import org.ta4j.core.indicators.helpers._\n",
    "import org.ta4j.core.trading.rules._\n",
    "\n",
    "/// jupyter custom displayer\n",
    "import ch.pschatzmann.display.Displayers\n",
    "import ch.pschatzmann.display.Table\n"
   ]
  },
  {
   "cell_type": "markdown",
   "metadata": {},
   "source": [
    "### Logging ###\n",
    "The framework is using log4j. For this demonstration session we deactivate the information messages and therfore define the log level for this session to display only Errors:"
   ]
  },
  {
   "cell_type": "code",
   "execution_count": 26,
   "metadata": {},
   "outputs": [
    {
     "data": {
      "text/plain": [
       "true"
      ]
     },
     "execution_count": 26,
     "metadata": {},
     "output_type": "execute_result"
    }
   ],
   "source": [
    "Displayers.setup(\"ERROR\")\n"
   ]
  },
  {
   "cell_type": "markdown",
   "metadata": {},
   "source": [
    "## Trading Strategy Parameter Optimization ##\n",
    "\n",
    "Each trading strategy can have some build-in parameters. The Optimizer is used to optimize \n",
    "the parameter values of the trading strategy to give the best indicated KPI value. In the example below \n",
    "we maximize the AbsoluteReturn.\n",
    "\n",
    "We currently provide the following implementations for Optimizers:\n",
    "- BinarySearchOptimizer\n",
    "- PermutatedBinarySearchOptimizer\n",
    "- SequenceOptimizer\n",
    "- BruteForceOptimizer\n",
    "- SimmulatedAnnealingOptimizer\n",
    "- GeneticOptimizer\n",
    "\n",
    "The BinarySearchOptimizer is using on the parameter sequence which is defined in the trading strategy to\n",
    "optimize the target. In order to avoid local minima - in the case if parameters are dependent on each other - we have implemented the PermutatedBinarySearchOptimizer which is using the result of the best sequence combination. "
   ]
  },
  {
   "cell_type": "code",
   "execution_count": 27,
   "metadata": {},
   "outputs": [
    {
     "data": {
      "application/vnd.jupyter.widget-view+json": {
       "model_id": "315a869d-8164-4851-a88a-e67c2c6b3385",
       "version_major": 2,
       "version_minor": 0
      },
      "method": "display_data"
     },
     "metadata": {},
     "output_type": "display_data"
    }
   ],
   "source": [
    "var stockdata = new StockData(new StockID(\"AAPL\", \"NASDAQ\"), new MarketArchiveHttpReader())\n",
    "var strategy = new RSI2Strategy(stockdata)\n",
    "\n",
    "strategy.getParameters().getMap()"
   ]
  },
  {
   "cell_type": "code",
   "execution_count": 28,
   "metadata": {},
   "outputs": [
    {
     "name": "stdout",
     "output_type": "stream",
     "text": [
      "Absolute Return: 96083.0\n"
     ]
    },
    {
     "data": {
      "application/vnd.jupyter.widget-view+json": {
       "model_id": "a1f85bfc-ce62-467e-ba6d-cd33cb75e2f4",
       "version_major": 2,
       "version_minor": 0
      },
      "method": "display_data"
     },
     "metadata": {},
     "output_type": "display_data"
    }
   ],
   "source": [
    "val target =  KPI.AbsoluteReturn\n",
    "var account = new Account(\"Simulation\",\"USD\", 100000.00, Context.date(\"2015-01-01\"), new PerTradeFees(10.0))\n",
    "var trader = new PaperTrader(account)\n",
    "var optimizer = new BinarySearchOptimizer(new Fitness(trader), KPI.AbsoluteReturn)\n",
    "var result = optimizer.optimize(strategy,account.getDateRange())\n",
    "\n",
    "// print one parameter\n",
    "println(\"Absolute Return: \"+result.result().getValue(target))\n",
    "\n",
    "// print all parameters\n",
    "result.getMap()"
   ]
  },
  {
   "cell_type": "markdown",
   "metadata": {},
   "source": [
    "### Avoid Look Ahead Bias: OptimizedStrategy ###\n",
    "The example above has a big problem: It suffers from look ahead bias!. This is bias created by the use of information or data that would not have been known or available during the period being analyzed. This will  lead to unrealistic results.\n",
    "\n",
    "Therefore we need to make sure that when we create the optimization, we only use the data backward in time.\n",
    "We have created the OptimizedStrategy class to help us with this. \n",
    "\n",
    "Here is the example that only uses the historic data up to the \"2014-12-31\" to optimize the strategy parameters:"
   ]
  },
  {
   "cell_type": "code",
   "execution_count": 29,
   "metadata": {},
   "outputs": [
    {
     "name": "stdout",
     "output_type": "stream",
     "text": [
      "Return: 48082.0\n"
     ]
    },
    {
     "data": {
      "application/vnd.jupyter.widget-view+json": {
       "model_id": "7a42fcb3-3834-4b44-aa67-517df5421ad4",
       "version_major": 2,
       "version_minor": 0
      },
      "method": "display_data"
     },
     "metadata": {},
     "output_type": "display_data"
    }
   ],
   "source": [
    "var periods = Context.getDateRanges(\"2015-01-01\",\"2016-01-01\")\n",
    "var account = new Account(\"Simulation\",\"USD\", 100000.00, periods.get(0).getStart(), new PerTradeFees(10.0))\n",
    "var stockdata = new StockData(new StockID(\"AAPL\", \"NASDAQ\"), new MarketArchiveHttpReader())\n",
    "var strategy = new RSI2Strategy(stockdata)\n",
    "var trader = new PaperTrader(account)\n",
    "var optimizer = new BinarySearchOptimizer(new SimulatedFitness(account), KPI.AbsoluteReturn)\n",
    "var optimizedStrategy = new OptimizedStrategy(strategy, optimizer, periods.get(0))                                    \n",
    "var state = new Fitness(trader).getFitness(optimizedStrategy, periods.get(1))\n",
    "\n",
    "println(\"Return: \" + state.result().getValue(KPI.AbsoluteReturn))\n",
    "\n",
    "state.getMap()"
   ]
  },
  {
   "cell_type": "markdown",
   "metadata": {},
   "source": [
    "\n",
    "We also support a more dynamic approach where we run the optimization while we execute the strategy. \n",
    "In the following example we run the optimization every month on past data:\n"
   ]
  },
  {
   "cell_type": "code",
   "execution_count": 30,
   "metadata": {},
   "outputs": [
    {
     "name": "stdout",
     "output_type": "stream",
     "text": [
      "Return: 65034.0\n"
     ]
    },
    {
     "data": {
      "application/vnd.jupyter.widget-view+json": {
       "model_id": "ab7b724a-e48e-404a-86ea-def4f4597d31",
       "version_major": 2,
       "version_minor": 0
      },
      "method": "display_data"
     },
     "metadata": {},
     "output_type": "display_data"
    }
   ],
   "source": [
    "var periods = Context.getDateRanges(\"2015-01-01\",\"2016-01-01\")\n",
    "var account = new Account(\"Simulation\",\"USD\", 100000.00, periods.get(0).getStart(), new PerTradeFees(10.0))\n",
    "var stockdata = new StockData(new StockID(\"AAPL\", \"NASDAQ\"), new MarketArchiveHttpReader())\n",
    "var strategy = new RSI2Strategy(stockdata)\n",
    "var trader = new PaperTrader(account)\n",
    "var optimizer = new BinarySearchOptimizer(new SimulatedFitness(account),KPI.AbsoluteReturn)\n",
    "var optimizedStrategy = new OptimizedStrategy(strategy, optimizer, MONTH)                                \n",
    "var state = new Fitness(trader).getFitness(optimizedStrategy, periods.get(1))\n",
    "\n",
    "println(\"Return: \" + state.result().getValue(KPI.AbsoluteReturn))\n",
    "\n",
    "state.getMap()"
   ]
  },
  {
   "cell_type": "markdown",
   "metadata": {},
   "source": [
    "### Performance of Optimizers ###\n",
    "\n",
    "Finally we compare the result of the different Optimizers. First we run them with the standard settings:"
   ]
  },
  {
   "cell_type": "code",
   "execution_count": 31,
   "metadata": {},
   "outputs": [
    {
     "name": "stdout",
     "output_type": "stream",
     "text": [
      "processing BinarySearchOptimizer...\n",
      "processing SequenceOptimizer...\n",
      "processing SimmulatedAnnealingOptimizer...\n",
      "processing GeneticOptimizer...\n"
     ]
    },
    {
     "data": {
      "application/vnd.jupyter.widget-view+json": {
       "model_id": "17778afb-66eb-4d0c-90c1-0a25ca36cd11",
       "version_major": 2,
       "version_minor": 0
      },
      "method": "display_data"
     },
     "metadata": {},
     "output_type": "display_data"
    }
   ],
   "source": [
    "\n",
    "def evaluateNoOptimization() = {\n",
    "    val rec = new java.util.TreeMap[String,Any]()\n",
    "    val start = System.currentTimeMillis()\n",
    "    account.reset()\n",
    "    val strategy = new RSI2Strategy(stockdata)\n",
    "    var state = new SimulatedFitness(account).getFitness(strategy,account.getDateRange())\n",
    "    val end = System.currentTimeMillis()\n",
    "    rec.put(\"Strategy\", \"Not optimized\")\n",
    "    rec.put(target.name(), state.result.getValue(target))\n",
    "    rec.put(\"Runtime (sec)\", (end - start) / 1000.0)\n",
    "    result.add(rec)\n",
    "}\n",
    "\n",
    "def evaluateOptimizer(optimizer : IOptimizer, name:String) = {\n",
    "    println(\"processing \"+name+\"...\")\n",
    "    val rec = new java.util.TreeMap[String,Any]()\n",
    "    val start = System.currentTimeMillis()\n",
    "    account.reset()\n",
    "    \n",
    "    var resultOfOptimization = optimizer.optimize(new RSI2Strategy(stockdata),account.getDateRange())\n",
    "    val end = System.currentTimeMillis()\n",
    "    rec.put(\"Strategy\", name)\n",
    "    rec.put(target.name(), resultOfOptimization.result().getValue(target))\n",
    "    rec.put(\"Runtime (sec)\", (end - start) / 1000.0)\n",
    "    result.add(rec)\n",
    "}\n",
    "\n",
    "val result = new ArrayList[java.util.Map[String,_]]()\n",
    "val target =  KPI.AbsoluteReturn\n",
    "val stockdata = new StockData(new StockID(\"AAPL\", \"NASDAQ\"), new MarketArchiveHttpReader())\n",
    "var account = new Account(\"Simulation\",\"USD\", 100000.00, Context.date(\"2015-01-01\"), new PerTradeFees(10.0))\n",
    "var fitness = new SimulatedFitness(account);\n",
    "\n",
    "evaluateNoOptimization()\n",
    "evaluateOptimizer(new BinarySearchOptimizer(fitness, target),\"BinarySearchOptimizer\")\n",
    "evaluateOptimizer(new SequenceOptimizer(fitness, target),\"SequenceOptimizer\")\n",
    "evaluateOptimizer(new SimulatedAnnealingOptimizer(fitness, target),\"SimmulatedAnnealingOptimizer\")\n",
    "evaluateOptimizer(new GeneticOptimizer(fitness, target),\"GeneticOptimizer\")\n",
    "// this is very slow\n",
    "//evaluateOptimizer(new PermutatedBinarySearchOptimizer(fitness,target),\"PermutatedBinarySearchOptimizer\");\n",
    "\n",
    "result"
   ]
  },
  {
   "cell_type": "markdown",
   "metadata": {},
   "source": [
    "We can also influence the performance of the optimizers by setting their specific parameters:"
   ]
  },
  {
   "cell_type": "code",
   "execution_count": 32,
   "metadata": {},
   "outputs": [
    {
     "name": "stdout",
     "output_type": "stream",
     "text": [
      "processing SimulatedAnnealingOptimizer...\n"
     ]
    },
    {
     "data": {
      "application/vnd.jupyter.widget-view+json": {
       "model_id": "b13ac677-49e3-400c-ae1f-90d7258e82af",
       "version_major": 2,
       "version_minor": 0
      },
      "method": "display_data"
     },
     "metadata": {},
     "output_type": "display_data"
    }
   ],
   "source": [
    "result.clear()\n",
    "\n",
    "var optimizer = new SimulatedAnnealingOptimizer(fitness,target)\n",
    "optimizer.setCount(20)\n",
    "evaluateOptimizer(optimizer,\"SimulatedAnnealingOptimizer\")\n",
    "\n",
    "result"
   ]
  },
  {
   "cell_type": "code",
   "execution_count": 33,
   "metadata": {},
   "outputs": [
    {
     "name": "stdout",
     "output_type": "stream",
     "text": [
      "processing GeneticOptimizer...\n"
     ]
    },
    {
     "data": {
      "application/vnd.jupyter.widget-view+json": {
       "model_id": "1520c9c4-bc0b-4159-87e3-3403ba2c8a45",
       "version_major": 2,
       "version_minor": 0
      },
      "method": "display_data"
     },
     "metadata": {},
     "output_type": "display_data"
    }
   ],
   "source": [
    "result.clear()\n",
    "\n",
    "var optimizer = new GeneticOptimizer(fitness, target)\n",
    "optimizer.setGenerations(20)\n",
    "evaluateOptimizer(optimizer,\"GeneticOptimizer\")\n",
    "\n",
    "result"
   ]
  },
  {
   "cell_type": "markdown",
   "metadata": {},
   "source": [
    "The BinarySearchOptimizer gives the quickest results. \n",
    "The other optimizers are slow but potentilly give better results."
   ]
  },
  {
   "cell_type": "markdown",
   "metadata": {},
   "source": [
    "### Selection of the Best Strategy for a Stock ###\n",
    "\n",
    "In the examples above we were optimizing the performance of a selected strategy. \n",
    "Next we show how to find the best (not optimized) strategy.\n",
    "\n"
   ]
  },
  {
   "cell_type": "code",
   "execution_count": 34,
   "metadata": {},
   "outputs": [
    {
     "name": "stdout",
     "output_type": "stream",
     "text": [
      "Return: 109557.0 with GlobalExtremaStrategy\n"
     ]
    },
    {
     "data": {
      "application/vnd.jupyter.widget-view+json": {
       "model_id": "e2e32bbd-c5c0-4adc-8275-d85fb6ea3ff9",
       "version_major": 2,
       "version_minor": 0
      },
      "method": "display_data"
     },
     "metadata": {},
     "output_type": "display_data"
    }
   ],
   "source": [
    "var strategies = TradingStrategyFactory.list()\n",
    "var periods = Context.getDateRanges(\"2015-01-01\",\"2016-01-01\");\n",
    "var account = new Account(\"Simulation\",\"USD\", 100000.00, periods.get(0).getStart(), new PerTradeFees(10.0))\n",
    "var stockdata = new StockData(new StockID(\"AAPL\", \"NASDAQ\"), new MarketArchiveHttpReader());\n",
    "var trader = new PaperTrader(account);\n",
    "var state = new StrategySelector(account, strategies, periods.get(0), KPI.AbsoluteReturn).getMax(stockdata)\n",
    "\n",
    "println(\"Return: \" + state.result().getValue(KPI.AbsoluteReturn) +\" with \"+ state.getStrategyName())\n",
    "\n",
    "state.getMap()"
   ]
  },
  {
   "cell_type": "markdown",
   "metadata": {},
   "source": [
    "### Selection of the Best Optimized Strategy ###\n",
    "\n",
    "Finally we show how to find the best optimized strategy for period 0 and then apply the optimized strategy for period 1.\n"
   ]
  },
  {
   "cell_type": "code",
   "execution_count": 35,
   "metadata": {},
   "outputs": [
    {
     "name": "stdout",
     "output_type": "stream",
     "text": [
      "Return: 70300.0 with RSI2Strategy\n"
     ]
    },
    {
     "data": {
      "application/vnd.jupyter.widget-view+json": {
       "model_id": "c1ae1639-a452-47d0-8648-6a22f80d6aed",
       "version_major": 2,
       "version_minor": 0
      },
      "method": "display_data"
     },
     "metadata": {},
     "output_type": "display_data"
    }
   ],
   "source": [
    "var periods = Context.getDateRanges(\"2015-01-01\",\"2016-01-01\")\n",
    "var strategies = TradingStrategyFactory.list()\n",
    "var account = new Account(\"Simulation\",\"USD\", 100000.00, periods.get(0).getStart(), new PerTradeFees(10.0))\n",
    "var stockdata = new StockData(new StockID(\"AAPL\", \"NASDAQ\"), new MarketArchiveHttpReader());\n",
    "var trader = new PaperTrader(account);\n",
    "var optimizer = new BinarySearchOptimizer(new SimulatedFitness(account), KPI.AbsoluteReturn);\n",
    "var state = new StrategySelectorOptimized(account, strategies, \n",
    "    periods.get(0),\n",
    "    periods.get(1),\n",
    "    new BinarySearchOptimizer(new SimulatedFitness(account),KPI.AbsoluteReturn))\n",
    "   .getMax(stockdata)\n",
    "\n",
    "println(\"Return: \" + state.result().getValue(KPI.AbsoluteReturn) +\" with \"+ state.getStrategyName())\n",
    "\n",
    "state.getMap()"
   ]
  },
  {
   "cell_type": "code",
   "execution_count": null,
   "metadata": {},
   "outputs": [],
   "source": []
  }
 ],
 "metadata": {
  "kernelspec": {
   "display_name": "Scala",
   "language": "scala",
   "name": "scala"
  },
  "language_info": {
   "codemirror_mode": "text/x-scala",
   "file_extension": ".scala",
   "mimetype": "",
   "name": "Scala",
   "nbconverter_exporter": "",
   "version": "2.11.12"
  }
 },
 "nbformat": 4,
 "nbformat_minor": 2
}
