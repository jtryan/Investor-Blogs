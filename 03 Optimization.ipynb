{
 "cells": [
  {
   "cell_type": "markdown",
   "metadata": {},
   "source": [
    "# Parameter Optimization #\n",
    "\n",
    "This project provides an easy to use functionality to implement and evaluate automatic stock trading strategies. It is implemented in java and therefore can be used in any environment which builds on the JVM.\n",
    "\n",
    "It provides the following functionality:\n",
    "- Simple access to stock data\n",
    "- Declarative formulation of trading strategies\n",
    "- Evaluation of trading strategies\n",
    "- Optimization of trading strategies\n",
    "- Support of portfolio of multiple stocks / trading strategies\n",
    "\n",
    "In this document we describe the functionality which helps us to optimize the parameters for trading strategies.\n",
    "\n",
    "## Setup ##\n",
    "First you need to install the java libraries:"
   ]
  },
  {
   "cell_type": "code",
   "execution_count": 1,
   "metadata": {},
   "outputs": [
    {
     "name": "stdout",
     "output_type": "stream",
     "text": [
      "Added new repo: maven-public\n"
     ]
    },
    {
     "data": {
      "application/vnd.jupyter.widget-view+json": {
       "model_id": "955c029d-2c1b-404a-999d-b232a3eac0ac",
       "version_major": 2,
       "version_minor": 0
      },
      "method": "display_data"
     },
     "metadata": {},
     "output_type": "display_data"
    },
    {
     "name": "stdout",
     "output_type": "stream",
     "text": [
      "Added jars: [httpclient-4.5.3.jar, jetty-util-9.2.20.v20161216.jar, sojo-1.0.5.jar, httpcore-4.4.6.jar, xercesImpl-2.11.0.jar, httpmime-4.5.2.jar, xml-apis-1.4.01.jar, commons-codec-1.10.jar, sevenzipjbinding-9.20-2.00beta.jar, serializer-2.7.2.jar, websocket-client-9.2.20.v20161216.jar, timeseries-forecast-1.1.1.jar, sac-1.3.jar, jetty-io-9.2.20.v20161216.jar, combinatoradix-0.8.2.jar, commons-jcs-core-2.0.jar, websocket-common-9.2.20.v20161216.jar, jfreechart-1.5.0.jar, ta4j-core-0.10.jar, commons-cli-1.3.1.jar, investor-0.9-SNAPSHOT.jar, commons-io-2.5.jar, cssparser-0.9.21.jar, htmlunit-2.24.jar, jackson-annotations-2.9.4.jar, jackson-databind-2.9.4.jar, commons-attributes-api-2.2.jar, YahooFinanceAPI-3.12.3.jar, log4j-1.2.17.jar, jcl-over-slf4j-1.7.25.jar, htmlunit-core-js-2.23.jar, jackson-core-2.9.4.jar, hamcrest-core-1.1.jar, commons-lang3-3.5.jar, sevenzipjbinding-all-platforms-9.20-2.00beta.jar, slf4j-api-1.7.25.jar, slf4j-log4j12-1.7.25.jar, ant-1.5.jar, junit-4.10.jar, websocket-api-9.2.20.v20161216.jar, xalan-2.7.2.jar, qdox-1.5.jar, neko-htmlunit-2.24.jar]\n"
     ]
    },
    {
     "data": {
      "application/vnd.jupyter.widget-view+json": {
       "model_id": "deb1ec88-0b6d-4b33-8294-c64bd6f2e3f5",
       "version_major": 2,
       "version_minor": 0
      },
      "method": "display_data"
     },
     "metadata": {},
     "output_type": "display_data"
    },
    {
     "name": "stdout",
     "output_type": "stream",
     "text": [
      "Added jars: [jcs-1.3.jar, commons-logging-1.1.jar, common-0.0.1-SNAPSHOT.jar, servlet-api-2.3.jar, logkit-1.0.1.jar, avalon-framework-4.1.3.jar, concurrent-1.3.4.jar, in-memory-stardb-0.0.1-SNAPSHOT.jar, jupyter-jdk-extensions-0.0.1-SNAPSHOT.jar]\n"
     ]
    }
   ],
   "source": [
    "%classpath config resolver maven-public http://pschatzmann.ch:8081/repository/maven-public/\n",
    "%classpath add mvn ch.pschatzmann:investor:0.9-SNAPSHOT\n",
    "%classpath add mvn ch.pschatzmann:jupyter-jdk-extensions:0.0.1-SNAPSHOT\n"
   ]
  },
  {
   "cell_type": "markdown",
   "metadata": {},
   "source": [
    "### Imports ###\n",
    "\n",
    "First we define all the imports which are used in this demo:"
   ]
  },
  {
   "cell_type": "code",
   "execution_count": 2,
   "metadata": {},
   "outputs": [
    {
     "data": {
      "text/plain": [
       "import ch.pschatzmann.dates._\n",
       "import ch.pschatzmann.stocks._\n",
       "import ch.pschatzmann.stocks.data.universe._\n",
       "import ch.pschatzmann.stocks.input._\n",
       "import ch.pschatzmann.stocks.accounting._\n",
       "import ch.pschatzmann.stocks.accounting.kpi._\n",
       "import ch.pschatzmann.stocks.execution._\n",
       "import ch.pschatzmann.stocks.execution.fees._\n",
       "import ch.pschatzmann.stocks.execution.price._\n",
       "import ch.pschatzmann.stocks.parameters._\n",
       "import ch.pschatzmann.stocks.strategy._\n",
       "import ch.pschatzmann.stocks.strategy.optimization._\n",
       "import ch.pschatzmann.stocks.strategy.allocation._\n",
       "import ch.pschatzmann.stocks.strategy.selection._\n",
       "import ch.pschatzmann.stocks.integration._\n",
       "import ch.pschatzmann.stocks.integration.ChartData.FieldName._\n",
       "import ch.pschatzmann.stocks.strategy.OptimizedStrategy.Schedule._\n",
       "import java.lang._\n",
       "impo..."
      ]
     },
     "execution_count": 2,
     "metadata": {},
     "output_type": "execute_result"
    }
   ],
   "source": [
    "// our stock evaluation framwork\n",
    "import ch.pschatzmann.dates._;\n",
    "import ch.pschatzmann.stocks._;\n",
    "import ch.pschatzmann.stocks.data.universe._;\n",
    "import ch.pschatzmann.stocks.input._;\n",
    "import ch.pschatzmann.stocks.accounting._;\n",
    "import ch.pschatzmann.stocks.accounting.kpi._;\n",
    "import ch.pschatzmann.stocks.execution._;\n",
    "import ch.pschatzmann.stocks.execution.fees._;\n",
    "import ch.pschatzmann.stocks.execution.price._;\n",
    "import ch.pschatzmann.stocks.parameters._;\n",
    "import ch.pschatzmann.stocks.strategy._;\n",
    "import ch.pschatzmann.stocks.strategy.optimization._;\n",
    "import ch.pschatzmann.stocks.strategy.allocation._;\n",
    "import ch.pschatzmann.stocks.strategy.selection._;\n",
    "import ch.pschatzmann.stocks.integration._;\n",
    "import ch.pschatzmann.stocks.integration.ChartData.FieldName._;\n",
    "import ch.pschatzmann.stocks.strategy.OptimizedStrategy.Schedule._;\n",
    "\n",
    "// java\n",
    "import java.lang._;\n",
    "import java.util.ArrayList\n",
    "\n",
    "// ta4j\n",
    "import org.ta4j.core._;\n",
    "import org.ta4j.core.analysis._;\n",
    "import org.ta4j.core.analysis.criteria._;\n",
    "import org.ta4j.core.indicators._;\n",
    "import org.ta4j.core.indicators.helpers._;\n",
    "import org.ta4j.core.trading.rules._;\n",
    "\n",
    "/// jupyter custom displayer\n",
    "import ch.pschatzmann.display.Displayers"
   ]
  },
  {
   "cell_type": "markdown",
   "metadata": {},
   "source": [
    "### Logging / Caching ###\n",
    "We are using JCS for caching the stock data. We deactivate this functionality in order to avoid the errors and warnings if the system is not set up properly.\n",
    "The framework is using log4j. For this demonstration session we deactivate the information messages and therfore define the log level for this session to display only Errors:"
   ]
  },
  {
   "cell_type": "code",
   "execution_count": 3,
   "metadata": {},
   "outputs": [
    {
     "data": {
      "text/plain": [
       "false"
      ]
     },
     "execution_count": 3,
     "metadata": {},
     "output_type": "execute_result"
    }
   ],
   "source": [
    "Displayers.setup(\"ERROR\")\n",
    "\n",
    "Context.setCachingActive(false);\n",
    "Context.isCachingActive();"
   ]
  },
  {
   "cell_type": "markdown",
   "metadata": {},
   "source": [
    "## Trading Strategy Parameter Optimization ##\n",
    "\n",
    "Each trading strategy can have some build-in parameters. The Optimizer is used to optimize \n",
    "the parameter values of the trading strategy to give the best indicated KPI value. In the example below \n",
    "we maximize the AbsoluteReturn.\n",
    "\n",
    "We currently provide the following implementations for Optimizers:\n",
    "- BinarySearchOptimizer\n",
    "- PermutatedBinarySearchOptimizer\n",
    "- SequenceOptimizer\n",
    "- BruteForceOptimizer\n",
    "- SimmulatedAnnealingOptimizer\n",
    "- GeneticOptimizer\n",
    "\n",
    "The BinarySearchOptimizer is using on the parameter sequence which is defined in the trading strategy to\n",
    "optimize the target. In order to avoid local minima - in the case if parameters are dependent on each other - we have implemented the PermutatedBinarySearchOptimizer which is using the result of the best sequence combination. "
   ]
  },
  {
   "cell_type": "code",
   "execution_count": 4,
   "metadata": {},
   "outputs": [
    {
     "name": "stdout",
     "output_type": "stream",
     "text": [
      "Absolute Return: 91268.0\n"
     ]
    },
    {
     "data": {
      "text/html": [
       "<table ><tr><th>Key</th><th>Value</th></tr><tr><td>PurchasedValue</td><td>112923</td></tr><tr><td>SharpeRatio</td><td>1</td></tr><tr><td>RealizedGains</td><td>12973</td></tr><tr><td>UnrealizedGains</td><td>78345</td></tr><tr><td>LongSMAPeriod</td><td>250</td></tr><tr><td>Cash</td><td>12</td></tr><tr><td>MaxDrawDownLowValue</td><td>106823</td></tr><tr><td>NumberOfTrades</td><td>5</td></tr><tr><td>NumberOfTradedStocks</td><td>1</td></tr><tr><td>EntryLimit</td><td>3</td></tr><tr><td>RSIPeriod</td><td>2</td></tr><tr><td>NumberOfCashTransfers</td><td>1</td></tr><tr><td>AbsoluteReturnAvaragePerDay</td><td>119</td></tr><tr><td>NumberOfSells</td><td>2</td></tr><tr><td>MaxDrawDownHighValue</td><td>125054</td></tr><tr><td>ShortSMAPeriod</td><td>9</td></tr><tr><td>ReturnPercentAnualized</td><td>30</td></tr><tr><td>AbsoluteReturnStdDev</td><td>1383</td></tr><tr><td>ExitLimit</td><td>94</td></tr><tr><td>AbsoluteReturn</td><td>91268</td></tr><tr><td>NumberOfBuys</td><td>3</td></tr><tr><td>ReturnPercent</td><td>91</td></tr><tr><td>TotalFees</td><td>50</td></tr><tr><td>MaxDrawDownNumberOfDays</td><td>410</td></tr><tr><td>ActualValue</td><td>191268</td></tr><tr><td>MaxDrawDownPercent</td><td>18231</td></tr><tr><td>ReturnPurcentStdDev</td><td>0</td></tr></table>"
      ]
     },
     "execution_count": 4,
     "metadata": {},
     "output_type": "execute_result"
    }
   ],
   "source": [
    "\n",
    "val target =  KPI.AbsoluteReturn;\n",
    "var account = new Account(\"Simulation\",\"USD\", 100000.00, Context.date(\"2015-01-01\"), new PerTradeFees(10.0));\n",
    "var stockdata = new StockData(new StockID(\"AAPL\", \"NASDAQ\"), new MarketArchiveHttpReader());\n",
    "var trader = new PaperTrader(account);\n",
    "var optimizer = new BinarySearchOptimizer(new Fitness(trader), KPI.AbsoluteReturn);\n",
    "var result = optimizer.optimize(new RSI2Strategy(stockdata),account.getDateRange());\n",
    "\n",
    "// print one parameter\n",
    "println(\"Absolute Return: \"+result.result().getValue(target));\n",
    "\n",
    "// print all parameters\n",
    "Displayers.display(result.getMap());"
   ]
  },
  {
   "cell_type": "markdown",
   "metadata": {},
   "source": [
    "### Avoid Look Ahead Bias: OptimizedStrategy ###\n",
    "The example above has a big problem: It suffers from look ahead bias!. This is bias created by the use of information or data that would not have been known or available during the period being analyzed. This will  lead to unrealistic results.\n",
    "\n",
    "Therefore we need to make sure that when we create the optimization, we only use the data backward in time.\n",
    "We have created the OptimizedStrategy class to help us with this. \n",
    "\n",
    "Here is the example that only uses the historic data up to the \"2014-12-31\" to optimize the strategy parameters:"
   ]
  },
  {
   "cell_type": "code",
   "execution_count": 5,
   "metadata": {},
   "outputs": [
    {
     "data": {
      "text/plain": [
       "Return: 78946.0"
      ]
     },
     "execution_count": 5,
     "metadata": {},
     "output_type": "execute_result"
    }
   ],
   "source": [
    "var periods = Context.getDateRanges(\"2014-01-01\",\"2015-01-01\");\n",
    "var account = new Account(\"Simulation\",\"USD\", 100000.00, periods.get(0).getStart(), new PerTradeFees(10.0));\n",
    "var stockdata = new StockData(new StockID(\"AAPL\", \"NASDAQ\"), new MarketArchiveHttpReader());\n",
    "var strategy = new RSI2Strategy(stockdata);\n",
    "var trader = new PaperTrader(account);\n",
    "var optimizer = new BinarySearchOptimizer(new SimulatedFitness(account), KPI.AbsoluteReturn);\n",
    "var optimizedStrategy = new OptimizedStrategy(strategy, optimizer, periods.get(0));                                             \n",
    "var state = new Fitness(trader).getFitness(optimizedStrategy, periods.get(1));\n",
    "\n",
    "\"Return: \" + state.result().getValue(KPI.AbsoluteReturn);\n"
   ]
  },
  {
   "cell_type": "markdown",
   "metadata": {},
   "source": [
    "\n",
    "We also support a more dynamic approach where we run the optimization while we execute the strategy. \n",
    "In the following example we run the optimization every month on past data:\n"
   ]
  },
  {
   "cell_type": "code",
   "execution_count": 6,
   "metadata": {},
   "outputs": [
    {
     "data": {
      "text/plain": [
       "Return: 54414.0"
      ]
     },
     "execution_count": 6,
     "metadata": {},
     "output_type": "execute_result"
    }
   ],
   "source": [
    "import ch.pschatzmann.stocks.strategy.OptimizedStrategy.Schedule._;\n",
    "\n",
    "var periods = Context.getDateRanges(\"2014-01-01\",\"2015-01-01\");\n",
    "var account = new Account(\"Simulation\",\"USD\", 100000.00, periods.get(0).getStart(), new PerTradeFees(10.0));\n",
    "var stockdata = new StockData(new StockID(\"AAPL\", \"NASDAQ\"), new MarketArchiveHttpReader());\n",
    "var strategy = new RSI2Strategy(stockdata);\n",
    "var trader = new PaperTrader(account);\n",
    "var optimizer = new BinarySearchOptimizer(new SimulatedFitness(account),KPI.AbsoluteReturn);\n",
    "var optimizedStrategy = new OptimizedStrategy(strategy, optimizer, MONTH);                                             \n",
    "var state = new Fitness(trader).getFitness(optimizedStrategy, periods.get(1));\n",
    "\n",
    "\"Return: \" + state.result().getValue(KPI.AbsoluteReturn);\n"
   ]
  },
  {
   "cell_type": "markdown",
   "metadata": {},
   "source": [
    "### Performance of Optimizers ###\n",
    "\n",
    "Finally we compare the result of the different Optimizers. First we run them with the standard settings:"
   ]
  },
  {
   "cell_type": "code",
   "execution_count": 7,
   "metadata": {},
   "outputs": [
    {
     "name": "stdout",
     "output_type": "stream",
     "text": [
      "processing BinarySearchOptimizer\n",
      "processing SequenceOptimizer\n",
      "processing SimmulatedAnnealingOptimizer\n",
      "processing GeneticOptimizer\n"
     ]
    },
    {
     "data": {
      "text/html": [
       "<table><tr><th>AbsoluteReturn</th><th>Runtime (sec)</th><th>Strategy</th></tr><tr><td>56741</td><td>0.274</td><td>Not optimized</td></tr><tr><td>91268</td><td>5.593</td><td>BinarySearchOptimizer</td></tr><tr><td>84676</td><td>39.602</td><td>SequenceOptimizer</td></tr><tr><td>94325</td><td>32.512</td><td>SimmulatedAnnealingOptimizer</td></tr><tr><td>96840</td><td>86.355</td><td>GeneticOptimizer</td></tr></table>"
      ]
     },
     "execution_count": 7,
     "metadata": {},
     "output_type": "execute_result"
    }
   ],
   "source": [
    "\n",
    "def evaluateNoOptimization() = {\n",
    "    val rec = new java.util.TreeMap[String,Any]();\n",
    "    val start = System.currentTimeMillis()\n",
    "    account.reset();\n",
    "    val strategy = new RSI2Strategy(stockdata);\n",
    "    var state = new SimulatedFitness(account).getFitness(strategy,account.getDateRange());\n",
    "    val end = System.currentTimeMillis()\n",
    "    rec.put(\"Strategy\", \"Not optimized\");\n",
    "    rec.put(target.name(), state.result.getValue(target));\n",
    "    rec.put(\"Runtime (sec)\", (end - start) / 1000.0);\n",
    "    result.add(rec);\n",
    "}\n",
    "\n",
    "def evaluateOptimizer(optimizer : IOptimizer, name:String) = {\n",
    "    println(\"processing \"+name)\n",
    "    val rec = new java.util.TreeMap[String,Any]()\n",
    "    val start = System.currentTimeMillis()\n",
    "    account.reset();\n",
    "    \n",
    "    var resultOfOptimization = optimizer.optimize(new RSI2Strategy(stockdata),account.getDateRange());\n",
    "    val end = System.currentTimeMillis()\n",
    "    rec.put(\"Strategy\", name);\n",
    "    rec.put(target.name(), resultOfOptimization.result().getValue(target));\n",
    "    rec.put(\"Runtime (sec)\", (end - start) / 1000.0);\n",
    "    result.add(rec);\n",
    "}\n",
    "\n",
    "val result = new ArrayList[java.util.Map[String,_]]();\n",
    "val target =  KPI.AbsoluteReturn;\n",
    "val stockdata = new StockData(new StockID(\"AAPL\", \"NASDAQ\"), new MarketArchiveHttpReader());\n",
    "var account = new Account(\"Simulation\",\"USD\", 100000.00, Context.date(\"2015-01-01\"), new PerTradeFees(10.0));\n",
    "var fitness = new SimulatedFitness(account);\n",
    "\n",
    "evaluateNoOptimization();\n",
    "evaluateOptimizer(new BinarySearchOptimizer(fitness, target),\"BinarySearchOptimizer\");\n",
    "evaluateOptimizer(new SequenceOptimizer(fitness, target),\"SequenceOptimizer\");\n",
    "evaluateOptimizer(new SimulatedAnnealingOptimizer(fitness, target),\"SimmulatedAnnealingOptimizer\");\n",
    "evaluateOptimizer(new GeneticOptimizer(fitness, target),\"GeneticOptimizer\");\n",
    "// this is very slow\n",
    "//evaluateOptimizer(new PermutatedBinarySearchOptimizer(fitness,target),\"PermutatedBinarySearchOptimizer\");\n",
    "\n",
    "Displayers.display(result);"
   ]
  },
  {
   "cell_type": "markdown",
   "metadata": {},
   "source": [
    "We can also influence the performance of the optimizers by setting their specific parameters:"
   ]
  },
  {
   "cell_type": "code",
   "execution_count": 8,
   "metadata": {},
   "outputs": [
    {
     "name": "stdout",
     "output_type": "stream",
     "text": [
      "processing SimulatedAnnealingOptimizer\n"
     ]
    },
    {
     "data": {
      "text/html": [
       "<table><tr><th>AbsoluteReturn</th><th>Runtime (sec)</th><th>Strategy</th></tr><tr><td>92251</td><td>7.08</td><td>SimulatedAnnealingOptimizer</td></tr></table>"
      ]
     },
     "execution_count": 8,
     "metadata": {},
     "output_type": "execute_result"
    }
   ],
   "source": [
    "result.clear()\n",
    "\n",
    "var optimizer = new SimulatedAnnealingOptimizer(fitness,target);\n",
    "optimizer.setCount(20)\n",
    "evaluateOptimizer(optimizer,\"SimulatedAnnealingOptimizer\")\n",
    "\n",
    "Displayers.display(result)"
   ]
  },
  {
   "cell_type": "code",
   "execution_count": 9,
   "metadata": {},
   "outputs": [
    {
     "name": "stdout",
     "output_type": "stream",
     "text": [
      "processing GeneticOptimizer\n"
     ]
    },
    {
     "data": {
      "text/html": [
       "<table><tr><th>AbsoluteReturn</th><th>Runtime (sec)</th><th>Strategy</th></tr><tr><td>113990</td><td>168.922</td><td>GeneticOptimizer</td></tr></table>"
      ]
     },
     "execution_count": 9,
     "metadata": {},
     "output_type": "execute_result"
    }
   ],
   "source": [
    "result.clear()\n",
    "\n",
    "var optimizer = new GeneticOptimizer(fitness, target);\n",
    "optimizer.setGenerations(20)\n",
    "evaluateOptimizer(optimizer,\"GeneticOptimizer\")\n",
    "\n",
    "Displayers.display(result)"
   ]
  },
  {
   "cell_type": "markdown",
   "metadata": {},
   "source": [
    "The BinarySearchOptimizer gives the quickest results. \n",
    "The other optimizers are slow but potentilly give better results."
   ]
  },
  {
   "cell_type": "code",
   "execution_count": null,
   "metadata": {},
   "outputs": [],
   "source": []
  }
 ],
 "metadata": {
  "kernelspec": {
   "display_name": "Scala",
   "language": "scala",
   "name": "scala"
  },
  "language_info": {
   "codemirror_mode": "text/x-scala",
   "file_extension": ".scala",
   "mimetype": "",
   "name": "Scala",
   "nbconverter_exporter": "",
   "version": "2.11.12"
  }
 },
 "nbformat": 4,
 "nbformat_minor": 2
}
