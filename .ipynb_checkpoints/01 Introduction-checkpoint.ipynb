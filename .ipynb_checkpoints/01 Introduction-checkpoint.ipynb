{
 "cells": [
  {
   "cell_type": "markdown",
   "metadata": {},
   "source": [
    "# Introduction #\n",
    "\n",
    "This project provides an easy to use functionality to implement and evaluate automatic stock trading strategies. It is implemented in java and therefore can be used in any environment which builds on the JVM.\n",
    "\n",
    "It provides the following functionality:\n",
    "- Simple access to stock data\n",
    "- Declarative formulation of trading strategies\n",
    "- Evaluation of trading strategies\n",
    "- Optimization of trading strategies\n",
    "- Support of portfolio of multiple stocks / trading strategies\n",
    "\n",
    "At the end it should be possible to easily formulate and evaluate a stock strategy and to evaluate\n",
    "the impact of changes.\n",
    "\n",
    "In this document we demonstrates the basic functionality using Scala: We are using JupyterLab (http://jupyter.org) with the BeakerX (http://beakerx.com/) Scala Kernel.\n",
    "\n",
    "## Change History ##\n",
    "- Initial Version\n",
    "- Support for new readers\n",
    "- Support for Redis as cacheing technologiy for the stock histories\n",
    "- Use of BeakerX tables and SimpleTimePlot charts with the help of the Table class\n",
    "\n",
    "## Setup ##\n",
    "We need to add the java libraries:"
   ]
  },
  {
   "cell_type": "code",
   "execution_count": 1,
   "metadata": {},
   "outputs": [
    {
     "name": "stdout",
     "output_type": "stream",
     "text": [
      "Added new repo: maven-public\n"
     ]
    },
    {
     "data": {
      "application/vnd.jupyter.widget-view+json": {
       "model_id": "",
       "version_major": 2,
       "version_minor": 0
      },
      "method": "display_data"
     },
     "metadata": {},
     "output_type": "display_data"
    },
    {
     "data": {
      "application/vnd.jupyter.widget-view+json": {
       "model_id": "e15e34ba-eb38-49ef-8d10-67039faf0df4",
       "version_major": 2,
       "version_minor": 0
      },
      "method": "display_data"
     },
     "metadata": {},
     "output_type": "display_data"
    },
    {
     "data": {
      "application/vnd.jupyter.widget-view+json": {
       "model_id": "",
       "version_major": 2,
       "version_minor": 0
      },
      "method": "display_data"
     },
     "metadata": {},
     "output_type": "display_data"
    },
    {
     "data": {
      "application/vnd.jupyter.widget-view+json": {
       "model_id": "987023f7-f15d-41a4-91e2-945fe36d276c",
       "version_major": 2,
       "version_minor": 0
      },
      "method": "display_data"
     },
     "metadata": {},
     "output_type": "display_data"
    }
   ],
   "source": [
    "%classpath config resolver maven-public http://192.168.1.10:8081/repository/maven-public/\n",
    "%classpath add mvn ch.pschatzmann:investor:0.9-SNAPSHOT\n",
    "%classpath add mvn ch.pschatzmann:jupyter-jdk-extensions:0.0.1-SNAPSHOT\n"
   ]
  },
  {
   "cell_type": "markdown",
   "metadata": {},
   "source": [
    "### Imports ###\n",
    "\n",
    "First we define all the imports which are used in this demo:"
   ]
  },
  {
   "cell_type": "code",
   "execution_count": 2,
   "metadata": {},
   "outputs": [
    {
     "data": {
      "text/plain": [
       "import ch.pschatzmann.dates._\n",
       "import ch.pschatzmann.stocks._\n",
       "import ch.pschatzmann.stocks.data.universe._\n",
       "import ch.pschatzmann.stocks.input._\n",
       "import ch.pschatzmann.stocks.accounting._\n",
       "import ch.pschatzmann.stocks.accounting.kpi._\n",
       "import ch.pschatzmann.stocks.execution._\n",
       "import ch.pschatzmann.stocks.execution.fees._\n",
       "import ch.pschatzmann.stocks.execution.price._\n",
       "import ch.pschatzmann.stocks.parameters._\n",
       "import ch.pschatzmann.stocks.strategy._\n",
       "import ch.pschatzmann.stocks.strategy.optimization._\n",
       "import ch.pschatzmann.stocks.strategy.allocation._\n",
       "import ch.pschatzmann.stocks.strategy.selection._\n",
       "import ch.pschatzmann.stocks.integration._\n",
       "import ch.pschatzmann.stocks.strategy.OptimizedStrategy.Schedule._\n",
       "import ch.pschatzmann.stocks.cache._\n",
       "import ch.pschatzmann.stocks.ta4j.indicator._\n",
       "imp..."
      ]
     },
     "execution_count": 2,
     "metadata": {},
     "output_type": "execute_result"
    }
   ],
   "source": [
    "// our stock evaluation framwork\n",
    "import ch.pschatzmann.dates._;\n",
    "import ch.pschatzmann.stocks._;\n",
    "import ch.pschatzmann.stocks.data.universe._;\n",
    "import ch.pschatzmann.stocks.input._;\n",
    "import ch.pschatzmann.stocks.accounting._;\n",
    "import ch.pschatzmann.stocks.accounting.kpi._;\n",
    "import ch.pschatzmann.stocks.execution._;\n",
    "import ch.pschatzmann.stocks.execution.fees._;\n",
    "import ch.pschatzmann.stocks.execution.price._;\n",
    "import ch.pschatzmann.stocks.parameters._;\n",
    "import ch.pschatzmann.stocks.strategy._;\n",
    "import ch.pschatzmann.stocks.strategy.optimization._;\n",
    "import ch.pschatzmann.stocks.strategy.allocation._;\n",
    "import ch.pschatzmann.stocks.strategy.selection._;\n",
    "import ch.pschatzmann.stocks.integration._;\n",
    "import ch.pschatzmann.stocks.strategy.OptimizedStrategy.Schedule._;\n",
    "import ch.pschatzmann.stocks.cache._\n",
    "import ch.pschatzmann.stocks.ta4j.indicator._\n",
    "\n",
    "// java\n",
    "import java.util.stream.Collectors;\n",
    "import java.util._;\n",
    "import java.lang._;\n",
    "import java.util.function.Consumer;\n",
    "\n",
    "// scala\n",
    "import scala.collection.JavaConverters;\n",
    "\n",
    "// ta4j\n",
    "dimport org.ta4j.core._\n",
    "import org.ta4j.core.num._\n",
    "import org.ta4j.core.analysis._\n",
    "import org.ta4j.core.analysis.criteria._;\n",
    "import org.ta4j.core.indicators._;\n",
    "import org.ta4j.core.indicators.helpers._;\n",
    "import org.ta4j.core.trading.rules._;\n",
    "\n",
    "// jupyter custom displayer\n",
    "import ch.pschatzmann.display.Table\n"
   ]
  },
  {
   "cell_type": "markdown",
   "metadata": {},
   "source": [
    "\n",
    "## Basic Data Structures: Universe, StockID, StockData ##\n",
    "\n",
    "A StockID is identifiying a stock by the trading symbol and the exchange.\n",
    "\n",
    "The Uninverse is a collection of StockIDs. We can use the universe to find stocks or to process a collection relevant stocks.\n",
    "- ListUniverse\n",
    "- IEXUniverse\n",
    "- MarketUniverse\n",
    "- JsonUniverse\n",
    "- QuandlSIXUnivers\n",
    "- QuandlEuronextUnivers\n",
    "- QuandlWIKIUnivers\n"
   ]
  },
  {
   "cell_type": "code",
   "execution_count": 3,
   "metadata": {},
   "outputs": [
    {
     "data": {
      "text/plain": [
       "[NASDAQ:AAPL,  NASDAQ:AA]"
      ]
     },
     "execution_count": 3,
     "metadata": {},
     "output_type": "execute_result"
    }
   ],
   "source": [
    "var universe = new ListUniverse(\"NASDAQ:AAPL, NASDAQ:AA\")\n",
    "\n",
    "universe.list()"
   ]
  },
  {
   "cell_type": "markdown",
   "metadata": {},
   "source": [
    "BeakerX is displaying a list of Maps automatically as Javascript table. We can use our Table class to convert any list of objects so that we can diplay it as table. We have also implemented some short cuts on our custom classes so that we can use our class direcly instead of a list. "
   ]
  },
  {
   "cell_type": "code",
   "execution_count": 4,
   "metadata": {},
   "outputs": [
    {
     "data": {
      "application/vnd.jupyter.widget-view+json": {
       "model_id": "41e59e86-6160-4075-b026-46b31b92b724",
       "version_major": 2,
       "version_minor": 0
      },
      "method": "display_data"
     },
     "metadata": {},
     "output_type": "display_data"
    }
   ],
   "source": [
    "Table.create(universe)\n"
   ]
  },
  {
   "cell_type": "code",
   "execution_count": 5,
   "metadata": {},
   "outputs": [
    {
     "data": {
      "application/vnd.jupyter.widget-view+json": {
       "model_id": "6bede5a7-118c-4c20-9811-70c1b2ada840",
       "version_major": 2,
       "version_minor": 0
      },
      "method": "display_data"
     },
     "metadata": {},
     "output_type": "display_data"
    }
   ],
   "source": [
    "var universe = new IEXUniverse().list;\n",
    "\n",
    "Table.create(universe)"
   ]
  },
  {
   "cell_type": "code",
   "execution_count": 6,
   "metadata": {},
   "outputs": [
    {
     "data": {
      "application/vnd.jupyter.widget-view+json": {
       "model_id": "1c02ea7f-30cc-44f7-bbe4-39d11addaefd",
       "version_major": 2,
       "version_minor": 0
      },
      "method": "display_data"
     },
     "metadata": {},
     "output_type": "display_data"
    }
   ],
   "source": [
    "var universe = new QuandlSixUniverse().list;\n",
    "\n",
    "Table.create(universe)"
   ]
  },
  {
   "cell_type": "markdown",
   "metadata": {},
   "source": [
    "Just as a side note: The API provides java collections. It is possible to convert them to a Scala type -  e.q a Seq.\n"
   ]
  },
  {
   "cell_type": "code",
   "execution_count": 7,
   "metadata": {},
   "outputs": [
    {
     "data": {
      "text/plain": [
       "[[AN8068571086CHF, ARP290071876CHF, AT0000606306CHF, AT0000644505CHF, AT0000652011CHF]]"
      ]
     },
     "execution_count": 7,
     "metadata": {},
     "output_type": "execute_result"
    }
   ],
   "source": [
    "import scala.collection.JavaConverters._\n",
    "\n",
    "new QuandlSixUniverse().list.asScala.toSeq.slice(0,5)"
   ]
  },
  {
   "cell_type": "markdown",
   "metadata": {},
   "source": [
    "The StockData is the class which provides the history of stock rates and some stock related KPIs. We need to indicate a Reader which defines the source of the data. \n",
    "\n",
    "Currently we support\n",
    "- Reader \n",
    "- YahooReader\n",
    "- MarketArchiveHttpReader\n",
    "- IEXReader\n",
    "- FinancialContentReader\n",
    "- InvestopiaReader\n",
    "- MacroTrendsReader\n",
    "- QuoteMediaReader\n",
    "- WallstreetJournalReader\n",
    "\n",
    "The folloiwng readers will need some license keys in the investor.properties\n",
    "\n",
    "- QuandlWIKIReader (QuandlAPIKey)\n",
    "- QuandlSixReader (QuandlAPIKey)\n",
    "- AlphaVantageReader (AlphaVantageAPIKey)\n",
    "- TiingoReader (TiingoToken)\n",
    "\n",
    "\n",
    "Here is the example how to retrieve the stock history:"
   ]
  },
  {
   "cell_type": "code",
   "execution_count": 8,
   "metadata": {},
   "outputs": [
    {
     "data": {
      "application/vnd.jupyter.widget-view+json": {
       "model_id": "c49b9247-9934-4af2-a1a6-b143ece842e0",
       "version_major": 2,
       "version_minor": 0
      },
      "method": "display_data"
     },
     "metadata": {},
     "output_type": "display_data"
    }
   ],
   "source": [
    "var stockData = Context.getStockData(\"AAPL\", new IEXReader());\n",
    "\n",
    "Table.create(stockData)"
   ]
  },
  {
   "cell_type": "markdown",
   "metadata": {},
   "source": [
    "We do not need to indicate reader. In this case the system uses the Default reader:"
   ]
  },
  {
   "cell_type": "code",
   "execution_count": 9,
   "metadata": {},
   "outputs": [
    {
     "data": {
      "application/vnd.jupyter.widget-view+json": {
       "model_id": "0bbeedc1-dae6-4304-a3be-039607921dbc",
       "version_major": 2,
       "version_minor": 0
      },
      "method": "display_data"
     },
     "metadata": {},
     "output_type": "display_data"
    }
   ],
   "source": [
    "var table = Table.create(Context.getStockData(\"AAPL\"),Context.getStockData(\"INTL\"))"
   ]
  },
  {
   "cell_type": "markdown",
   "metadata": {},
   "source": [
    "## Charts ##\n",
    "We use the BeakerX charting functionality:"
   ]
  },
  {
   "cell_type": "markdown",
   "metadata": {},
   "source": [
    "Now, we can display a stock chart:"
   ]
  },
  {
   "cell_type": "code",
   "execution_count": 10,
   "metadata": {},
   "outputs": [
    {
     "data": {
      "application/vnd.jupyter.widget-view+json": {
       "model_id": "a5424880-cc9a-4d61-9747-7627783bfd8c",
       "version_major": 2,
       "version_minor": 0
      },
      "method": "display_data"
     },
     "metadata": {},
     "output_type": "display_data"
    }
   ],
   "source": [
    "new SimpleTimePlot {\n",
    "    data = table.seq()\n",
    "    columns = Seq(\"AAPL.Open\",\"INTL.Closing\")\n",
    "    showLegend = false\n",
    "}"
   ]
  },
  {
   "cell_type": "markdown",
   "metadata": {},
   "source": [
    "## Technical Analysis with TA4J ##\n",
    "\n",
    "Ta4j is an open source Java library for technical analysis. It provides the basic components for creation, evaluation and execution of trading strategies.\n",
    "\n",
    "We can use our StockData functionality as data source for TA4J to e.g. to calculate indicators:"
   ]
  },
  {
   "cell_type": "code",
   "execution_count": 11,
   "metadata": {},
   "outputs": [
    {
     "data": {
      "text/plain": [
       "SMAIndicator barCount: 30"
      ]
     },
     "execution_count": 11,
     "metadata": {},
     "output_type": "execute_result"
    }
   ],
   "source": [
    "var stockData = Context.getStockData(\"AAPL\", \"NASDAQ\");\n",
    "// translate to Ta4j TimeSeries\n",
    "var series = new StockTimeSeries(stockData, new DateRange(Context.date(\"2017-01-01\"),new Date()));\n",
    "// Closing Prices\n",
    "var closePrice = new ClosePriceIndicator(series);\n",
    "// Getting the simple moving average (SMA) of the close price over the last 5 ticks\n",
    "var shortSma = new SMAIndicator(closePrice, 5);\n",
    "// Getting a longer SMA (e.g. over the 30 last ticks)\n",
    "var longSma = new SMAIndicator(closePrice, 30);\n"
   ]
  },
  {
   "cell_type": "markdown",
   "metadata": {},
   "source": [
    "We convert the indicators to a Table.  The name of the indicator is usually determined from the java class name but because we have multiple SMAIndicators we need to wrap them into a NamedIndicator in order to assign a unique name:"
   ]
  },
  {
   "cell_type": "code",
   "execution_count": 12,
   "metadata": {},
   "outputs": [
    {
     "data": {
      "application/vnd.jupyter.widget-view+json": {
       "model_id": "77ef81d5-0e83-439d-a58f-3e4c554becf1",
       "version_major": 2,
       "version_minor": 0
      },
      "method": "display_data"
     },
     "metadata": {},
     "output_type": "display_data"
    }
   ],
   "source": [
    "\n",
    "var indicators = Table.create(closePrice, NamedIndicator.create(shortSma,\"ShortSMA\"), NamedIndicator.create(longSma,\"LongSMA\"))\n"
   ]
  },
  {
   "cell_type": "code",
   "execution_count": 13,
   "metadata": {},
   "outputs": [
    {
     "data": {
      "application/vnd.jupyter.widget-view+json": {
       "model_id": "2c1e52f0-8de6-4f9f-aa4c-e973ea96ac08",
       "version_major": 2,
       "version_minor": 0
      },
      "method": "display_data"
     },
     "metadata": {},
     "output_type": "display_data"
    }
   ],
   "source": [
    "// create chart\n",
    "new SimpleTimePlot {\n",
    "    data = indicators.seq()\n",
    "    columns = Seq(\"ShortSMA\",\"LongSMA\",\"ClosePriceIndicator\")\n",
    "    showLegend = false\n",
    "}"
   ]
  },
  {
   "cell_type": "markdown",
   "metadata": {},
   "source": [
    "## Trading with TA4J ##\n",
    "\n",
    "Here is the complete trading and evaluation example which we took from the TA4J documentation that can be found at\n",
    "https://github.com/ta4j/ta4j/wiki/Getting%20started.\n",
    "\n",
    "The example has been converted to Scala:"
   ]
  },
  {
   "cell_type": "code",
   "execution_count": 14,
   "metadata": {},
   "outputs": [
    {
     "data": {
      "application/vnd.jupyter.widget-view+json": {
       "model_id": "749a43fb-4387-4492-b02e-dd99f9148ed7",
       "version_major": 2,
       "version_minor": 0
      },
      "method": "display_data"
     },
     "metadata": {},
     "output_type": "display_data"
    }
   ],
   "source": [
    "var result = new HashMap[String,Number]()\n",
    "var stockData = new StockData(new StockID(\"AAPL\", \"NASDAQ\"), new MarketArchiveHttpReader());\n",
    "var series = new StockTimeSeries(stockData);\n",
    "var closePrice = new ClosePriceIndicator(series);\n",
    "\n",
    "// Getting the simple moving average (SMA) of the close price over the last 5 ticks\n",
    "var shortSma = new SMAIndicator(closePrice, 5);\n",
    "// Getting a longer SMA (e.g. over the 30 last ticks)\n",
    "var longSma = new SMAIndicator(closePrice, 30);\n",
    "\n",
    "// Buying rules\n",
    "// We want to buy:\n",
    "//  - if the 5-ticks SMA crosses over 30-ticks SMA\n",
    "//  - or if the price goes below a defined price (e.g $800.00)\n",
    "var buyingRule = new CrossedUpIndicatorRule(shortSma, longSma)\n",
    "        .or(new CrossedDownIndicatorRule(closePrice, Context.number(800.0)));\n",
    "\n",
    "// Selling rules\n",
    "// We want to sell:\n",
    "//  - if the 5-ticks SMA crosses under 30-ticks SMA\n",
    "//  - or if if the price looses more than 3%\n",
    "//  - or if the price earns more than 2%\n",
    "var sellingRule = new CrossedDownIndicatorRule(shortSma, longSma)\n",
    "        .or(new StopLossRule(closePrice, Context.number(3.0)))\n",
    "        .or(new StopGainRule(closePrice, Context.number(2.0)));\n",
    "\n",
    "var strategy = new BaseStrategy(buyingRule, sellingRule);\n",
    "                                     \n",
    "// Running our juicy trading strategy...\n",
    "var manager = new TimeSeriesManager(series);\n",
    "var tradingRecord = manager.run(strategy);\n",
    "result.put(\"Number of trades for our strategy\" , tradingRecord.getTradeCount().longValue());\n",
    "                                     \n",
    "// Getting the cash flow of the resulting trades\n",
    "var cashFlow = new CashFlow(series, tradingRecord);\n",
    "\n",
    "// Getting the profitable trades ratio\n",
    "var profitTradesRatio = new AverageProfitableTradesCriterion();\n",
    "result.put(\"Profitable trades ratio\" , profitTradesRatio.calculate(series, tradingRecord).doubleValue());\n",
    "\n",
    "// Getting the reward-risk ratio\n",
    "var rewardRiskRatio = new RewardRiskRatioCriterion();\n",
    "result.put(\"Reward-risk ratio\" , rewardRiskRatio.calculate(series, tradingRecord).doubleValue());\n",
    "\n",
    "// Total profit of our strategy\n",
    "// vs total profit of a buy-and-hold strategy\n",
    "var vsBuyAndHold = new VersusBuyAndHoldCriterion(new TotalProfitCriterion());\n",
    "result.put(\"Our profit vs buy-and-hold profit\" , vsBuyAndHold.calculate(series, tradingRecord).doubleValue());\n",
    "\n",
    "result"
   ]
  },
  {
   "cell_type": "markdown",
   "metadata": {},
   "source": [
    "So far we have seen how we can use our functionality toghether with TA4J to implement an automatic trading and evaluation platform. \n",
    "\n",
    "In the next Chapter we demonstrate our own Trading Simulation and Optimization functionality. "
   ]
  },
  {
   "cell_type": "markdown",
   "metadata": {},
   "source": [
    "## Accounts and Paper Trader##\n",
    "\n",
    "The Account class is used to record and evaluate trades. We need to indicate the opening amount, the open date of the account and the Fees Model (IFeesModel). \n",
    "We can optionally register a generic reader or a ticker specific reader which defines from where the stock  information is read.\n",
    "\n",
    "The requested stock trades are recorded with the addTransaction() method. Positive quantities are purchased, negative quantities are sold.\n",
    "\n",
    "The paper trader implements the basic trading (simulation) functionality. We can indicate a delay (with setDelay() and the price logic with setPrice(). In our example the trade is executed on the next day with the open rate.\n",
    "\n",
    "With the execute() method we start the processing which is processing the open unfilled orders.\n"
   ]
  },
  {
   "cell_type": "code",
   "execution_count": 15,
   "metadata": {},
   "outputs": [
    {
     "data": {
      "application/vnd.jupyter.widget-view+json": {
       "model_id": "bcf63ec8-61ec-4f9b-80f8-2d5b325b9020",
       "version_major": 2,
       "version_minor": 0
      },
      "method": "display_data"
     },
     "metadata": {},
     "output_type": "display_data"
    }
   ],
   "source": [
    "var stockdata = new StockID(\"AAPL\", \"NASDAQ\");\n",
    "var account = new Account(\"Simulation\",\"USD\", 100000.00, Context.date(\"2015-01-01\"), new PerTradeFees(10.0));\n",
    "\n",
    "account.putReader(new MarketArchiveHttpReader());\n",
    "account.addTransaction(new Transaction(Context.date(\"2015-01-04\"), stockdata, +100l));\n",
    "account.addTransaction(new Transaction(Context.date(\"2015-10-04\"), stockdata, -90l));\n",
    "\n",
    "var trader = new PaperTrader(account);\n",
    "// configure alternative logic\n",
    "trader.setDelay(new OneDayDelay());\n",
    "trader.setPrice(new OpenPrice());\n",
    "trader.execute();\n",
    "\n",
    "// display the resulting transactions\n",
    "Table.create(account.getTransactions());\n"
   ]
  },
  {
   "cell_type": "markdown",
   "metadata": {},
   "source": [
    "## Trading Strategies ##\n",
    "\n",
    "The heart of automatic trading are the \"trading strategies\". A class which implements ITradingStrategy can be used for automatic trading. A class which implements IOptimizableTradingStrategy can be used for automatic parameter optimization and automatic trading. \n",
    "\n",
    "The framework comes with the following standard strategies:\n"
   ]
  },
  {
   "cell_type": "code",
   "execution_count": 16,
   "metadata": {},
   "outputs": [
    {
     "data": {
      "text/plain": [
       "[CCICorrectionStrategy, GlobalExtremaStrategy, MovingMomentumStrategy, RSI2Strategy]"
      ]
     },
     "execution_count": 16,
     "metadata": {},
     "output_type": "execute_result"
    }
   ],
   "source": [
    "TradingStrategyFactory.list()"
   ]
  },
  {
   "cell_type": "markdown",
   "metadata": {},
   "source": [
    "The Fitness class will be used to evaluate the strategies. As a result it provides both the input and the calculated KPI ouput parameters and updates the account.\n",
    "\n",
    "You can use the SimulatedFitness class if you want to avoid the update to the account."
   ]
  },
  {
   "cell_type": "code",
   "execution_count": 17,
   "metadata": {},
   "outputs": [
    {
     "data": {
      "application/vnd.jupyter.widget-view+json": {
       "model_id": "686a974a-1150-4361-87b9-b75250a1ca59",
       "version_major": 2,
       "version_minor": 0
      },
      "method": "display_data"
     },
     "metadata": {},
     "output_type": "display_data"
    }
   ],
   "source": [
    "Table.create(account.getTransactions())"
   ]
  },
  {
   "cell_type": "code",
   "execution_count": 18,
   "metadata": {},
   "outputs": [
    {
     "name": "stdout",
     "output_type": "stream",
     "text": [
      "Return: 87513.0\n"
     ]
    },
    {
     "data": {
      "application/vnd.jupyter.widget-view+json": {
       "model_id": "f544a58f-77c5-4abf-b9e3-1f21af762d00",
       "version_major": 2,
       "version_minor": 0
      },
      "method": "display_data"
     },
     "metadata": {},
     "output_type": "display_data"
    }
   ],
   "source": [
    "var account = new Account(\"Simulation\",\"USD\", 100000.00, Context.date(\"2015-01-01\"), new PerTradeFees(10.0));\n",
    "var stockdata = new StockData(new StockID(\"AAPL\", \"NASDAQ\"), new MarketArchiveHttpReader());\n",
    "var strategy = new RSI2Strategy(stockdata);\n",
    "var trader = new PaperTrader(account);\n",
    "var state = new Fitness(trader).getFitness(strategy, account.getDateRange());\n",
    "\n",
    "// print one parameter\n",
    "println(\"Return: \" + state.result().getValue(KPI.AbsoluteReturn));\n",
    "\n",
    "// print all parameters\n",
    "state.getMap()"
   ]
  },
  {
   "cell_type": "code",
   "execution_count": 19,
   "metadata": {},
   "outputs": [
    {
     "data": {
      "application/vnd.jupyter.widget-view+json": {
       "model_id": "77c814b5-a70d-4364-bd0c-5d9aa3ee4c59",
       "version_major": 2,
       "version_minor": 0
      },
      "method": "display_data"
     },
     "metadata": {},
     "output_type": "display_data"
    }
   ],
   "source": [
    "Table.create(account.getTransactions())"
   ]
  },
  {
   "cell_type": "code",
   "execution_count": 20,
   "metadata": {},
   "outputs": [
    {
     "data": {
      "text/plain": [
       "ch.pschatzmann.stocks.integration.HistoricValues@3ce7c923"
      ]
     },
     "execution_count": 20,
     "metadata": {},
     "output_type": "execute_result"
    }
   ],
   "source": [
    "var totalHistory = HistoricValues.create(account.getTotalValueHistory(), \"TotalValue\")\n",
    "var cashHistory = HistoricValues.create(account.getCashHistoryForAllDates(), \"Cash\")\n",
    "var actualHistory = HistoricValues.create(account.getActualValueHistory(), \"ActualValue\")\n"
   ]
  },
  {
   "cell_type": "code",
   "execution_count": 21,
   "metadata": {},
   "outputs": [
    {
     "data": {
      "application/vnd.jupyter.widget-view+json": {
       "model_id": "95e0e72a-0a1d-4344-aba7-50c853604f8e",
       "version_major": 2,
       "version_minor": 0
      },
      "method": "display_data"
     },
     "metadata": {},
     "output_type": "display_data"
    }
   ],
   "source": [
    "var historyTable = Table.create(totalHistory, cashHistory, actualHistory)\n"
   ]
  },
  {
   "cell_type": "code",
   "execution_count": 22,
   "metadata": {},
   "outputs": [
    {
     "data": {
      "application/vnd.jupyter.widget-view+json": {
       "model_id": "bdd16835-d3a4-4758-8ddd-ca8dcd6217c0",
       "version_major": 2,
       "version_minor": 0
      },
      "method": "display_data"
     },
     "metadata": {},
     "output_type": "display_data"
    }
   ],
   "source": [
    "new SimpleTimePlot {\n",
    "    data = historyTable.seq\n",
    "    columns = Seq(\"TotalValue\",\"Cash\",\"ActualValue\")\n",
    "    showLegend = false\n",
    "}"
   ]
  },
  {
   "cell_type": "markdown",
   "metadata": {},
   "source": [
    "In order to get a better understanding of the development of the values over time we can \n",
    "chart the Acocunt information."
   ]
  },
  {
   "cell_type": "code",
   "execution_count": 23,
   "metadata": {},
   "outputs": [
    {
     "data": {
      "application/vnd.jupyter.widget-view+json": {
       "model_id": "80e0b8e0-e01a-4888-ac0a-8f8487ab4049",
       "version_major": 2,
       "version_minor": 0
      },
      "method": "display_data"
     },
     "metadata": {},
     "output_type": "display_data"
    }
   ],
   "source": [
    "Table.create(account.getTransactions())"
   ]
  },
  {
   "cell_type": "markdown",
   "metadata": {},
   "source": [
    "### Trading Strategies Description ###"
   ]
  },
  {
   "cell_type": "code",
   "execution_count": 24,
   "metadata": {},
   "outputs": [
    {
     "data": {
      "application/vnd.jupyter.widget-view+json": {
       "model_id": "2f0bd80d-a4d9-4336-9866-2a5543fe94ff",
       "version_major": 2,
       "version_minor": 0
      },
      "method": "display_data"
     },
     "metadata": {},
     "output_type": "display_data"
    }
   ],
   "source": [
    "import scala.collection.JavaConversions._\n",
    "\n",
    "var list = new ArrayList[HashMap[String,String]]()\n",
    "for (strategy <-  TradingStrategyFactory.list()) {\n",
    "    var map = new HashMap[String,String]();\n",
    "    map.put(\"Name\", strategy)\n",
    "    map.put(\"Description\",TradingStrategyFactory.getStrategyDesciption(strategy))\n",
    "    list.add(map)\n",
    "}\n",
    "\n",
    "Table.create(list)"
   ]
  },
  {
   "cell_type": "markdown",
   "metadata": {},
   "source": [
    "## Comparing Trading Strategies ##\n",
    "\n",
    "Here is a small example which compares the trading strategies for Apple starting from 2015-01-01\n"
   ]
  },
  {
   "cell_type": "code",
   "execution_count": 25,
   "metadata": {},
   "outputs": [
    {
     "data": {
      "application/vnd.jupyter.widget-view+json": {
       "model_id": "ce59edce-60bd-4d8a-9f14-04a928e63f91",
       "version_major": 2,
       "version_minor": 0
      },
      "method": "display_data"
     },
     "metadata": {},
     "output_type": "display_data"
    }
   ],
   "source": [
    "import java.util.ArrayList\n",
    "\n",
    "def calculateResult(account:Account, strategy : IOptimizableTradingStrategy) : java.util.Map[String,Object] = {\n",
    "    var state = new SimulatedFitness(account).getFitness(strategy, account.getDateRange());\n",
    "    var result = state.getMap();\n",
    "    // add strategy name to result\n",
    "    result.put(\"Strategy\", strategy.getClass().getSimpleName());\n",
    "    return result;\n",
    "}\n",
    "\n",
    "var account = new Account(\"Simulation\",\"USD\", 100000.00, Context.date(\"2015-01-01\"), new PerTradeFees(10.0));\n",
    "var sd = Context.getStockData(\"AAPL\", \"NASDAQ\");\n",
    "\n",
    "var result = new ArrayList[java.util.Map[String,Object]]();\n",
    "result.add(calculateResult(account, new RSI2Strategy(sd)));\n",
    "result.add(calculateResult(account, new BuyAndHoldStrategy(sd)));\n",
    "result.add(calculateResult(account, new CCICorrectionStrategy(sd)));\n",
    "result.add(calculateResult(account, new GlobalExtremaStrategy(sd)));\n",
    "result.add(calculateResult(account, new MovingMomentumStrategy(sd)));\n",
    "\n",
    "Table.create(result)"
   ]
  },
  {
   "cell_type": "markdown",
   "metadata": {},
   "source": [
    "## Custom Trading Strategies ##\n",
    "\n",
    "Finally we demonstrate how you can implement your custom Strategy. The indicators and trading strategy functionality is based on TA4J https://github.com/ta4j/ta4j.\n",
    "\n",
    "The simplest and fastest way is to implement a BaseStrategy by extending the CommonTradingStrategy:"
   ]
  },
  {
   "cell_type": "code",
   "execution_count": 26,
   "metadata": {},
   "outputs": [
    {
     "name": "stdout",
     "output_type": "stream",
     "text": [
      "Return: 39839.0\n"
     ]
    },
    {
     "data": {
      "application/vnd.jupyter.widget-view+json": {
       "model_id": "aa64308e-ff27-43f0-a380-c8b7bc631cee",
       "version_major": 2,
       "version_minor": 0
      },
      "method": "display_data"
     },
     "metadata": {},
     "output_type": "display_data"
    }
   ],
   "source": [
    "import ch.pschatzmann.dates._;\n",
    "import ch.pschatzmann.stocks._;\n",
    "import ch.pschatzmann.stocks.accounting._;\n",
    "import ch.pschatzmann.stocks.integration._;\n",
    "import ch.pschatzmann.stocks.execution._;\n",
    "import ch.pschatzmann.stocks.execution.fees._;\n",
    "import ch.pschatzmann.stocks.strategy._;\n",
    "import ch.pschatzmann.stocks.strategy.optimization._;\n",
    "import ch.pschatzmann.stocks.input._;\n",
    "import ch.pschatzmann.stocks.parameters._;\n",
    "import org.ta4j.core._;\n",
    "import org.ta4j.core.analysis._;\n",
    "import org.ta4j.core.analysis.criteria._;\n",
    "import org.ta4j.core.indicators._;\n",
    "import org.ta4j.core.indicators.helpers._;\n",
    "import org.ta4j.core.trading.rules._;\n",
    "import ch.pschatzmann.display.Displayers\n",
    "\n",
    "class DemoStrategy(sd : StockData) extends CommonTradingStrategy (sd){\n",
    "    // Define BaseStrategy\n",
    "    def buildStrategy(timeSeries : TimeSeries) : BaseStrategy = {\n",
    "        val closePrices = new ClosePriceIndicator(timeSeries);\n",
    "        // Getting the max price over the past week\n",
    "        val maxPrices = new MaxPriceIndicator(timeSeries);\n",
    "        val weekMaxPrice = new HighestValueIndicator(maxPrices, 7);\n",
    "        // Getting the min price over the past week\n",
    "        val minPrices = new MinPriceIndicator(timeSeries);\n",
    "        val weekMinPrice = new LowestValueIndicator(minPrices, 7);\n",
    "        // Going long if the close price goes below the min price\n",
    "        val downWeek = new MultiplierIndicator(weekMinPrice, 1.004);\n",
    "        val buyingRule = new UnderIndicatorRule(closePrices, downWeek);\n",
    "        // Going short if the close price goes above the max price\n",
    "        val upWeek = new MultiplierIndicator(weekMaxPrice, 0.996);\n",
    "        val sellingRule = new OverIndicatorRule(closePrices, upWeek);\n",
    "\n",
    "        return new BaseStrategy(buyingRule, sellingRule);\n",
    "    }  \n",
    "}\n",
    "\n",
    "var apple = new StockData(new StockID(\"AAPL\", \"NASDAQ\"), new MarketArchiveHttpReader());\n",
    "var account = new Account(\"Simulation\",\"USD\", 100000.00, Context.date(\"2015-01-01\"), new PerTradeFees(10.0));\n",
    "var strategy = new DemoStrategy(apple);\n",
    "var trader = new PaperTrader(account);\n",
    "var state = new Fitness(trader).getFitness(strategy, account.getDateRange());\n",
    "\n",
    "println(\"Return: \"+state.result().getValue(KPI.AbsoluteReturn));\n",
    "state.getMap();\n"
   ]
  },
  {
   "cell_type": "markdown",
   "metadata": {},
   "source": [
    "An alternaive approach is to implement the interface directly:"
   ]
  },
  {
   "cell_type": "code",
   "execution_count": 27,
   "metadata": {},
   "outputs": [
    {
     "name": "stdout",
     "output_type": "stream",
     "text": [
      "Return: 39839.0\n"
     ]
    },
    {
     "data": {
      "application/vnd.jupyter.widget-view+json": {
       "model_id": "8a6230e5-b5ed-4739-902d-7f339813d6ab",
       "version_major": 2,
       "version_minor": 0
      },
      "method": "display_data"
     },
     "metadata": {},
     "output_type": "display_data"
    }
   ],
   "source": [
    "import ch.pschatzmann.dates._;\n",
    "import ch.pschatzmann.stocks._;\n",
    "import ch.pschatzmann.stocks.accounting._;\n",
    "import ch.pschatzmann.stocks.integration._;\n",
    "import ch.pschatzmann.stocks.execution._;\n",
    "import ch.pschatzmann.stocks.execution.fees._;\n",
    "import ch.pschatzmann.stocks.strategy._;\n",
    "import ch.pschatzmann.stocks.strategy.optimization._;\n",
    "import ch.pschatzmann.stocks.input._;\n",
    "import ch.pschatzmann.stocks.parameters._;\n",
    "import org.ta4j.core._;\n",
    "import org.ta4j.core.analysis._;\n",
    "import org.ta4j.core.analysis.criteria._;\n",
    "import org.ta4j.core.indicators._;\n",
    "import org.ta4j.core.indicators.helpers._;\n",
    "import org.ta4j.core.trading.rules._;\n",
    "import ch.pschatzmann.display.Displayers\n",
    "\n",
    "/**\n",
    " * Strategy implemented in Scala \n",
    " */\n",
    "class DemoStrategy extends ITradingStrategy {\n",
    "    var state = new State();\n",
    "    val stockdata = new StockData(new StockID(\"AAPL\", \"NASDAQ\"), new MarketArchiveHttpReader());\n",
    "\n",
    "    def getStrategy():Strategy = {\n",
    "        var timeSeries = new StockTimeSeries(getStockData());\n",
    "        val closePrices = new ClosePriceIndicator(timeSeries);\n",
    "        // Getting the max price over the past week\n",
    "        val maxPrices = new MaxPriceIndicator(timeSeries);\n",
    "        val weekMaxPrice = new HighestValueIndicator(maxPrices, 7);\n",
    "        // Getting the min price over the past week\n",
    "        val minPrices = new MinPriceIndicator(timeSeries);\n",
    "        val weekMinPrice = new LowestValueIndicator(minPrices, 7);\n",
    "        // Going long if the close price goes below the min price\n",
    "        val downWeek = new MultiplierIndicator(weekMinPrice, 1.004);\n",
    "        val buyingRule = new UnderIndicatorRule(closePrices, downWeek);\n",
    "        // Going short if the close price goes above the max price\n",
    "        val upWeek = new MultiplierIndicator(weekMaxPrice, 0.996);\n",
    "        val sellingRule = new OverIndicatorRule(closePrices, upWeek);\n",
    "\n",
    "        return new BaseStrategy(buyingRule, sellingRule);\n",
    "    }\n",
    "    \n",
    "    def getStockData():StockData = {\n",
    "        return stockdata;\n",
    "    }\n",
    "\n",
    "    def getName():String = {\n",
    "        return \"DemoStrategy\";\n",
    "    }\n",
    "        \n",
    "    def getDescription():String = {\n",
    "        return \"Demo strategy implemented in scala\";\n",
    "    }\n",
    "    \n",
    "    def getParameters():State = {\n",
    "        return state;\n",
    "    }\n",
    "    \n",
    "    def resetHistory() {\n",
    "    }\n",
    "    def reset() {\n",
    "    }\n",
    "    \n",
    "}\n",
    "\n",
    "var account = new Account(\"Simulation\",\"USD\", 100000.00, Context.date(\"2015-01-01\"), new PerTradeFees(10.0));\n",
    "var strategy = new DemoStrategy();\n",
    "var trader = new PaperTrader(account);\n",
    "var state = new Fitness(trader).getFitness(strategy,account.getDateRange());\n",
    "\n",
    "println(\"Return: \"+state.result().getValue(KPI.AbsoluteReturn));\n",
    "state.getMap();\n"
   ]
  },
  {
   "cell_type": "code",
   "execution_count": null,
   "metadata": {},
   "outputs": [],
   "source": []
  }
 ],
 "metadata": {
  "kernelspec": {
   "display_name": "Scala",
   "language": "scala",
   "name": "scala"
  },
  "language_info": {
   "codemirror_mode": "text/x-scala",
   "file_extension": ".scala",
   "mimetype": "",
   "name": "Scala",
   "nbconverter_exporter": "",
   "version": "2.11.12"
  }
 },
 "nbformat": 4,
 "nbformat_minor": 2
}
