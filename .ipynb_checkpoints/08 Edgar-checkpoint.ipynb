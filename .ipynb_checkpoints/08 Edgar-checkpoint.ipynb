{
 "cells": [
  {
   "cell_type": "markdown",
   "metadata": {},
   "source": [
    "# Edgar #\n",
    "\n",
    "In this document we demonstrate how to use the Edgar Database for the selection of the stocks into a portfilio.\n",
    "\n",
    "This functionality is using the https://pschatzmann.ch/edgar Webservice which is based on the data which is available on  https://www.sec.gov/edgar.shtml. \n",
    "\n",
    "### Setup  ###\n",
    "\n",
    "We add the necessary jars and import the related packages."
   ]
  },
  {
   "cell_type": "code",
   "execution_count": 31,
   "metadata": {},
   "outputs": [
    {
     "data": {
      "application/vnd.jupyter.widget-view+json": {
       "model_id": "",
       "version_major": 2,
       "version_minor": 0
      },
      "method": "display_data"
     },
     "metadata": {},
     "output_type": "display_data"
    },
    {
     "data": {
      "application/vnd.jupyter.widget-view+json": {
       "model_id": "",
       "version_major": 2,
       "version_minor": 0
      },
      "method": "display_data"
     },
     "metadata": {},
     "output_type": "display_data"
    },
    {
     "data": {
      "text/plain": [
       "import ch.pschatzmann.dates._\n",
       "import ch.pschatzmann.stocks._\n",
       "import ch.pschatzmann.stocks.data.universe._\n",
       "import ch.pschatzmann.stocks.input._\n",
       "import ch.pschatzmann.stocks.cache._\n",
       "import ch.pschatzmann.stocks.accounting._\n",
       "import ch.pschatzmann.stocks.accounting.kpi._\n",
       "import ch.pschatzmann.stocks.execution._\n",
       "import ch.pschatzmann.stocks.execution.fees._\n",
       "import ch.pschatzmann.stocks.execution.price._\n",
       "import ch.pschatzmann.stocks.parameters._\n",
       "import ch.pschatzmann.stocks.strategy._\n",
       "import ch.pschatzmann.stocks.strategy.optimization._\n",
       "import ch.pschatzmann.stocks.strategy.allocation._\n",
       "import ch.pschatzmann.stocks.strategy.selection._\n",
       "import ch.pschatzmann.stocks.integration._\n",
       "import ch.pschatzmann.stocks.strategy.OptimizedStrategy.Schedule._\n",
       "import java.util.stream.Collectors\n",
       "import java.ut..."
      ]
     },
     "execution_count": 31,
     "metadata": {},
     "output_type": "execute_result"
    }
   ],
   "source": [
    "%classpath config resolver maven-public http://192.168.1.10:8081/repository/maven-public/\n",
    "%classpath add mvn ch.pschatzmann:investor:0.9-SNAPSHOT\n",
    "%classpath add mvn ch.pschatzmann:jupyter-jdk-extensions:0.0.1-SNAPSHOT\n",
    "\n",
    "// our stock evaluation framwork\n",
    "import ch.pschatzmann.dates._\n",
    "import ch.pschatzmann.stocks._\n",
    "import ch.pschatzmann.stocks.data.universe._\n",
    "import ch.pschatzmann.stocks.input._\n",
    "import ch.pschatzmann.stocks.cache._\n",
    "import ch.pschatzmann.stocks.accounting._\n",
    "import ch.pschatzmann.stocks.accounting.kpi._\n",
    "import ch.pschatzmann.stocks.execution._\n",
    "import ch.pschatzmann.stocks.execution.fees._\n",
    "import ch.pschatzmann.stocks.execution.price._\n",
    "import ch.pschatzmann.stocks.parameters._\n",
    "import ch.pschatzmann.stocks.strategy._\n",
    "import ch.pschatzmann.stocks.strategy.optimization._\n",
    "import ch.pschatzmann.stocks.strategy.allocation._\n",
    "import ch.pschatzmann.stocks.strategy.selection._\n",
    "import ch.pschatzmann.stocks.integration._\n",
    "import ch.pschatzmann.stocks.strategy.OptimizedStrategy.Schedule._\n",
    "\n",
    "// java\n",
    "import java.util.stream.Collectors\n",
    "import java.util._\n",
    "import java.lang._\n",
    "import java.util.function.Consumer\n",
    "import scala.collection.JavaConverters\n",
    "\n",
    "/// jupyter custom displayer\n",
    "import ch.pschatzmann.display._"
   ]
  },
  {
   "cell_type": "code",
   "execution_count": null,
   "metadata": {},
   "outputs": [],
   "source": [
    "org.apache.log4j.PropertyConfigurator.configure(\"log4j.properties\")\n",
    "\n",
    "Displayers.setup()\n",
    "Context.setDefaultStartDate(Context.date(\"2010-01-01\"))\n",
    "\n",
    "Context.isCacheActive()\n"
   ]
  },
  {
   "cell_type": "markdown",
   "metadata": {},
   "source": [
    "### EdgarUniverse  ###\n",
    "\n",
    "We can use the EdgarUniverse to select stocks which are available in the Edgar Database. \n",
    "The data is selected by specifying one or mulitple parameters for one year or for multiple years if we define a list of multiplication factors which define the weights for each year:  E.g (1.0, 1.0, 1.0) is selecting 3 years where the values are fully counted.\n",
    "\n",
    "If no parmameter is specified we use the following list: \"NetIncomeLoss\",\"ProfitLoss\",\"OperatingIncomeLoss\".\n",
    "\n",
    "Here are a couple of examples:"
   ]
  },
  {
   "cell_type": "code",
   "execution_count": 33,
   "metadata": {},
   "outputs": [
    {
     "data": {
      "text/plain": [
       "[AAPL, BRKA, VZ, CMCSA, PFE, MSFT, XOM, FB, PG, GOOG]"
      ]
     },
     "execution_count": 33,
     "metadata": {},
     "output_type": "execute_result"
    }
   ],
   "source": [
    "// top 10 companyies with the highest Net Income in the year 2017\n",
    "new EdgarUniverse(2017).list(10)"
   ]
  },
  {
   "cell_type": "code",
   "execution_count": 34,
   "metadata": {},
   "outputs": [
    {
     "data": {
      "text/plain": [
       "[AAPL, BRKA, VZ, GOOG,  GOOGL, XOM, IBM, MSFT, GS, ORCL]"
      ]
     },
     "execution_count": 34,
     "metadata": {},
     "output_type": "execute_result"
    }
   ],
   "source": [
    "// top 10 companyies with the highest Net Income in the year 2015\n",
    "new EdgarUniverse(2015, Arrays.asList(\"NetIncomeLoss\")).list(10)"
   ]
  },
  {
   "cell_type": "code",
   "execution_count": 35,
   "metadata": {},
   "outputs": [
    {
     "data": {
      "text/plain": [
       "[GOOG,  GOOGL, MSFT, AAPL, MRK, F, CSCO, BMY, ORCL, GE]"
      ]
     },
     "execution_count": 35,
     "metadata": {},
     "output_type": "execute_result"
    }
   ],
   "source": [
    "// top 10 companyies with the highest R&D in the year 2017\n",
    "new EdgarUniverse(2015, Arrays.asList(\"ResearchAndDevelopmentExpense\")).list(10)"
   ]
  },
  {
   "cell_type": "code",
   "execution_count": 36,
   "metadata": {},
   "outputs": [
    {
     "data": {
      "text/plain": [
       "[AAPL, XOM, BRKA, MSFT, GOOG,  GOOGL, GS, PFE, VZ, ORCL]"
      ]
     },
     "execution_count": 36,
     "metadata": {},
     "output_type": "execute_result"
    }
   ],
   "source": [
    "// top 10 companyies with the highest Net Income in the year 2015-2017 \n",
    "new EdgarUniverse(2015, Arrays.asList(0.5, 0.8, 1.0), Arrays.asList(\"NetIncomeLoss\"), true).list(10)"
   ]
  },
  {
   "cell_type": "code",
   "execution_count": 37,
   "metadata": {},
   "outputs": [
    {
     "data": {
      "text/plain": [
       "[SPR, UFCS, HMG, TTD, LBMH, BANC, GORO, LIND, ANIP, LAND]"
      ]
     },
     "execution_count": 37,
     "metadata": {},
     "output_type": "execute_result"
    }
   ],
   "source": [
    "// top 10 companyies with the highest Net Income Increases in the year 2014-2017 \n",
    "var u = new EdgarUniverse(2015, Arrays.asList(0.2, 0.5, 0.8, 1.0), Arrays.asList(\"NetIncomeLoss\"), true)\n",
    "u.setCalculatePercentChange(true)\n",
    "u.list(10)"
   ]
  },
  {
   "cell_type": "code",
   "execution_count": 38,
   "metadata": {},
   "outputs": [
    {
     "data": {
      "text/plain": [
       "[HMG, TTD, LBMH, BANC, GORO, LIND, ANIP, JOE, EEP, CCBG]"
      ]
     },
     "execution_count": 38,
     "metadata": {},
     "output_type": "execute_result"
    }
   ],
   "source": [
    "// top 10 companyies with the highest Net Income Increases in the year 2015-2017 \n",
    "var u = new EdgarUniverse(2015, Arrays.asList(0.5, 0.8, 1.0), Arrays.asList(\"NetIncomeLoss\"), true)\n",
    "u.setCalculatePercentChange(true)\n",
    "u.list(10)"
   ]
  },
  {
   "cell_type": "markdown",
   "metadata": {},
   "source": [
    "### Selection of valid Traded Stocks  ###\n"
   ]
  },
  {
   "cell_type": "markdown",
   "metadata": {},
   "source": [
    "We might need to filter the provided values from Edgar in order to make sure that we get only records which are valid on a defined trading platform:"
   ]
  },
  {
   "cell_type": "code",
   "execution_count": 40,
   "metadata": {},
   "outputs": [
    {
     "data": {
      "text/plain": [
       "6603"
      ]
     },
     "execution_count": 40,
     "metadata": {},
     "output_type": "execute_result"
    }
   ],
   "source": [
    "var validStocks = new ListUniverse(new NasdaqUniverse().list(), new NyseUniverse().list()).list()\n",
    "\n",
    "validStocks.size()"
   ]
  },
  {
   "cell_type": "code",
   "execution_count": 41,
   "metadata": {},
   "outputs": [
    {
     "data": {
      "text/plain": [
       "[GOOG, MSFT, AAPL, MRK, F, CSCO, BMY, ORCL, GE, IBM]"
      ]
     },
     "execution_count": 41,
     "metadata": {},
     "output_type": "execute_result"
    }
   ],
   "source": [
    "var edgarUniverse = new EdgarUniverse(2015, Arrays.asList(\"ResearchAndDevelopmentExpense\"))\n",
    "\n",
    "var edgarStocks = edgarUniverse.list(10, validStocks)"
   ]
  },
  {
   "cell_type": "markdown",
   "metadata": {},
   "source": [
    "We will collect the result (Absolute Return) in the following list:"
   ]
  },
  {
   "cell_type": "code",
   "execution_count": 42,
   "metadata": {},
   "outputs": [
    {
     "data": {
      "application/vnd.jupyter.widget-view+json": {
       "model_id": "567669d4-984f-4e4a-ad3c-cd1eefffd663",
       "version_major": 2,
       "version_minor": 0
      },
      "method": "display_data"
     },
     "metadata": {},
     "output_type": "display_data"
    }
   ],
   "source": [
    "var resultMap = new java.util.TreeMap[String,Double]()"
   ]
  },
  {
   "cell_type": "markdown",
   "metadata": {},
   "source": [
    "### Selection of the Stocks with the Highest Profits  ###\n",
    "\n",
    "For the past n years we determine the top n stocks of the previos year and we execute the evaluation of the selected stock with the best strategies. The portfiolio of selected stocks is updated every year.\n",
    "\n",
    "We determine the Universe and the trading strategy selection for the prior year and then execute the strategy for the current period. \n",
    "\n",
    "If a stock has been deselected (from the latest universe) the system waits for the next sell signal to liquidate the stock."
   ]
  },
  {
   "cell_type": "code",
   "execution_count": null,
   "metadata": {},
   "outputs": [],
   "source": [
    "var reader = Context.getDefaultReader()\n",
    "var periods = Context.getDateRanges(\"2011-01-01\",\"2012-01-01\",\"2013-01-01\",\"2014-01-01\",\"2015-01-01\",\"2016-01-01\",\"2017-01-01\");\n",
    "var account = new Account(\"Simulation\", \"USD\", 100000.00, periods.get(0).getStart(), new PerTradeFees(6.95))\n",
    "var strategies = TradingStrategyFactory.list()\n",
    "var trader = new PaperTrader(account)\n",
    "var allocationStrategy = new DistributedAllocationStrategy(trader)\n",
    "var executor = new StrategyExecutor(trader, allocationStrategy)\n",
    "\n",
    "for (i <- 1 to 5) { \n",
    "    var year = Context.getYear(periods.get(i-1).getStart())\n",
    "    var edgarUniverse = new EdgarUniverse(year)\n",
    "    var stocks = edgarUniverse.list(10, validStocks)\n",
    "    var strategySelector = new StrategySelector(account, strategies, periods.get(i-1), KPI.AbsoluteReturn)\n",
    "    var stockSelector = new StockSelector(strategySelector)\n",
    "    var result = stockSelector.getSelection(10, stocks, reader)\n",
    "    executor.setStrategies(result.getStrategies(reader))\n",
    "    executor.run(periods.get(i))\n",
    "}  \n",
    "account.setCloseDate(periods.get(5).getEnd())                                    \n",
    "var kpi = account.getKPIValues()\n",
    "resultMap.put(\"Highest Profits\", account.getKPIValue(KPI.AbsoluteReturn))\n",
    "\n",
    "kpi.getMap()"
   ]
  },
  {
   "cell_type": "code",
   "execution_count": null,
   "metadata": {},
   "outputs": [],
   "source": [
    "// create chart for total values\n",
    "var totalHistory = HistoricValues.create(account.getTotalValueHistory(), \"TotalValue\")\n",
    "var cashHistory = HistoricValues.create(account.getCashHistoryForAllDates(), \"Cash\")\n",
    "var actualHistory = HistoricValues.create(account.getActualValueHistory(), \"ActualValue\")\n",
    "var historyTable = Table.create(totalHistory, cashHistory, actualHistory)\n",
    "\n",
    "new SimpleTimePlot {\n",
    "    data = historyTable.seq\n",
    "    columns = Seq(\"TotalValue\",\"Cash\",\"ActualValue\")\n",
    "    showLegend = false\n",
    "}"
   ]
  },
  {
   "cell_type": "markdown",
   "metadata": {},
   "source": [
    "### Immediate Liquidation  ###\n",
    "\n",
    "With executor.setImmediateLiquidationOfDiscontinuedStocks(true) we can make sure that the stock is liquidated at the beginning of the period. Per default this setting is set to false.\n",
    "\n",
    "In our example however this does not make any difference."
   ]
  },
  {
   "cell_type": "code",
   "execution_count": 45,
   "metadata": {},
   "outputs": [
    {
     "data": {
      "text/plain": [
       "[Absolute Return 51662.562005999935, Absolute Return Avarage per day 34.21361722251651, Absolute Return StdDev 917.655778361019, Return % 51.66256200599994, Return % per year 8.616125496698865, Return % StdDev 0.007055949885018459, Sharp Ratio 0.6766176703814482, Max Draw Down % 14.193663716586624, Max Draw Down Absolute 20805.15583600002, Max Draw Down - Number of days 244, Max Draw Down - High 146580.588715, Max Draw Down - Low 125775.43287899997, Max Draw Down - Period 20150720-20150825, Number of Trades 406, Number of Buys 148, Number of Sells 244, Number of Cash Transfers 1, Number of Traded Stocks 17, Total Fees 2724.4, Cash 1606.4638819999668, Total Value (at actual rates) including cash 153361.62169799994, Total Value (at purchased rates) 136685.52389939636, Realized Gains 39409.92389939642, Unrealized Gains 16676.097798603576]"
      ]
     },
     "execution_count": 45,
     "metadata": {},
     "output_type": "execute_result"
    }
   ],
   "source": [
    "var reader = Context.getDefaultReader()\n",
    "var periods = Context.getDateRanges(\"2011-01-01\",\"2012-01-01\",\"2013-01-01\",\"2014-01-01\",\"2015-01-01\",\"2016-01-01\",\"2017-01-01\") \n",
    "var account = new Account(\"Simulation\", \"USD\", 100000.00, periods.get(0).getStart(), new PerTradeFees(6.95))\n",
    "var strategies = TradingStrategyFactory.list()\n",
    "var trader = new PaperTrader(account)\n",
    "var allocationStrategy = new DistributedAllocationStrategy(trader)\n",
    "var executor = new StrategyExecutor(trader, allocationStrategy)\n",
    "executor.setImmediateLiquidationOfDiscontinuedStocks(true)\n",
    "\n",
    "for (i <- 1 to 5) { \n",
    "    var year = Context.getYear(periods.get(i-1).getStart())\n",
    "    var edgarUniverse = new EdgarUniverse(year)\n",
    "    var stocks = edgarUniverse.list(10, validStocks)\n",
    "    var strategySelector = new StrategySelector(account, strategies, periods.get(i-1), KPI.AbsoluteReturn)\n",
    "    var stockSelector = new StockSelector(strategySelector)\n",
    "    var result = stockSelector.getSelection(10, stocks, reader)\n",
    "    executor.setStrategies(result.getStrategies(reader))\n",
    "    executor.run(periods.get(i));\n",
    "}  \n",
    "account.setCloseDate(periods.get(5).getEnd())                                    \n",
    "var kpi = account.getKPIValues()\n",
    "resultMap.put(\"Highest Profits (immediate liquidation)\",account.getKPIValue(KPI.AbsoluteReturn))\n",
    "\n",
    "kpi"
   ]
  },
  {
   "cell_type": "markdown",
   "metadata": {},
   "source": [
    "### The Highest NetIncomeLoss for the last 4 years  ###\n",
    "\n",
    "In the examples above we did the selection of stocks from edgar based on one year. In the following example we use 4\n",
    "years with decreasing weights into the past."
   ]
  },
  {
   "cell_type": "code",
   "execution_count": 46,
   "metadata": {},
   "outputs": [
    {
     "data": {
      "text/plain": [
       "[Absolute Return 68099.755673, Absolute Return Avarage per day 45.09917594238411, Absolute Return StdDev 1016.5276785421104, Return % 68.099755673, Return % per year 11.357470833617473, Return % StdDev 0.0071812280882744, Sharp Ratio 0.8175079138125857, Max Draw Down % 15.982169793403575, Max Draw Down Absolute 26331.814440000016, Max Draw Down - Number of days 388, Max Draw Down - High 164757.44395400002, Max Draw Down - Low 138425.629514, Max Draw Down - Period 20150521-20150825, Number of Trades 319, Number of Buys 125, Number of Sells 189, Number of Cash Transfers 1, Number of Traded Stocks 14, Total Fees 2182.3, Cash 7691.2396179999905, Total Value (at actual rates) including cash 170106.915752, Total Value (at purchased rates) 145444.21952841277, Realized Gains 47626.51952841277, Unrealized Gains 24662.69622358723]"
      ]
     },
     "execution_count": 46,
     "metadata": {},
     "output_type": "execute_result"
    }
   ],
   "source": [
    "var reader = Context.getDefaultReader()\n",
    "var periods = Context.getDateRanges(\"2011-01-01\",\"2012-01-01\",\"2013-01-01\",\"2014-01-01\",\"2015-01-01\",\"2016-01-01\",\"2017-01-01\")\n",
    "var account = new Account(\"Simulation\", \"USD\", 100000.00, periods.get(0).getStart(), new PerTradeFees(6.95))\n",
    "var strategies = TradingStrategyFactory.list()\n",
    "var trader = new PaperTrader(account);\n",
    "var allocationStrategy = new DistributedAllocationStrategy(trader)\n",
    "var executor = new StrategyExecutor(trader, allocationStrategy)\n",
    "\n",
    "for (i <- 1 to 5) { \n",
    "    var year = Context.getYear(periods.get(i-1).getStart());\n",
    "    var edgarUniverse =  new EdgarUniverse(year, Arrays.asList(0.1, 0.3, 0.5, 1.0), Arrays.asList(\"NetIncomeLoss\"), true)                                \n",
    "    var stocks = edgarUniverse.list(10, validStocks)    \n",
    "    var strategySelector = new StrategySelector(account, strategies, periods.get(i-1), KPI.AbsoluteReturn)\n",
    "    var stockSelector = new StockSelector(strategySelector)\n",
    "    var result = stockSelector.getSelection(10, stocks, reader)\n",
    "    executor.setStrategies(result.getStrategies(reader))\n",
    "    executor.run(periods.get(i))\n",
    "}  \n",
    "account.setCloseDate(periods.get(5).getEnd())                                    \n",
    "var kpi = account.getKPIValues()\n",
    "resultMap.put(\"Highest Profits (last 4 years)\",account.getKPIValue(KPI.AbsoluteReturn))\n",
    "\n",
    "kpi"
   ]
  },
  {
   "cell_type": "code",
   "execution_count": 47,
   "metadata": {},
   "outputs": [
    {
     "data": {
      "text/html": [
       "<table ><tr><th>Key</th><th>Value</th></tr><tr><td>AAPL</td><td>76446.121</td></tr><tr><td>COP</td><td>78268.6177</td></tr><tr><td>F</td><td>79117.7617</td></tr><tr><td>GE</td><td>80743.7964</td></tr><tr><td>GOOG</td><td>92219.1108</td></tr><tr><td>GS</td><td>106110.0876</td></tr><tr><td>MRK</td><td>114738.4255</td></tr><tr><td>MSFT</td><td>119708.2318</td></tr><tr><td>ORCL</td><td>119956.3719</td></tr><tr><td>PFE</td><td>128284.6534</td></tr><tr><td>PG</td><td>133210.6665</td></tr><tr><td>SLB</td><td>132880.8125</td></tr><tr><td>VZ</td><td>134822.263</td></tr><tr><td>XOM</td><td>136199.5113</td></tr></table>"
      ]
     },
     "execution_count": 47,
     "metadata": {},
     "output_type": "execute_result"
    }
   ],
   "source": [
    "Displayers.display(account.getKPIValueByStockID(KPI.AbsoluteReturn))"
   ]
  },
  {
   "cell_type": "markdown",
   "metadata": {},
   "source": [
    "### The Highest NetIncomeLoss % Changes for the last 4 years  ###\n",
    "\n",
    "In the previos examples we used the absolte parameter values to select the stock. In the following example we use\n",
    "the calculated percent increase to do the selection the method\n",
    "\n",
    "    u3.setCalculatePercentChange(true, 1000000)               \n",
    "    \n",
    "activates the calculation of percentages but only for values > 1000000. We are not interrested in fast growing low profit stocks! \n",
    "\n"
   ]
  },
  {
   "cell_type": "code",
   "execution_count": 48,
   "metadata": {},
   "outputs": [
    {
     "data": {
      "text/plain": [
       "[Absolute Return 125076.16840099983, Absolute Return Avarage per day 82.83189960331114, Absolute Return StdDev 1686.0951762493635, Return % 125.07616840099982, Return % per year 20.85982424689077, Return % StdDev 0.01025821806772452, Sharp Ratio 0.9129924804470868, Max Draw Down % 20.29146502964034, Max Draw Down Absolute 44763.099231, Max Draw Down - Number of days 359, Max Draw Down - High 220600.6277299999, Max Draw Down - Low 175837.5284989999, Max Draw Down - Period 20150623-20160209, Number of Trades 2348, Number of Buys 956, Number of Sells 1250, Number of Cash Transfers 1, Number of Traded Stocks 24, Total Fees 15331.7, Cash 6691.298145999879, Total Value (at actual rates) including cash 226700.39976799986, Total Value (at purchased rates) 204226.9376677006, Realized Gains 119558.63766770074, Unrealized Gains 22473.462100299268]"
      ]
     },
     "execution_count": 48,
     "metadata": {},
     "output_type": "execute_result"
    }
   ],
   "source": [
    "var reader = Context.getDefaultReader()\n",
    "var periods = Context.getDateRanges(\"2011-01-01\",\"2012-01-01\",\"2013-01-01\",\"2014-01-01\",\"2015-01-01\",\"2016-01-01\",\"2017-01-01\")\n",
    "var account = new Account(\"Simulation\", \"USD\", 100000.00, periods.get(0).getStart(), new PerTradeFees(6.95))\n",
    "var strategies = TradingStrategyFactory.list()\n",
    "var trader = new PaperTrader(account)\n",
    "var allocationStrategy = new DistributedAllocationStrategy(trader)\n",
    "var executor = new StrategyExecutor(trader, allocationStrategy)\n",
    "\n",
    "for (i <- 1 to 5) { \n",
    "    var year = Context.getYear(periods.get(i-1).getStart())\n",
    "    var edgarUniverse =  new EdgarUniverse(year, Arrays.asList(0.2, 0.5, 0.8, 1.0), Arrays.asList(\"NetIncomeLoss\"), true)                                \n",
    "    edgarUniverse.setCalculatePercentChange(true, 1000000)                             \n",
    "    var stocks = edgarUniverse.list(10, validStocks)    \n",
    "    // select only entries for which we have rates\n",
    "    var strategySelector = new StrategySelector(account, strategies, periods.get(i-1), KPI.AbsoluteReturn)\n",
    "    var stockSelector = new StockSelector(strategySelector)\n",
    "    var result = stockSelector.getSelection(10, stocks, reader)\n",
    "    executor.setStrategies(result.getStrategies(reader))\n",
    "    executor.run(periods.get(i));\n",
    "}  \n",
    "account.setCloseDate(periods.get(5).getEnd())                                    \n",
    "var kpi = account.getKPIValues()\n",
    "resultMap.put(\"Highest % Change Profits (last 4 years)\",account.getKPIValue(KPI.AbsoluteReturn))\n",
    "\n",
    "kpi"
   ]
  },
  {
   "cell_type": "code",
   "execution_count": null,
   "metadata": {},
   "outputs": [],
   "source": [
    "Displayers.display(account.getKPIValueByStockID(KPI.AbsoluteReturn))"
   ]
  },
  {
   "cell_type": "markdown",
   "metadata": {},
   "source": [
    "### The top R & D for the last 4 years  ###\n",
    "\n",
    "We assume that companies with higher R&D will be more prifitable in the futrue. Thefore we run a selection based on the\n",
    "ResearchAndDevelopmentExpense parameter."
   ]
  },
  {
   "cell_type": "code",
   "execution_count": null,
   "metadata": {},
   "outputs": [],
   "source": [
    "var reader = Context.getDefaultReader()\n",
    "var periods = Context.getDateRanges(\"2011-01-01\",\"2012-01-01\",\"2013-01-01\",\"2014-01-01\",\"2015-01-01\",\"2016-01-01\",\"2017-01-01\")\n",
    "var account = new Account(\"Simulation\", \"USD\", 100000.00, periods.get(0).getStart(), new PerTradeFees(6.95))\n",
    "var strategies = TradingStrategyFactory.list()\n",
    "var trader = new PaperTrader(account);\n",
    "var allocationStrategy = new DistributedAllocationStrategy(trader)\n",
    "var executor = new StrategyExecutor(trader, allocationStrategy)\n",
    "\n",
    "for (i <- 1 to 5) { \n",
    "    var year = Context.getYear(periods.get(i-1).getStart())\n",
    "    var edgarUniverse =  new EdgarUniverse(year, Arrays.asList(0.2, 0.5, 0.8, 1.0), Arrays.asList(\"ResearchAndDevelopmentExpense\"), true)                                \n",
    "    var stocks = edgarUniverse.list(10, validStocks)    \n",
    "    var strategySelector = new StrategySelector(account, strategies, periods.get(i-1), KPI.AbsoluteReturn)\n",
    "    var stockSelector = new StockSelector(strategySelector)\n",
    "    var result = stockSelector.getSelection(10, stocks, reader)\n",
    "    executor.setStrategies(result.getStrategies(reader))\n",
    "    executor.run(periods.get(i));\n",
    "}  \n",
    "account.setCloseDate(periods.get(5).getEnd())                                    \n",
    "var kpi = account.getKPIValues()\n",
    "resultMap.put(\"Highest R&D (last 4 years)\",account.getKPIValue(KPI.AbsoluteReturn))\n",
    "\n",
    "kpi"
   ]
  },
  {
   "cell_type": "markdown",
   "metadata": {},
   "source": [
    "### Combining Multiple Edgar Universes  ###\n",
    "\n",
    "Finally we verfiy the result if we combine multiple Edgar universe queries. Out of the 30 selected strategies we use the top 10"
   ]
  },
  {
   "cell_type": "code",
   "execution_count": null,
   "metadata": {},
   "outputs": [],
   "source": [
    "var reader = Context.getDefaultReader()\n",
    "var periods = Context.getDateRanges(\"2011-01-01\",\"2012-01-01\",\"2013-01-01\",\"2014-01-01\",\"2015-01-01\",\"2016-01-01\",\"2017-01-01\")\n",
    "var account = new Account(\"Simulation\", \"USD\", 100000.00, periods.get(0).getStart(), new PerTradeFees(6.95))\n",
    "var strategies = TradingStrategyFactory.list()\n",
    "var trader = new PaperTrader(account)\n",
    "var allocationStrategy = new DistributedAllocationStrategy(trader)\n",
    "var executor = new StrategyExecutor(trader, allocationStrategy)\n",
    "\n",
    "for (i <- 1 to 5) { \n",
    "    var year = Context.getYear(periods.get(i-1).getStart());\n",
    "    var u1 = new EdgarUniverse(year, Arrays.asList(0.1, 0.3, 0.5, 1.0), Arrays.asList(\"NetIncomeLoss\"), true)\n",
    "    var u2 = new EdgarUniverse(year, Arrays.asList(0.2, 0.5, 0.8, 1.0), Arrays.asList(\"ResearchAndDevelopmentExpense\"), true)\n",
    "    var u3 = new EdgarUniverse(year, Arrays.asList(0.2, 0.5, 0.8, 1.0), Arrays.asList(\"NetIncomeLoss\"), true)                             \n",
    "    u3.setCalculatePercentChange(true, 1000000)                             \n",
    "    var listUniverse = new ListUniverse(u1.list(10,validStocks), u2.list(10,validStocks), u3.list(10,validStocks))                              \n",
    "    var strategySelector = new StrategySelector(account, strategies, periods.get(i-1), KPI.AbsoluteReturn)\n",
    "    var stockSelector = new StockSelector(strategySelector)\n",
    "    var result = stockSelector.getSelection(10, listUniverse.list(), reader)\n",
    "    executor.setStrategies(result.getStrategies(reader));\n",
    "    executor.run(periods.get(i));\n",
    "}  \n",
    "account.setCloseDate(periods.get(5).getEnd())                                    \n",
    "var kpi = account.getKPIValues()\n",
    "resultMap.put(\"Highest Profit,Profit Growth, R&D (last 4 years) top 10\",account.getKPIValue(KPI.AbsoluteReturn))\n",
    "\n",
    "kpi"
   ]
  },
  {
   "cell_type": "markdown",
   "metadata": {},
   "source": [
    "We combine multiple Edgar universe queries. Out of the 30 selected strategies we use all strategies"
   ]
  },
  {
   "cell_type": "code",
   "execution_count": null,
   "metadata": {},
   "outputs": [],
   "source": [
    "var reader = Context.getDefaultReader()\n",
    "var periods = Context.getDateRanges(\"2011-01-01\",\"2012-01-01\",\"2013-01-01\",\"2014-01-01\",\"2015-01-01\",\"2016-01-01\",\"2017-01-01\")\n",
    "var account = new Account(\"Simulation\", \"USD\", 100000.00, periods.get(0).getStart(), new PerTradeFees(6.95))\n",
    "var strategies = TradingStrategyFactory.list()\n",
    "var trader = new PaperTrader(account)\n",
    "var allocationStrategy = new DistributedAllocationStrategy(trader)\n",
    "var executor = new StrategyExecutor(trader, allocationStrategy)\n",
    "\n",
    "for (i <- 1 to 5) { \n",
    "    var year = Context.getYear(periods.get(i-1).getStart());\n",
    "    var portfolioUniverse = new ListUniverse()\n",
    "    var u1 = new EdgarUniverse(year, Arrays.asList(0.1, 0.3, 0.5, 1.0), Arrays.asList(\"NetIncomeLoss\"), true)\n",
    "    var u2 = new EdgarUniverse(year, Arrays.asList(0.2, 0.5, 0.8, 1.0), Arrays.asList(\"ResearchAndDevelopmentExpense\"), true)\n",
    "    var u3 = new EdgarUniverse(year, Arrays.asList(0.2, 0.5, 0.8, 1.0), Arrays.asList(\"NetIncomeLoss\"), true)                            \n",
    "    u3.setCalculatePercentChange(true, 1000000)                             \n",
    "    var listUniverse = new ListUniverse(u1.list(10, validStocks), u2.list(10, validStocks), u3.list(10, validStocks))\n",
    "                              \n",
    "    var strategySelector = new StrategySelector(account, strategies, periods.get(i-1), KPI.AbsoluteReturn)\n",
    "    var stockSelector = new StockSelector(strategySelector)\n",
    "    var result = stockSelector.getSelection(30, listUniverse.list(), reader)\n",
    "    executor.setStrategies(result.getStrategies(reader))\n",
    "    executor.run(periods.get(i))\n",
    "}  \n",
    "account.setCloseDate(periods.get(5).getEnd())                                    \n",
    "var kpi = account.getKPIValues()\n",
    "resultMap.put(\"Highest Profit,Profit Growth, R&D (last 4 years) 30 stocks\",account.getKPIValue(KPI.AbsoluteReturn))\n",
    "\n",
    "kpi"
   ]
  },
  {
   "cell_type": "markdown",
   "metadata": {},
   "source": [
    "### The Best of the Best ###\n",
    "\n",
    "We anly take the stocks which have the best NetIncome AND R%D AND Income Growth:"
   ]
  },
  {
   "cell_type": "code",
   "execution_count": null,
   "metadata": {},
   "outputs": [],
   "source": [
    "var reader = Context.getDefaultReader()\n",
    "var periods = Context.getDateRanges(\"2011-01-01\",\"2012-01-01\",\"2013-01-01\",\"2014-01-01\",\"2015-01-01\",\"2016-01-01\",\"2017-01-01\")\n",
    "var account = new Account(\"Simulation\", \"USD\", 100000.00, periods.get(0).getStart(), new PerTradeFees(6.95))\n",
    "var strategies = TradingStrategyFactory.list()\n",
    "var trader = new PaperTrader(account);\n",
    "var allocationStrategy = new DistributedAllocationStrategy(trader)\n",
    "var executor = new StrategyExecutor(trader, allocationStrategy)\n",
    "\n",
    "for (i <- 1 to 5) { \n",
    "    var year = Context.getYear(periods.get(i-1).getStart());\n",
    "    var u1 = new EdgarUniverse(year, Arrays.asList(0.1, 0.3, 0.5, 1.0), Arrays.asList(\"NetIncomeLoss\"), true)\n",
    "    var u2 = new EdgarUniverse(year, Arrays.asList(0.2, 0.5, 0.8, 1.0), Arrays.asList(\"ResearchAndDevelopmentExpense\"), true)\n",
    "    var u3 = new EdgarUniverse(year, Arrays.asList(0.2, 0.5, 0.8, 1.0), Arrays.asList(\"NetIncomeLoss\"), true)                            \n",
    "    u3.setCalculatePercentChange(true, 1000000)   \n",
    "    \n",
    "    var listUniverse = new ListUniverse(u1.list(50, validStocks))\n",
    "    listUniverse.retainAll(u2.list(50, validStocks))\n",
    "    listUniverse.retainAll(u3.list(50, validStocks))\n",
    "                              \n",
    "    var strategySelector = new StrategySelector(account, strategies, periods.get(i-1), KPI.AbsoluteReturn)\n",
    "    var stockSelector = new StockSelector(strategySelector)\n",
    "    var result = stockSelector.getSelection(10, listUniverse.list(), reader)\n",
    "    executor.setStrategies(result.getStrategies(reader))\n",
    "    executor.run(periods.get(i))\n",
    "}  \n",
    "account.setCloseDate(periods.get(5).getEnd())                                    \n",
    "var kpi = account.getKPIValues()\n",
    "resultMap.put(\"Highest Profit & Profit Growth & R&D (last 4 years) top 10\",account.getKPIValue(KPI.AbsoluteReturn))\n",
    "\n",
    "kpi"
   ]
  },
  {
   "cell_type": "markdown",
   "metadata": {},
   "source": [
    "### Evaluation by Stock  ###\n",
    "\n",
    "Finally we check the contribution of each stock to the final result"
   ]
  },
  {
   "cell_type": "code",
   "execution_count": null,
   "metadata": {},
   "outputs": [],
   "source": [
    "account.getStockIDs()"
   ]
  },
  {
   "cell_type": "code",
   "execution_count": null,
   "metadata": {},
   "outputs": [],
   "source": [
    "Displayers.display(account.getKPIValueByStockID(KPI.AbsoluteReturn))"
   ]
  },
  {
   "cell_type": "markdown",
   "metadata": {},
   "source": [
    "### Baseline: Combining Multiple Edgar Universes (Buy and Hold) ###\n",
    "\n",
    "We just use the BuyAndHoldStrategy to evaluate the result"
   ]
  },
  {
   "cell_type": "code",
   "execution_count": null,
   "metadata": {},
   "outputs": [],
   "source": [
    "var reader = Context.getDefaultReader()\n",
    "var periods = Context.getDateRanges(\"2011-01-01\",\"2012-01-01\",\"2013-01-01\",\"2014-01-01\",\"2015-01-01\",\"2016-01-01\",\"2017-01-01\")\n",
    "var account = new Account(\"Simulation\", \"USD\", 100000.00, periods.get(0).getStart(), new PerTradeFees(6.95))\n",
    "var strategies = Arrays.asList(\"BuyAndHoldStrategy\")\n",
    "var trader = new PaperTrader(account);\n",
    "var allocationStrategy = new DistributedAllocationStrategy(trader)\n",
    "var executor = new StrategyExecutor(trader, allocationStrategy)\n",
    "\n",
    "for (i <- 1 to 5) { \n",
    "    var year = Context.getYear(periods.get(i-1).getStart());\n",
    "    var listUniverse = new ListUniverse()\n",
    "    var u1 = new EdgarUniverse(year, Arrays.asList(0.1, 0.3, 0.5, 1.0), Arrays.asList(\"NetIncomeLoss\"), true)\n",
    "    var u2 = new EdgarUniverse(year, Arrays.asList(0.2, 0.5, 0.8, 1.0), Arrays.asList(\"ResearchAndDevelopmentExpense\"), true)\n",
    "    var u3 = new EdgarUniverse(year, Arrays.asList(0.2, 0.5, 0.8, 1.0), Arrays.asList(\"NetIncomeLoss\"), true)                            \n",
    "    u3.setCalculatePercentChange(true, 1000000)                             \n",
    "    listUniverse.add(u1.list(10, validStocks), u2.list(10, validStocks), u3.list(10, validStocks))\n",
    "\n",
    "    var strategySelector = new StrategySelector(account, strategies, periods.get(i-1), KPI.AbsoluteReturn)\n",
    "    var stockSelector = new StockSelector(strategySelector)\n",
    "    var result = stockSelector.getSelection(10, listUniverse.list(), reader)\n",
    "    executor.setStrategies(result.getStrategies(reader))\n",
    "    executor.run(periods.get(i))\n",
    "}  \n",
    "account.setCloseDate(periods.get(5).getEnd())                                    \n",
    "var kpi = account.getKPIValues()\n",
    "resultMap.put(\"Highest Profit,Profit Growth, R&D -Buy and Hold- (last 4 years)\",account.getKPIValue(KPI.AbsoluteReturn))\n",
    "\n",
    "kpi"
   ]
  },
  {
   "cell_type": "markdown",
   "metadata": {},
   "source": [
    "### Final Comparision  ###\n"
   ]
  },
  {
   "cell_type": "code",
   "execution_count": null,
   "metadata": {},
   "outputs": [],
   "source": [
    "Displayers.display(resultMap)"
   ]
  },
  {
   "cell_type": "code",
   "execution_count": null,
   "metadata": {},
   "outputs": [],
   "source": [
    "resultMap"
   ]
  },
  {
   "cell_type": "markdown",
   "metadata": {},
   "source": [
    "### Survivorship Bias ##\n",
    "\n",
    "The result suffers from survivorship bias: We ignore the stocks that have not survived because we filter on the stocks which are traded today. So lets get the list of stocks which were ignored and double check if there companies went bust..."
   ]
  },
  {
   "cell_type": "code",
   "execution_count": null,
   "metadata": {},
   "outputs": [],
   "source": [
    "var listUniverse = new ListUniverse()\n",
    "\n",
    "for (i <- 1 to 5) { \n",
    "    var year = Context.getYear(periods.get(i-1).getStart());\n",
    "    var u1 = new EdgarUniverse(year, Arrays.asList(0.1, 0.3, 0.5, 1.0), Arrays.asList(\"NetIncomeLoss\"), true)\n",
    "    var u2 = new EdgarUniverse(year, Arrays.asList(0.2, 0.5, 0.8, 1.0), Arrays.asList(\"ResearchAndDevelopmentExpense\"), true)\n",
    "    var u3 = new EdgarUniverse(year, Arrays.asList(0.2, 0.5, 0.8, 1.0), Arrays.asList(\"NetIncomeLoss\"), true)                            \n",
    "    u3.setCalculatePercentChange(true, 1000000)                             \n",
    "    listUniverse.add(u1.list(10), u2.list(10), u3.list(10))\n",
    "}\n",
    "\n",
    "listUniverse.removeAll(validStocks)\n",
    " \n",
    "llistUniverse\n"
   ]
  },
  {
   "cell_type": "code",
   "execution_count": null,
   "metadata": {},
   "outputs": [],
   "source": [
    "\n",
    "new IEXUniverse().list().contains(new StockID(\"GOOGL\",\"\"))"
   ]
  },
  {
   "cell_type": "markdown",
   "metadata": {},
   "source": [
    "      \n",
    "- BRKA\n",
    "- EVEP: Chapter 11(-)\n",
    "- GOOGL: THIS IS TRADED ON NASDAQ (OK because we selected GOOG)\n",
    "- LBMH: Merger and Delisting (+)\n",
    "- TORM: Delisting ()\n",
    "- GORO: not on nyse and nasdaq (available in IEXUnivers) ()\n",
    "\n",
    "So in a nutsehll the positive events (+) are outnumbering the negative events (-). \n",
    "\n"
   ]
  },
  {
   "cell_type": "code",
   "execution_count": null,
   "metadata": {},
   "outputs": [],
   "source": []
  }
 ],
 "metadata": {
  "kernelspec": {
   "display_name": "Scala",
   "language": "scala",
   "name": "scala"
  },
  "language_info": {
   "codemirror_mode": "text/x-scala",
   "file_extension": ".scala",
   "mimetype": "",
   "name": "Scala",
   "nbconverter_exporter": "",
   "version": "2.11.12"
  }
 },
 "nbformat": 4,
 "nbformat_minor": 2
}
