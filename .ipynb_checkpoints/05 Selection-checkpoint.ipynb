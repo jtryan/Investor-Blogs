{
 "cells": [
  {
   "cell_type": "markdown",
   "metadata": {},
   "source": [
    "# Selection of Stocks into a Portfilio #\n",
    "\n",
    "In the current document we show how you can pick the best stock and strategy combinations out of a big collecion from a universe."
   ]
  },
  {
   "cell_type": "markdown",
   "metadata": {},
   "source": [
    "## Setup ##\n",
    "### Import Libraries ###"
   ]
  },
  {
   "cell_type": "code",
   "execution_count": null,
   "metadata": {},
   "outputs": [
    {
     "name": "stdout",
     "output_type": "stream",
     "text": [
      "Added new repo: maven-public\n"
     ]
    },
    {
     "data": {
      "application/vnd.jupyter.widget-view+json": {
       "model_id": "74f42184-0b19-443a-b5e9-94faa97f3aed",
       "version_major": 2,
       "version_minor": 0
      },
      "method": "display_data"
     },
     "metadata": {},
     "output_type": "display_data"
    },
    {
     "data": {
      "application/vnd.jupyter.widget-view+json": {
       "model_id": "18201929-0dea-4530-8e37-a081f6cfa167",
       "version_major": 2,
       "version_minor": 0
      },
      "method": "display_data"
     },
     "metadata": {},
     "output_type": "display_data"
    },
    {
     "data": {
      "application/vnd.jupyter.widget-view+json": {
       "model_id": "3bf5dc4c-7410-47ba-8248-7d9132a0f6be",
       "version_major": 2,
       "version_minor": 0
      },
      "method": "display_data"
     },
     "metadata": {},
     "output_type": "display_data"
    }
   ],
   "source": [
    "%classpath config resolver maven-public http://software.pschatzmann.ch/repository/maven-public/\n",
    "%classpath add mvn ch.pschatzmann:investor:0.9-SNAPSHOT\n",
    "%classpath add mvn ch.pschatzmann:jupyter-jdk-extensions:0.0.1-SNAPSHOT\n"
   ]
  },
  {
   "cell_type": "markdown",
   "metadata": {},
   "source": [
    "### Imports ###"
   ]
  },
  {
   "cell_type": "code",
   "execution_count": null,
   "metadata": {},
   "outputs": [],
   "source": [
    "// our stock evaluation framwork\n",
    "import ch.pschatzmann.dates._;\n",
    "import ch.pschatzmann.stocks._;\n",
    "import ch.pschatzmann.stocks.data.universe._;\n",
    "import ch.pschatzmann.stocks.input._;\n",
    "import ch.pschatzmann.stocks.accounting._;\n",
    "import ch.pschatzmann.stocks.accounting.kpi._;\n",
    "import ch.pschatzmann.stocks.execution._;\n",
    "import ch.pschatzmann.stocks.execution.fees._;\n",
    "import ch.pschatzmann.stocks.execution.price._;\n",
    "import ch.pschatzmann.stocks.parameters._;\n",
    "import ch.pschatzmann.stocks.strategy._;\n",
    "import ch.pschatzmann.stocks.strategy.optimization._;\n",
    "import ch.pschatzmann.stocks.strategy.allocation._;\n",
    "import ch.pschatzmann.stocks.strategy.selection._;\n",
    "import ch.pschatzmann.stocks.integration._;\n",
    "import ch.pschatzmann.stocks.integration.ChartData.FieldName._;\n",
    "import ch.pschatzmann.stocks.strategy.OptimizedStrategy.Schedule._;\n",
    "\n",
    "// java\n",
    "import java.util.stream.Collectors;\n",
    "import java.util._;\n",
    "//import java.util.function.Consumer;\n",
    "\n",
    "/// jupyter custom displayer\n",
    "import ch.pschatzmann.display.Displayers\n"
   ]
  },
  {
   "cell_type": "markdown",
   "metadata": {},
   "source": [
    "### Setup Logging ###"
   ]
  },
  {
   "cell_type": "code",
   "execution_count": null,
   "metadata": {},
   "outputs": [],
   "source": [
    "Displayers.setup(\"WARN\")\n"
   ]
  },
  {
   "cell_type": "markdown",
   "metadata": {},
   "source": [
    "## Selection of all Stocks and Strategies ##\n",
    "\n",
    "\n",
    "First we need to specify the strategies that we want to use for the evaluation. We just use all:"
   ]
  },
  {
   "cell_type": "code",
   "execution_count": null,
   "metadata": {},
   "outputs": [],
   "source": [
    "TradingStrategyFactory.list()"
   ]
  },
  {
   "cell_type": "markdown",
   "metadata": {},
   "source": [
    "For defining the selection of stocks we use a universe \n"
   ]
  },
  {
   "cell_type": "code",
   "execution_count": null,
   "metadata": {},
   "outputs": [],
   "source": [
    "new MarketUniverse(\"NASDAQ\")\n"
   ]
  },
  {
   "cell_type": "markdown",
   "metadata": {},
   "source": [
    "and we define the optimization period as 2016-01-01-2016-21-31 and the trading period as\n",
    "2017-01-01 to today:\n"
   ]
  },
  {
   "cell_type": "code",
   "execution_count": null,
   "metadata": {},
   "outputs": [],
   "source": [
    "Context.getDateRanges(\"2016-01-01\",\"2017-01-01\");\n"
   ]
  },
  {
   "cell_type": "markdown",
   "metadata": {},
   "source": [
    "### Run the Selection  - 1st Attempt ###\n",
    "\n",
    "We define a StrategySelector and feed it to the StockSelector.\n",
    "The optional Restartable parameter is making sure that we save the temporary result every 50 records so that we do not need to reprocess them when we need to restart the functionality.\n",
    "\n",
    "We store the result in a file and make sure that we do not run the selection again if the file already exists.\n"
   ]
  },
  {
   "cell_type": "code",
   "execution_count": null,
   "metadata": {},
   "outputs": [],
   "source": [
    "// setup of the model\n",
    "var periods = Context.getDateRanges(\"2016-01-01\",\"2017-01-01\");\n",
    "var account = new Account(\"Simulation\", \"USD\", 100000.00, periods.get(0).getStart(), new PerTradeFees(100.00))\n",
    "var universe = new MarketUniverse(\"NASDAQ\")\n",
    "var strategies = TradingStrategyFactory.list()\n",
    "var strategySelector = new StrategySelector(account, strategies, periods.get(0), KPI.AbsoluteReturn)\n",
    "var stockSelector = new StockSelector(strategySelector, new Restartable(\"./temp/restart-v1.ser\",50))\n",
    "// calculate the result\n",
    "var result = stockSelector.getSelection(200, universe, new MarketArchiveHttpReader())\n",
    "\n",
    "\"**END**\""
   ]
  },
  {
   "cell_type": "markdown",
   "metadata": {},
   "source": [
    "### Evaluate the Selection ###\n",
    "\n",
    "Here is the result of the selection:"
   ]
  },
  {
   "cell_type": "code",
   "execution_count": null,
   "metadata": {},
   "outputs": [],
   "source": [
    "Displayers.display(Context.tail(result.getResult(),10));\n"
   ]
  },
  {
   "cell_type": "markdown",
   "metadata": {},
   "source": [
    "Finally we use the selected result as our portfolio and we can run a simulation on it for the\n",
    "last year:"
   ]
  },
  {
   "cell_type": "code",
   "execution_count": null,
   "metadata": {},
   "outputs": [],
   "source": [
    "var account = new Account(\"Simulation\",\"USD\", 100000.00, periods.get(0).getStart(), new PerTradeFees(10.0));\n",
    "var trader = new PaperTrader(account);\n",
    "var allocationStrategy = new DistributedAllocationStrategy(trader);\n",
    "var executor = new StrategyExecutor(trader, allocationStrategy);\n",
    "executor.addStrategy(result.getStrategies(new MarketArchiveHttpReader()));\n",
    "executor.run(periods.get(1));\n",
    "\n",
    "println(account.getKPIValues())\n"
   ]
  },
  {
   "cell_type": "code",
   "execution_count": null,
   "metadata": {},
   "outputs": [],
   "source": [
    "Displayers.display(account.getTransactions().collect(Collectors.toList()));\n"
   ]
  },
  {
   "cell_type": "code",
   "execution_count": null,
   "metadata": {},
   "outputs": [],
   "source": [
    "var chart = new TimeSeriesChart()\n",
    "chart.add(account.getTotalValueHistory(),\"\")\n",
    "Displayers.display(chart.displayChart())\n"
   ]
  },
  {
   "cell_type": "code",
   "execution_count": null,
   "metadata": {},
   "outputs": [],
   "source": [
    "import scala.collection.JavaConversions._\n",
    "\n",
    "var chart1 = new TimeSeriesChart()\n",
    "chart1.add(account.getCashHistoryForAllDates(), \"Cash\");\n",
    "chart1.add(account.getTotalValueHistory(), \"Total Value\");\n",
    "chart1.add(account.getActualValueHistory(), \"ActualValue\");\n",
    "for (id <- account.getStockIDs()) {\n",
    "    var data = account.getActualValueHistory(id);\n",
    "    chart1.add(data,id.toString())\n",
    "}\n",
    "//chart1.addLabels(account.getTransactions())\n",
    "Displayers.display(chart1.displayCharts())"
   ]
  },
  {
   "cell_type": "markdown",
   "metadata": {},
   "source": [
    "Though at first sight it seems to be promising, the result is in fact quite disapointing: We only get 2 stocks which are used for trading and they are just bought and never sold. So it is just by luck that we were successfull!\n",
    "\n",
    "### Run the Selection  - 2nd Attempt ###\n",
    "\n",
    "\n",
    "On our 2nd trial we want to use the followig additional criteria:\n",
    "- no penny stocks: rate > 5.0\n",
    "- activly traded: number of trades >= 4\n",
    "\n",
    "Therefore we define the following predicates which drive our selection"
   ]
  },
  {
   "cell_type": "code",
   "execution_count": null,
   "metadata": {},
   "outputs": [],
   "source": [
    "import ch.pschatzmann.stocks.strategy.selection.SelectionState;\n",
    "import java.util.function.Predicate;\n",
    "\n",
    "class NumberOfTradesPredicate( numberOfTrades: Double) extends Predicate[SelectionState]  {\n",
    "     override def test(state:SelectionState):scala.Boolean = {\n",
    "        return state.result().getDouble(KPI.NumberOfTrades) > numberOfTrades;\n",
    "    };\n",
    "}\n",
    "\n",
    "class PriceLimitPredicate(account:Account, date:Date, limit: Double) extends Predicate[SelectionState]  {\n",
    "     override def test(state:SelectionState):scala.Boolean = {\n",
    "        return account.getStockPrice(state.getStockID(), date)>limit;\n",
    "    };\n",
    "}"
   ]
  },
  {
   "cell_type": "code",
   "execution_count": null,
   "metadata": {},
   "outputs": [],
   "source": [
    "\n",
    "// setup of the model\n",
    "\n",
    "var periods = Context.getDateRanges(\"2016-01-01\",\"2017-01-01\");\n",
    "var account = new Account(\"Simulation\", \"USD\", 100000.00, periods.get(0).getStart(), new PerTradeFees(100.00))\n",
    "var universe = new MarketUniverse(\"NASDAQ\")\n",
    "var strategies = TradingStrategyFactory.list()\n",
    "var predicate = new NumberOfTradesPredicate(4.0).and(new PriceLimitPredicate(account, periods.get(0).getStart(), 5.0));\n",
    "var strategySelector = new StrategySelector(account, strategies, periods.get(0), KPI.AbsoluteReturn, predicate)\n",
    "var stockSelector = new StockSelector(strategySelector, new Restartable(\"./temp/restart-v1A.ser\",50))\n",
    "// calculate the result\n",
    "var result = stockSelector.getSelection(200, universe, new MarketArchiveHttpReader())\n",
    "// save the result to a file\n",
    "var trader = new PaperTrader(account);\n",
    "var allocationStrategy = new DistributedAllocationStrategy(trader);\n",
    "var executor = new StrategyExecutor(trader, allocationStrategy);\n",
    "executor.addStrategy(result.getStrategies(new MarketArchiveHttpReader()));\n",
    "executor.run(periods.get(1));\n",
    "\n",
    "account.getKPIValues()"
   ]
  },
  {
   "cell_type": "markdown",
   "metadata": {},
   "source": [
    "### Selection with Sharpe Ratio ###\n",
    "\n",
    "In the long run we might be better off by using the Sharpe Ratio instead of the Absolute Return as selection criterium. So here is our next try:\n"
   ]
  },
  {
   "cell_type": "code",
   "execution_count": null,
   "metadata": {},
   "outputs": [],
   "source": [
    "// setup of the model\n",
    "\n",
    "var periods = Context.getDateRanges(\"2016-01-01\",\"2017-01-01\");\n",
    "var account = new Account(\"Simulation\", \"USD\", 100000.00, periods.get(0).getStart(), new PerTradeFees(100.00))\n",
    "var universe = new MarketUniverse(\"NASDAQ\")\n",
    "var strategies = TradingStrategyFactory.list()\n",
    "var strategySelector = new StrategySelector(account, strategies, periods.get(0), KPI.SharpeRatio)\n",
    "var stockSelector = new StockSelector(strategySelector, new Restartable(\"./temp/restart-v1S.ser\",50))\n",
    "// calculate the result\n",
    "var result = stockSelector.getSelection(200, universe, new MarketArchiveHttpReader())\n",
    "var trader = new PaperTrader(account);\n",
    "var allocationStrategy = new DistributedAllocationStrategy(trader);\n",
    "var executor = new StrategyExecutor(trader, allocationStrategy);\n",
    "executor.addStrategy(result.getStrategies(new MarketArchiveHttpReader()));\n",
    "executor.run(periods.get(1));\n",
    "\n",
    "account.getKPIValues()"
   ]
  },
  {
   "cell_type": "markdown",
   "metadata": {},
   "source": [
    "## Electronic Monkey ##\n",
    "\n",
    "We can compare the results above with an Monkey Picker which just pick 50 random stocks and strategies "
   ]
  },
  {
   "cell_type": "code",
   "execution_count": null,
   "metadata": {},
   "outputs": [],
   "source": [
    "var account = new Account(\"Simulation\",\"USD\", 1000000.00, periods.get(0).getStart(), new PerTradeFees(10.0));\n",
    "var trader = new PaperTrader(account);\n",
    "var allocationStrategy = new DistributedAllocationStrategy(trader);\n",
    "var executor = new StrategyExecutor(trader, allocationStrategy);\n",
    "var randomStrategies = TradingStrategyFactory.getRandomStrategies(new MarketUniverse(\"NASDAQ\"),new MarketArchiveHttpReader(), 50)\n",
    "executor.addStrategy(randomStrategies);\n",
    "executor.run(periods.get(1));\n",
    "\n",
    "println(account.getKPIValues())"
   ]
  },
  {
   "cell_type": "markdown",
   "metadata": {},
   "source": [
    "## Optimization ##\n",
    "We can also evaluate if parameter optimization makes a difference. We optimize the parameters based\n",
    "on the closing rates of the year 2015. Then we select the stocks that perfomred best in 2016.\n",
    "Finally we evaluate the performance for 2017 "
   ]
  },
  {
   "cell_type": "code",
   "execution_count": null,
   "metadata": {},
   "outputs": [],
   "source": [
    "// setup of the model in background\n",
    "var periods = Context.getDateRanges(\"2015-01-01\",\"2016-01-01\",\"2017-01-01\",\"2018-01-01\")\n",
    "var account = new Account(\"Simulation\", \"USD\", 100000.00, periods.get(0).getStart(), new PerTradeFees(100.00))\n",
    "// run selection\n",
    "var universe = new MarketUniverse(\"NASDAQ\")\n",
    "var strategies = TradingStrategyFactory.list()\n",
    "var optimizer = new BinarySearchOptimizer(new SimulatedFitness(account), KPI.AbsoluteReturn)\n",
    "var strategySelector = new StrategySelectorOptimized(account, strategies, periods.get(0), periods.get(1), optimizer)\n",
    "var stockSelector = new StockSelector(strategySelector, new Restartable(\"./temp/restart-v2.ser\",20))\n",
    "// calculate the result\n",
    "var resultOptimized = stockSelector.getSelection(200, universe, new MarketArchiveHttpReader())\n",
    "var trader = new PaperTrader(account);\n",
    "var allocationStrategy = new DistributedAllocationStrategy(trader);\n",
    "var executor = new StrategyExecutor(trader, allocationStrategy);\n",
    "executor.addStrategy(resultOptimized.getStrategies(new MarketArchiveHttpReader()));\n",
    "executor.run(periods.get(2));\n",
    "\n",
    "account.getKPIValues()"
   ]
  },
  {
   "cell_type": "code",
   "execution_count": null,
   "metadata": {},
   "outputs": [],
   "source": [
    "Displayers.display(account.getTransactions());\n"
   ]
  },
  {
   "cell_type": "code",
   "execution_count": null,
   "metadata": {},
   "outputs": [],
   "source": []
  }
 ],
 "metadata": {
  "kernelspec": {
   "display_name": "Scala",
   "language": "scala",
   "name": "scala"
  },
  "language_info": {
   "codemirror_mode": "text/x-scala",
   "file_extension": ".scala",
   "mimetype": "",
   "name": "Scala",
   "nbconverter_exporter": "",
   "version": "2.11.12"
  }
 },
 "nbformat": 4,
 "nbformat_minor": 2
}
