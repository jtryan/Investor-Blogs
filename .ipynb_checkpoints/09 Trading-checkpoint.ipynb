{
 "cells": [
  {
   "cell_type": "markdown",
   "metadata": {},
   "source": [
    "# Trading #\n",
    "\n",
    "So far we have looked at the trading simulation functionality which was using the historic stock data to evaluate strategies on a single stock or a portfolio of stocks.\n",
    "\n",
    "In this document we want to demonstrate how to do trading with actual data. \n",
    "\n",
    "We still use the PaperTrader to demonstrate the basic logic\n",
    "\n",
    "### Setup  ###\n",
    "\n",
    "We add the necessary jars and import all relevant packages:"
   ]
  },
  {
   "cell_type": "code",
   "execution_count": 36,
   "metadata": {},
   "outputs": [
    {
     "data": {
      "application/vnd.jupyter.widget-view+json": {
       "model_id": "",
       "version_major": 2,
       "version_minor": 0
      },
      "method": "display_data"
     },
     "metadata": {},
     "output_type": "display_data"
    }
   ],
   "source": [
    "%classpath config resolver maven-public http://192.168.1.10:8081/repository/maven-public/\n",
    "%%classpath add mvn \n",
    "ch.pschatzmann:investor:0.9-SNAPSHOT\n",
    "ch.pschatzmann:jupyter-jdk-extensions:0.0.1-SNAPSHOT\n"
   ]
  },
  {
   "cell_type": "code",
   "execution_count": 37,
   "metadata": {},
   "outputs": [
    {
     "data": {
      "text/plain": [
       "import ch.pschatzmann.dates._\n",
       "import ch.pschatzmann.stocks._\n",
       "import ch.pschatzmann.stocks.data.universe._\n",
       "import ch.pschatzmann.stocks.input._\n",
       "import ch.pschatzmann.stocks.accounting._\n",
       "import ch.pschatzmann.stocks.accounting.kpi._\n",
       "import ch.pschatzmann.stocks.execution._\n",
       "import ch.pschatzmann.stocks.execution.fees._\n",
       "import ch.pschatzmann.stocks.execution.price._\n",
       "import ch.pschatzmann.stocks.parameters._\n",
       "import ch.pschatzmann.stocks.strategy._\n",
       "import ch.pschatzmann.stocks.strategy.optimization._\n",
       "import ch.pschatzmann.stocks.strategy.allocation._\n",
       "import ch.pschatzmann.stocks.strategy.selection._\n",
       "import ch.pschatzmann.stocks.integration._\n",
       "import ch.pschatzmann.stocks.strategy.OptimizedStrategy.Schedule._\n",
       "import java.util.stream.Collectors\n",
       "import java.util._\n",
       "import java.lang._\n",
       "import java.u..."
      ]
     },
     "execution_count": 37,
     "metadata": {},
     "output_type": "execute_result"
    }
   ],
   "source": [
    "// imports for the investor framwork\n",
    "import ch.pschatzmann.dates._;\n",
    "import ch.pschatzmann.stocks._;\n",
    "import ch.pschatzmann.stocks.data.universe._;\n",
    "import ch.pschatzmann.stocks.input._;\n",
    "import ch.pschatzmann.stocks.accounting._;\n",
    "import ch.pschatzmann.stocks.accounting.kpi._;\n",
    "import ch.pschatzmann.stocks.execution._;\n",
    "import ch.pschatzmann.stocks.execution.fees._;\n",
    "import ch.pschatzmann.stocks.execution.price._;\n",
    "import ch.pschatzmann.stocks.parameters._;\n",
    "import ch.pschatzmann.stocks.strategy._;\n",
    "import ch.pschatzmann.stocks.strategy.optimization._;\n",
    "import ch.pschatzmann.stocks.strategy.allocation._;\n",
    "import ch.pschatzmann.stocks.strategy.selection._;\n",
    "import ch.pschatzmann.stocks.integration._;\n",
    "import ch.pschatzmann.stocks.strategy.OptimizedStrategy.Schedule._;\n",
    "\n",
    "// java\n",
    "import java.util.stream.Collectors;\n",
    "import java.util._;\n",
    "import java.lang._;\n",
    "import java.util.function.Consumer;\n",
    "import scala.collection.JavaConverters\n",
    "\n",
    "/// jupyter custom displayer\n",
    "import ch.pschatzmann.display.Displayers\n",
    "import ch.pschatzmann.display.Table\n"
   ]
  },
  {
   "cell_type": "code",
   "execution_count": 38,
   "metadata": {},
   "outputs": [
    {
     "data": {
      "text/plain": [
       "ch.pschatzmann.stocks.input.YahooReader@245f08f"
      ]
     },
     "execution_count": 38,
     "metadata": {},
     "output_type": "execute_result"
    }
   ],
   "source": [
    "var reader = Context.getDefaultReader()"
   ]
  },
  {
   "cell_type": "markdown",
   "metadata": {},
   "source": [
    "### Trading with One Single Strategy  ###\n",
    "\n",
    "Here is the first example with one defined strategy:\n",
    "- We use a ManagedAccount in order to make sure that the transactions can be saved and reloaded when we restart the functionality at a later date.\n",
    "- We need to set up the StrategyExecutor first.\n",
    "- Then we can feed it to the ScheduledExecutor and schedule the job with a cron expression. \n",
    "\n",
    "\n",
    "#### Cron Syntax ####\n",
    "\n",
    "The detailed description of the quartz cron syntax can be found at http://www.quartz-scheduler.org/documentation/quartz-2.x/tutorials/crontrigger.html. E.g. ff we an it to run every 10 minutes we would specify \"0 0/8 * * * ?\"\n",
    "In our example we execute the strategy every day at 8am GMT.\n",
    "\n"
   ]
  },
  {
   "cell_type": "code",
   "execution_count": 39,
   "metadata": {},
   "outputs": [
    {
     "name": "stdout",
     "output_type": "stream",
     "text": [
      "The scheduled trading has been stopped\n",
      "The trading has been scheduled....\n"
     ]
    },
    {
     "data": {
      "text/plain": [
       "null"
      ]
     },
     "execution_count": 39,
     "metadata": {},
     "output_type": "execute_result"
    }
   ],
   "source": [
    "var account = new ManagedAccount(\"648-11017-A\", \"USD\", 100000.00, new Date(), new PerTradeFees(6.95))\n",
    "var trader = new PaperTrader(account);\n",
    "var strategyExecutor = new StrategyExecutor(trader);\n",
    "var apple = new StockData(new StockID(\"AAPL\", \"NASDAQ\"));\n",
    "strategyExecutor.addStrategy(new RSI2Strategy(apple));\n",
    "\n",
    "// schedule the future execution \n",
    "var scheduledExecutor = new ScheduledExecutor(strategyExecutor)\n",
    "scheduledExecutor.schedule(\"0 0 8 * * ?\"); \n"
   ]
  },
  {
   "cell_type": "markdown",
   "metadata": {},
   "source": [
    "### Trading a Porfolio of Strategies  ###\n",
    "\n",
    "In our second example we use the StrategySelector/StockSelector that we got to know in the Selection Chapter. \n",
    "\n",
    "To trade a porfolio of strategies is using the same flow as above:"
   ]
  },
  {
   "cell_type": "code",
   "execution_count": 40,
   "metadata": {},
   "outputs": [
    {
     "name": "stdout",
     "output_type": "stream",
     "text": [
      "The scheduled trading has been stopped\n",
      "The trading has been scheduled....\n",
      "The scheduled trading has been stopped\n"
     ]
    },
    {
     "data": {
      "text/plain": [
       "null"
      ]
     },
     "execution_count": 40,
     "metadata": {},
     "output_type": "execute_result"
    }
   ],
   "source": [
    "var periods = Context.getDateRanges(\"2016-01-01\",\"2017-01-01\");\n",
    "var account = new ManagedAccount(\"648-11017-B\", \"USD\", 100000.00, periods.get(0).getStart(), new PerTradeFees(6.95))\n",
    "var strategies = TradingStrategyFactory.list()\n",
    "var trader = new PaperTrader(account);\n",
    "var allocationStrategy = new DistributedAllocationStrategy(trader);\n",
    "var executor = new StrategyExecutor(trader, allocationStrategy);\n",
    "var portfolioUniverse =  new EdgarUniverse(2016, Arrays.asList(0.2, 0.5, 0.8, 1.0), Arrays.asList(\"NetIncomeLoss\"), true)                                \n",
    "var strategySelector = new StrategySelector(account, strategies, periods.get(0), KPI.AbsoluteReturn)\n",
    "var stockSelector = new StockSelector(strategySelector)\n",
    "var result = stockSelector.getSelection(10, portfolioUniverse.list(10), reader)\n",
    "executor.setStrategies(result.getStrategies(reader));\n",
    "\n",
    "var scheduledExecutor = new ScheduledExecutor(executor)\n",
    "scheduledExecutor.schedule(\"0 0 8 * * ?\"); \n",
    "\n",
    "scheduledExecutor.stop()"
   ]
  },
  {
   "cell_type": "markdown",
   "metadata": {},
   "source": [
    "### Trading a Porfolio of Strategies II  ###\n",
    "\n",
    "In our last example we show a more dynamic example which recalculates the Strategy Executor and Universe with each year change. To achieve this we overwrite the getExecutor() method in a new custom MyScheduledExecutor subclass:"
   ]
  },
  {
   "cell_type": "code",
   "execution_count": 41,
   "metadata": {},
   "outputs": [
    {
     "name": "stdout",
     "output_type": "stream",
     "text": [
      "Defining new executor\n",
      "The scheduled trading has been stopped\n",
      "The trading has been scheduled....\n"
     ]
    },
    {
     "data": {
      "text/plain": [
       "null"
      ]
     },
     "execution_count": 41,
     "metadata": {},
     "output_type": "execute_result"
    }
   ],
   "source": [
    " class MyScheduledExecutor() extends ScheduledExecutor() {\n",
    "    var currentYear:Integer = null;\n",
    "     \n",
    "    override def getExecutor: StrategyExecutor = {\n",
    "        var year = Context.getYear(new Date())\n",
    "        var reader = new YahooReader()\n",
    "        Context.setDefaultReader(reader)\n",
    "        var executor = super.getExecutor()\n",
    "        if (year!=currentYear) {\n",
    "            System.out.println(\"Defining new executor\");\n",
    "            var periods = Context.getDateRanges((year-2)+\"-01-01\",(year-1)+\"-01-01\");\n",
    "            var account = new ManagedAccount(\"648-11017\", \"USD\", 100000.00, periods.get(0).getStart(), new PerTradeFees(6.95))\n",
    "            var strategies = TradingStrategyFactory.list()\n",
    "            var trader = new PaperTrader(account);\n",
    "            var allocationStrategy = new DistributedAllocationStrategy(trader);\n",
    "            executor = new StrategyExecutor(trader, allocationStrategy);\n",
    "            var portfolioUniverse =  new EdgarUniverse(year-2, Arrays.asList(0.2, 0.5, 0.8, 1.0), Arrays.asList(\"NetIncomeLoss\"), true)                                \n",
    "            var strategySelector = new StrategySelector(account, strategies, periods.get(0), KPI.AbsoluteReturn)\n",
    "            var stockSelector = new StockSelector(strategySelector)\n",
    "            var result = stockSelector.getSelection(10, portfolioUniverse.list(10), reader)\n",
    "            executor.setStrategies(result.getStrategies(reader));\n",
    "            setExecutor(executor)\n",
    "            currentYear = year\n",
    "        }\n",
    "        return executor\n",
    "    }\n",
    " }\n",
    "\n",
    "var scheduledExecutor = new MyScheduledExecutor()\n",
    "scheduledExecutor.schedule(\"0 0 8 * * ?\"); \n"
   ]
  },
  {
   "cell_type": "markdown",
   "metadata": {},
   "source": [
    "### Checking the Result  ###\n",
    "\n",
    "If there are any trades the system creates a file with the list of transactions in the 'trades' subdirectory. The latest updated account information can be found in the 'accounts' directory.\n",
    "\n",
    "We can also determine the trasactions from the account which is available in the executor:"
   ]
  },
  {
   "cell_type": "code",
   "execution_count": 42,
   "metadata": {},
   "outputs": [
    {
     "data": {
      "application/vnd.jupyter.widget-view+json": {
       "model_id": "7f09cbe7-8e31-40f9-9aa1-e7681441df2b",
       "version_major": 2,
       "version_minor": 0
      },
      "method": "display_data"
     },
     "metadata": {},
     "output_type": "display_data"
    }
   ],
   "source": [
    "Table.create(scheduledExecutor.getAccount().getTransactions())"
   ]
  },
  {
   "cell_type": "code",
   "execution_count": null,
   "metadata": {},
   "outputs": [],
   "source": []
  }
 ],
 "metadata": {
  "kernelspec": {
   "display_name": "Scala",
   "language": "scala",
   "name": "scala"
  },
  "language_info": {
   "codemirror_mode": "text/x-scala",
   "file_extension": ".scala",
   "mimetype": "",
   "name": "Scala",
   "nbconverter_exporter": "",
   "version": "2.11.12"
  }
 },
 "nbformat": 4,
 "nbformat_minor": 2
}
