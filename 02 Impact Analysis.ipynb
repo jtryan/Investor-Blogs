{
 "cells": [
  {
   "cell_type": "markdown",
   "metadata": {},
   "source": [
    "# Impact Analysis #\n",
    "\n",
    "Now that we have the tool we can do some investigations:\n",
    "\n",
    "- What is the impact of changing the data source ? \n",
    "- Does it make a difference if we take avarage rates instead of end of day rates ?\n",
    "\n",
    "## Setup the Environmant ##\n",
    "But first we need to setup the JupyterLab environment"
   ]
  },
  {
   "cell_type": "code",
   "execution_count": 1,
   "metadata": {},
   "outputs": [
    {
     "name": "stdout",
     "output_type": "stream",
     "text": [
      "Added new repo: maven-public\n"
     ]
    },
    {
     "data": {
      "application/vnd.jupyter.widget-view+json": {
       "model_id": "115ea8c9-daf0-4071-8dfc-359e9a4bbafb",
       "version_major": 2,
       "version_minor": 0
      },
      "method": "display_data"
     },
     "metadata": {},
     "output_type": "display_data"
    },
    {
     "name": "stdout",
     "output_type": "stream",
     "text": [
      "Added jars: [htmlunit-2.24.jar, jackson-annotations-2.9.4.jar, commons-codec-1.10.jar, ta4j-core-0.10.jar, websocket-api-9.2.20.v20161216.jar, jcl-over-slf4j-1.7.25.jar, commons-cli-1.3.1.jar, commons-attributes-api-2.2.jar, httpmime-4.5.2.jar, httpcore-4.4.6.jar, htmlunit-core-js-2.23.jar, sevenzipjbinding-9.20-2.00beta.jar, ant-1.5.jar, YahooFinanceAPI-3.12.3.jar, jfreechart-1.5.0.jar, jetty-util-9.2.20.v20161216.jar, slf4j-log4j12-1.7.25.jar, cssparser-0.9.21.jar, neko-htmlunit-2.24.jar, commons-io-2.5.jar, xml-apis-1.4.01.jar, serializer-2.7.2.jar, qdox-1.5.jar, jetty-io-9.2.20.v20161216.jar, commons-lang3-3.5.jar, timeseries-forecast-1.1.1.jar, httpclient-4.5.3.jar, jackson-databind-2.9.4.jar, sojo-1.0.5.jar, commons-jcs-core-2.0.jar, investor-0.9-SNAPSHOT.jar, junit-4.10.jar, jackson-core-2.9.4.jar, websocket-client-9.2.20.v20161216.jar, xercesImpl-2.11.0.jar, hamcrest-core-1.1.jar, combinatoradix-0.8.2.jar, sevenzipjbinding-all-platforms-9.20-2.00beta.jar, sac-1.3.jar, websocket-common-9.2.20.v20161216.jar, slf4j-api-1.7.25.jar, xalan-2.7.2.jar, log4j-1.2.17.jar]\n"
     ]
    },
    {
     "data": {
      "application/vnd.jupyter.widget-view+json": {
       "model_id": "b82e03a0-88f6-4330-be72-f85eece0c04d",
       "version_major": 2,
       "version_minor": 0
      },
      "method": "display_data"
     },
     "metadata": {},
     "output_type": "display_data"
    },
    {
     "name": "stdout",
     "output_type": "stream",
     "text": [
      "Added jars: [jcs-1.3.jar, commons-logging-1.1.jar, servlet-api-2.3.jar, logkit-1.0.1.jar, jupyter-jdk-extensions-0.0.1-SNAPSHOT.jar, avalon-framework-4.1.3.jar, in-memory-stardb-0.0.1-SNAPSHOT.jar, concurrent-1.3.4.jar, common-0.0.1-SNAPSHOT.jar]\n"
     ]
    }
   ],
   "source": [
    "%classpath config resolver maven-public http://pschatzmann.ch:8081/repository/maven-public/\n",
    "%classpath add mvn ch.pschatzmann:investor:0.9-SNAPSHOT\n",
    "%classpath add mvn ch.pschatzmann:jupyter-jdk-extensions:0.0.1-SNAPSHOT\n"
   ]
  },
  {
   "cell_type": "code",
   "execution_count": 2,
   "metadata": {},
   "outputs": [
    {
     "data": {
      "text/plain": [
       "import ch.pschatzmann.dates._\n",
       "import ch.pschatzmann.stocks._\n",
       "import ch.pschatzmann.stocks.data.universe._\n",
       "import ch.pschatzmann.stocks.input._\n",
       "import ch.pschatzmann.stocks.accounting._\n",
       "import ch.pschatzmann.stocks.accounting.kpi._\n",
       "import ch.pschatzmann.stocks.execution._\n",
       "import ch.pschatzmann.stocks.execution.fees._\n",
       "import ch.pschatzmann.stocks.execution.price._\n",
       "import ch.pschatzmann.stocks.parameters._\n",
       "import ch.pschatzmann.stocks.strategy._\n",
       "import ch.pschatzmann.stocks.strategy.optimization._\n",
       "import ch.pschatzmann.stocks.strategy.allocation._\n",
       "import ch.pschatzmann.stocks.strategy.selection._\n",
       "import ch.pschatzmann.stocks.integration._\n",
       "import ch.pschatzmann.stocks.integration.ChartData.FieldName._\n",
       "import ch.pschatzmann.stocks.strategy.OptimizedStrategy.Schedule._\n",
       "import ch.pschatzmann.d..."
      ]
     },
     "execution_count": 2,
     "metadata": {},
     "output_type": "execute_result"
    }
   ],
   "source": [
    "// our stock evaluation framwork\n",
    "import ch.pschatzmann.dates._;\n",
    "import ch.pschatzmann.stocks._;\n",
    "import ch.pschatzmann.stocks.data.universe._;\n",
    "import ch.pschatzmann.stocks.input._;\n",
    "import ch.pschatzmann.stocks.accounting._;\n",
    "import ch.pschatzmann.stocks.accounting.kpi._;\n",
    "import ch.pschatzmann.stocks.execution._;\n",
    "import ch.pschatzmann.stocks.execution.fees._;\n",
    "import ch.pschatzmann.stocks.execution.price._;\n",
    "import ch.pschatzmann.stocks.parameters._;\n",
    "import ch.pschatzmann.stocks.strategy._;\n",
    "import ch.pschatzmann.stocks.strategy.optimization._;\n",
    "import ch.pschatzmann.stocks.strategy.allocation._;\n",
    "import ch.pschatzmann.stocks.strategy.selection._;\n",
    "import ch.pschatzmann.stocks.integration._;\n",
    "import ch.pschatzmann.stocks.integration.ChartData.FieldName._;\n",
    "import ch.pschatzmann.stocks.strategy.OptimizedStrategy.Schedule._;\n",
    "\n",
    "/// jupyter custom displayer\n",
    "import ch.pschatzmann.display.Displayers\n",
    "\n",
    "// java\n",
    "import java.util.stream.Collectors;\n",
    "import java.util._;\n",
    "import java.lang._;\n",
    "import java.util.function.Consumer;\n",
    "\n"
   ]
  },
  {
   "cell_type": "code",
   "execution_count": 3,
   "metadata": {},
   "outputs": [
    {
     "data": {
      "text/plain": [
       "true"
      ]
     },
     "execution_count": 3,
     "metadata": {},
     "output_type": "execute_result"
    }
   ],
   "source": [
    "Displayers.setup()\n"
   ]
  },
  {
   "cell_type": "markdown",
   "metadata": {},
   "source": [
    "## Impact of Data Source ##\n",
    "\n",
    "First we want to investigate the impact of the data source on the result of a trading strategy. We use Apple with the RSI2 Strategy and check the result for different data readers. \n",
    "\n",
    "### MarketArchiveHttpReader ###"
   ]
  },
  {
   "cell_type": "code",
   "execution_count": 4,
   "metadata": {},
   "outputs": [
    {
     "data": {
      "text/plain": [
       "Return: 56741.0"
      ]
     },
     "execution_count": 4,
     "metadata": {},
     "output_type": "execute_result"
    }
   ],
   "source": [
    "var account = new Account(\"Simulation\",\"USD\", 100000.00, Context.date(\"2015-01-01\"), new PerTradeFees(10.0));\n",
    "var stockdata = new StockData(new StockID(\"AAPL\", \"NASDAQ\"), new MarketArchiveHttpReader());\n",
    "var strategy = new RSI2Strategy(stockdata);\n",
    "var trader = new PaperTrader(account);\n",
    "var state = new Fitness(trader).getFitness(strategy, account.getDateRange());\n",
    "\n",
    "// print one parameter\n",
    "\"Return: \" + state.result().getValue(KPI.AbsoluteReturn);\n"
   ]
  },
  {
   "cell_type": "markdown",
   "metadata": {},
   "source": [
    "### Quandl WIKI ###"
   ]
  },
  {
   "cell_type": "code",
   "execution_count": 5,
   "metadata": {},
   "outputs": [
    {
     "data": {
      "text/plain": [
       "Return: 36996.0"
      ]
     },
     "execution_count": 5,
     "metadata": {},
     "output_type": "execute_result"
    }
   ],
   "source": [
    "var account = new Account(\"Simulation\",\"USD\", 100000.00, Context.date(\"2015-01-01\"), new PerTradeFees(10.0));\n",
    "var stockdataQ = new StockData(new StockID(\"AAPL\", \"NASDAQ\"), new QuandlWIKIReader());\n",
    "var strategy = new RSI2Strategy(stockdataQ);\n",
    "var trader = new PaperTrader(account);\n",
    "var state = new Fitness(trader).getFitness(strategy, account.getDateRange());\n",
    "\n",
    "// print one parameter\n",
    "\"Return: \" + state.result().getValue(KPI.AbsoluteReturn);"
   ]
  },
  {
   "cell_type": "markdown",
   "metadata": {},
   "source": [
    "### Yahoo ###"
   ]
  },
  {
   "cell_type": "code",
   "execution_count": 19,
   "metadata": {},
   "outputs": [
    {
     "data": {
      "text/plain": [
       "Return: 5585.0"
      ]
     },
     "execution_count": 19,
     "metadata": {},
     "output_type": "execute_result"
    }
   ],
   "source": [
    "var account = new Account(\"Simulation\",\"USD\", 100000.00, Context.date(\"2015-01-01\"), new PerTradeFees(10.0));\n",
    "var stockdataYahoo = new StockData(new StockID(\"AAPL\", \"NASDAQ\"), new YahooReader());\n",
    "var strategy = new RSI2Strategy(stockdataYahoo);\n",
    "var trader = new PaperTrader(account);\n",
    "var state = new Fitness(trader).getFitness(strategy, account.getDateRange());\n",
    "\n",
    "// print one parameter\n",
    "\"Return: \" + state.result().getValue(KPI.AbsoluteReturn);"
   ]
  },
  {
   "cell_type": "markdown",
   "metadata": {},
   "source": [
    "### AlphaVantageReader"
   ]
  },
  {
   "cell_type": "code",
   "execution_count": 18,
   "metadata": {},
   "outputs": [
    {
     "data": {
      "text/plain": [
       "Return: 49922.0"
      ]
     },
     "execution_count": 18,
     "metadata": {},
     "output_type": "execute_result"
    }
   ],
   "source": [
    "var account = new Account(\"Simulation\",\"USD\", 100000.00, Context.date(\"2015-01-01\"), new PerTradeFees(10.0));\n",
    "var stockdataYahoo = new StockData(new StockID(\"AAPL\", \"NASDAQ\"), new AlphaVantageReader());\n",
    "var strategy = new RSI2Strategy(stockdataYahoo);\n",
    "var trader = new PaperTrader(account);\n",
    "var state = new Fitness(trader).getFitness(strategy, account.getDateRange());\n",
    "\n",
    "// print one parameter\n",
    "\"Return: \" + state.result().getValue(KPI.AbsoluteReturn);"
   ]
  },
  {
   "cell_type": "markdown",
   "metadata": {},
   "source": [
    "We can compare the three data sources on a chart"
   ]
  },
  {
   "cell_type": "markdown",
   "metadata": {},
   "source": [
    "### IEXReader"
   ]
  },
  {
   "cell_type": "code",
   "execution_count": 17,
   "metadata": {},
   "outputs": [
    {
     "data": {
      "text/plain": [
       "Return: 0.0"
      ]
     },
     "execution_count": 17,
     "metadata": {},
     "output_type": "execute_result"
    }
   ],
   "source": [
    "var account = new Account(\"Simulation\",\"USD\", 100000.00, Context.date(\"2015-01-01\"), new PerTradeFees(10.0));\n",
    "var stockdataYahoo = new StockData(new StockID(\"AAPL\", \"NASDAQ\"), new IEXReader());\n",
    "var strategy = new RSI2Strategy(stockdataYahoo);\n",
    "var trader = new PaperTrader(account);\n",
    "var state = new Fitness(trader).getFitness(strategy, account.getDateRange());\n",
    "\n",
    "// print one parameter\n",
    "\"Return: \" + state.result().getValue(KPI.AbsoluteReturn);"
   ]
  },
  {
   "cell_type": "code",
   "execution_count": 7,
   "metadata": {},
   "outputs": [
    {
     "data": {
      "text/html": [
       "<img src='data:image/png;base64,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'>"
      ]
     },
     "execution_count": 7,
     "metadata": {},
     "output_type": "execute_result"
    }
   ],
   "source": [
    "\n",
    "new TimeSeriesChart().add(stockdata).add(stockdataQ).add(stockdataYahoo)"
   ]
  },
  {
   "cell_type": "code",
   "execution_count": null,
   "metadata": {},
   "outputs": [],
   "source": []
  },
  {
   "cell_type": "markdown",
   "metadata": {},
   "source": [
    "## Impact of Selection of Rate ##\n",
    "### Closing Prices ###"
   ]
  },
  {
   "cell_type": "code",
   "execution_count": 8,
   "metadata": {},
   "outputs": [
    {
     "data": {
      "text/plain": [
       "Return: 56741.0"
      ]
     },
     "execution_count": 8,
     "metadata": {},
     "output_type": "execute_result"
    }
   ],
   "source": [
    "var account = new Account(\"Simulation\",\"USD\", 100000.00, Context.date(\"2015-01-01\"), new PerTradeFees(10.0))\n",
    "var stockdata = new StockData(new StockID(\"AAPL\", \"NASDAQ\"), new MarketArchiveHttpReader())\n",
    "var strategy = new RSI2Strategy(stockdata)\n",
    "var trader = new PaperTrader(account)\n",
    "trader.setPrice(new ClosePrice())\n",
    "var state = new Fitness(trader).getFitness(strategy, account.getDateRange())\n",
    "\n",
    "// print one parameter\n",
    "\"Return: \" + state.result().getValue(KPI.AbsoluteReturn)"
   ]
  },
  {
   "cell_type": "markdown",
   "metadata": {},
   "source": [
    "### Open Prices ###"
   ]
  },
  {
   "cell_type": "code",
   "execution_count": 9,
   "metadata": {},
   "outputs": [
    {
     "data": {
      "text/plain": [
       "Return: 46682.0"
      ]
     },
     "execution_count": 9,
     "metadata": {},
     "output_type": "execute_result"
    }
   ],
   "source": [
    "var account = new Account(\"Simulation\",\"USD\", 100000.00, Context.date(\"2015-01-01\"), new PerTradeFees(10.0))\n",
    "var stockdata = new StockData(new StockID(\"AAPL\", \"NASDAQ\"), new MarketArchiveHttpReader())\n",
    "var strategy = new RSI2Strategy(stockdata)\n",
    "var trader = new PaperTrader(account)\n",
    "trader.setPrice(new OpenPrice())\n",
    "var state = new Fitness(trader).getFitness(strategy, account.getDateRange())\n",
    "\n",
    "// print one parameter\n",
    "\"Return: \" + state.result().getValue(KPI.AbsoluteReturn)"
   ]
  },
  {
   "cell_type": "markdown",
   "metadata": {},
   "source": [
    "### Avarege (between High and Low) Prices ###"
   ]
  },
  {
   "cell_type": "code",
   "execution_count": 10,
   "metadata": {},
   "outputs": [
    {
     "data": {
      "text/plain": [
       "Return: 1060.0"
      ]
     },
     "execution_count": 10,
     "metadata": {},
     "output_type": "execute_result"
    }
   ],
   "source": [
    "var account = new Account(\"Simulation\",\"USD\", 100000.00, Context.date(\"2015-01-01\"), new PerTradeFees(10.0))\n",
    "var stockdata = new StockData(new StockID(\"AAPL\", \"NASDAQ\"), new MarketArchiveHttpReader())\n",
    "var strategy = new RSI2Strategy(stockdata)\n",
    "var trader = new PaperTrader(account)\n",
    "trader.setPrice(new AvaragePrice())\n",
    "var state = new Fitness(trader).getFitness(strategy, account.getDateRange())\n",
    "\n",
    "// print one parameter\n",
    "\"Return: \" + state.result().getValue(KPI.AbsoluteReturn)"
   ]
  },
  {
   "cell_type": "markdown",
   "metadata": {},
   "source": [
    "## Impact of Delays ##\n",
    "### Same Day ##\n",
    "We assume that we can do the deal at the close price for the same day. This suffers from look ahead bias because during the day the close price is not know"
   ]
  },
  {
   "cell_type": "code",
   "execution_count": 11,
   "metadata": {},
   "outputs": [
    {
     "data": {
      "text/plain": [
       "Return: 56741.0"
      ]
     },
     "execution_count": 11,
     "metadata": {},
     "output_type": "execute_result"
    }
   ],
   "source": [
    "var account = new Account(\"Simulation\",\"USD\", 100000.00, Context.date(\"2015-01-01\"), new PerTradeFees(10.0))\n",
    "var stockdata = new StockData(new StockID(\"AAPL\", \"NASDAQ\"), new MarketArchiveHttpReader())\n",
    "var strategy = new RSI2Strategy(stockdata)\n",
    "var trader = new PaperTrader(account)\n",
    "trader.setPrice(new ClosePrice())\n",
    "var state = new Fitness(trader).getFitness(strategy, account.getDateRange())\n",
    "\n",
    "// print one parameter\n",
    "\"Return: \" + state.result().getValue(KPI.AbsoluteReturn)"
   ]
  },
  {
   "cell_type": "markdown",
   "metadata": {},
   "source": [
    "### Open Price of Next Day ##\n",
    "\n",
    "We get the buy/sell signar based on the closing price and perform the trade the next day at the open price"
   ]
  },
  {
   "cell_type": "code",
   "execution_count": 12,
   "metadata": {},
   "outputs": [
    {
     "data": {
      "text/plain": [
       "Return: 54389.0"
      ]
     },
     "execution_count": 12,
     "metadata": {},
     "output_type": "execute_result"
    }
   ],
   "source": [
    "var account = new Account(\"Simulation\",\"USD\", 100000.00, Context.date(\"2015-01-01\"), new PerTradeFees(10.0))\n",
    "var stockdata = new StockData(new StockID(\"AAPL\", \"NASDAQ\"), new MarketArchiveHttpReader())\n",
    "var strategy = new RSI2Strategy(stockdata)\n",
    "var trader = new PaperTrader(account)\n",
    "trader.setPrice(new OpenPrice())\n",
    "trader.setDelay(new OneDayDelay())\n",
    "var state = new Fitness(trader).getFitness(strategy, account.getDateRange())\n",
    "\n",
    "// print one parameter\n",
    "\"Return: \" + state.result().getValue(KPI.AbsoluteReturn)"
   ]
  },
  {
   "cell_type": "markdown",
   "metadata": {},
   "source": [
    "### Close Price of Next Day ##\n",
    "\n",
    "We get the buy/sell signar based on the closing price and perform the trade the next day at the close price"
   ]
  },
  {
   "cell_type": "code",
   "execution_count": 13,
   "metadata": {},
   "outputs": [
    {
     "data": {
      "text/plain": [
       "Return: 56004.0"
      ]
     },
     "execution_count": 13,
     "metadata": {},
     "output_type": "execute_result"
    }
   ],
   "source": [
    "var account = new Account(\"Simulation\",\"USD\", 100000.00, Context.date(\"2015-01-01\"), new PerTradeFees(10.0))\n",
    "var stockdata = new StockData(new StockID(\"AAPL\", \"NASDAQ\"), new MarketArchiveHttpReader())\n",
    "var strategy = new RSI2Strategy(stockdata)\n",
    "var trader = new PaperTrader(account)\n",
    "trader.setPrice(new ClosePrice())\n",
    "trader.setDelay(new OneDayDelay())\n",
    "var state = new Fitness(trader).getFitness(strategy, account.getDateRange())\n",
    "\n",
    "// print one parameter\n",
    "\"Return: \" + state.result().getValue(KPI.AbsoluteReturn)"
   ]
  },
  {
   "cell_type": "markdown",
   "metadata": {},
   "source": [
    "### Avarage Price of Next Day ##\n",
    "\n",
    "We get the buy/sell signar based on the closing price and perform the trade the next day at the close price"
   ]
  },
  {
   "cell_type": "code",
   "execution_count": 14,
   "metadata": {},
   "outputs": [
    {
     "data": {
      "text/plain": [
       "Return: 4439.0"
      ]
     },
     "execution_count": 14,
     "metadata": {},
     "output_type": "execute_result"
    }
   ],
   "source": [
    "var account = new Account(\"Simulation\",\"USD\", 100000.00, Context.date(\"2015-01-01\"), new PerTradeFees(10.0))\n",
    "var stockdata = new StockData(new StockID(\"AAPL\", \"NASDAQ\"), new MarketArchiveHttpReader())\n",
    "var strategy = new RSI2Strategy(stockdata)\n",
    "var trader = new PaperTrader(account)\n",
    "trader.setPrice(new AvaragePrice())\n",
    "trader.setDelay(new OneDayDelay())\n",
    "var state = new Fitness(trader).getFitness(strategy, account.getDateRange())\n",
    "\n",
    "// print one parameter\n",
    "\"Return: \" + state.result().getValue(KPI.AbsoluteReturn)"
   ]
  },
  {
   "cell_type": "code",
   "execution_count": null,
   "metadata": {},
   "outputs": [],
   "source": []
  }
 ],
 "metadata": {
  "kernelspec": {
   "display_name": "Scala",
   "language": "scala",
   "name": "scala"
  },
  "language_info": {
   "codemirror_mode": "text/x-scala",
   "file_extension": ".scala",
   "mimetype": "",
   "name": "Scala",
   "nbconverter_exporter": "",
   "version": "2.11.12"
  }
 },
 "nbformat": 4,
 "nbformat_minor": 2
}
