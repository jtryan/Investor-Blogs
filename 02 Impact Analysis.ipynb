{
 "cells": [
  {
   "cell_type": "markdown",
   "metadata": {},
   "source": [
    "# Impact Analysis #\n",
    "\n",
    "Now that we have the tool we can do some investigations:\n",
    "\n",
    "- What is the impact of changing the data source ? \n",
    "- Does it make a difference if we take avarage rates instead of end of day rates ?\n",
    "\n",
    "## Setup the Environmant ##\n",
    "But first we need to setup the JupyterLab environment"
   ]
  },
  {
   "cell_type": "code",
   "execution_count": 1,
   "metadata": {},
   "outputs": [
    {
     "name": "stdout",
     "output_type": "stream",
     "text": [
      "Added new repo: maven-public\n"
     ]
    },
    {
     "data": {
      "application/vnd.jupyter.widget-view+json": {
       "model_id": "",
       "version_major": 2,
       "version_minor": 0
      },
      "method": "display_data"
     },
     "metadata": {},
     "output_type": "display_data"
    },
    {
     "data": {
      "application/vnd.jupyter.widget-view+json": {
       "model_id": "28b35c3f-d733-47f6-ae58-b1a7647d83c1",
       "version_major": 2,
       "version_minor": 0
      },
      "method": "display_data"
     },
     "metadata": {},
     "output_type": "display_data"
    },
    {
     "data": {
      "application/vnd.jupyter.widget-view+json": {
       "model_id": "",
       "version_major": 2,
       "version_minor": 0
      },
      "method": "display_data"
     },
     "metadata": {},
     "output_type": "display_data"
    },
    {
     "data": {
      "application/vnd.jupyter.widget-view+json": {
       "model_id": "b33482e5-5fbd-4291-a22d-5b2d5a23b8da",
       "version_major": 2,
       "version_minor": 0
      },
      "method": "display_data"
     },
     "metadata": {},
     "output_type": "display_data"
    }
   ],
   "source": [
    "%classpath config resolver maven-public http://software.pschatzmann.ch/repository/maven-public/\n",
    "%classpath add mvn ch.pschatzmann:investor:0.9-SNAPSHOT\n",
    "%classpath add mvn ch.pschatzmann:jupyter-jdk-extensions:0.0.1-SNAPSHOT\n"
   ]
  },
  {
   "cell_type": "code",
   "execution_count": 2,
   "metadata": {},
   "outputs": [
    {
     "data": {
      "text/plain": [
       "import ch.pschatzmann.dates._\n",
       "import ch.pschatzmann.stocks._\n",
       "import ch.pschatzmann.stocks.data.universe._\n",
       "import ch.pschatzmann.stocks.input._\n",
       "import ch.pschatzmann.stocks.accounting._\n",
       "import ch.pschatzmann.stocks.accounting.kpi._\n",
       "import ch.pschatzmann.stocks.execution._\n",
       "import ch.pschatzmann.stocks.execution.fees._\n",
       "import ch.pschatzmann.stocks.execution.price._\n",
       "import ch.pschatzmann.stocks.parameters._\n",
       "import ch.pschatzmann.stocks.strategy._\n",
       "import ch.pschatzmann.stocks.strategy.optimization._\n",
       "import ch.pschatzmann.stocks.strategy.allocation._\n",
       "import ch.pschatzmann.stocks.strategy.selection._\n",
       "import ch.pschatzmann.stocks.integration._\n",
       "import ch.pschatzmann.stocks.strategy.OptimizedStrategy.Schedule._\n",
       "import ch.pschatzmann.display.Displayers\n",
       "import ch.pschatzmann.display.Table\n",
       "import ja..."
      ]
     },
     "execution_count": 2,
     "metadata": {},
     "output_type": "execute_result"
    }
   ],
   "source": [
    "// our stock evaluation framwork\n",
    "import ch.pschatzmann.dates._;\n",
    "import ch.pschatzmann.stocks._;\n",
    "import ch.pschatzmann.stocks.data.universe._;\n",
    "import ch.pschatzmann.stocks.input._;\n",
    "import ch.pschatzmann.stocks.accounting._;\n",
    "import ch.pschatzmann.stocks.accounting.kpi._;\n",
    "import ch.pschatzmann.stocks.execution._;\n",
    "import ch.pschatzmann.stocks.execution.fees._;\n",
    "import ch.pschatzmann.stocks.execution.price._;\n",
    "import ch.pschatzmann.stocks.parameters._;\n",
    "import ch.pschatzmann.stocks.strategy._;\n",
    "import ch.pschatzmann.stocks.strategy.optimization._;\n",
    "import ch.pschatzmann.stocks.strategy.allocation._;\n",
    "import ch.pschatzmann.stocks.strategy.selection._;\n",
    "import ch.pschatzmann.stocks.integration._;\n",
    "import ch.pschatzmann.stocks.strategy.OptimizedStrategy.Schedule._;\n",
    "\n",
    "/// jupyter custom displayer\n",
    "import ch.pschatzmann.display.Displayers\n",
    "import ch.pschatzmann.display.Table\n",
    "\n",
    "// java\n",
    "import java.util.stream.Collectors;\n",
    "import java.util._;\n",
    "import java.lang._;\n",
    "import java.util.function.Consumer;\n",
    "\n"
   ]
  },
  {
   "cell_type": "markdown",
   "metadata": {},
   "source": [
    "## Impact of Data Source ##\n",
    "\n",
    "First we want to investigate the impact of the data source on the result of a trading strategy. We use Apple with the RSI2 Strategy and check the result for different data readers. \n",
    "\n",
    "### MarketArchiveHttpReader ###"
   ]
  },
  {
   "cell_type": "code",
   "execution_count": 3,
   "metadata": {},
   "outputs": [
    {
     "data": {
      "text/plain": [
       "Return: 87513.0"
      ]
     },
     "execution_count": 3,
     "metadata": {},
     "output_type": "execute_result"
    }
   ],
   "source": [
    "var account = new Account(\"Simulation\",\"USD\", 100000.00, Context.date(\"2015-01-01\"), new PerTradeFees(10.0));\n",
    "var stockdata = new StockData(new StockID(\"AAPL\", \"NASDAQ\"), new MarketArchiveHttpReader());\n",
    "var strategy = new RSI2Strategy(stockdata);\n",
    "var trader = new PaperTrader(account);\n",
    "var state = new Fitness(trader).getFitness(strategy, account.getDateRange());\n",
    "\n",
    "// print one parameter\n",
    "\"Return: \" + state.result().getValue(KPI.AbsoluteReturn);\n"
   ]
  },
  {
   "cell_type": "markdown",
   "metadata": {},
   "source": [
    "### Quandl WIKI ###"
   ]
  },
  {
   "cell_type": "code",
   "execution_count": 4,
   "metadata": {},
   "outputs": [
    {
     "data": {
      "text/plain": [
       "Return: 76282.0"
      ]
     },
     "execution_count": 4,
     "metadata": {},
     "output_type": "execute_result"
    }
   ],
   "source": [
    "var account = new Account(\"Simulation\",\"USD\", 100000.00, Context.date(\"2015-01-01\"), new PerTradeFees(10.0));\n",
    "var stockdataQ = new StockData(new StockID(\"AAPL\", \"NASDAQ\"), new QuandlWIKIReader());\n",
    "var strategy = new RSI2Strategy(stockdataQ);\n",
    "var trader = new PaperTrader(account);\n",
    "var state = new Fitness(trader).getFitness(strategy, account.getDateRange());\n",
    "\n",
    "// print one parameter\n",
    "\"Return: \" + state.result().getValue(KPI.AbsoluteReturn);"
   ]
  },
  {
   "cell_type": "markdown",
   "metadata": {},
   "source": [
    "### Yahoo ###"
   ]
  },
  {
   "cell_type": "code",
   "execution_count": 5,
   "metadata": {},
   "outputs": [
    {
     "data": {
      "text/plain": [
       "Return: 139969.0"
      ]
     },
     "execution_count": 5,
     "metadata": {},
     "output_type": "execute_result"
    }
   ],
   "source": [
    "var account = new Account(\"Simulation\",\"USD\", 100000.00, Context.date(\"2015-01-01\"), new PerTradeFees(10.0));\n",
    "var stockdataYahoo = new StockData(new StockID(\"AAPL\", \"NASDAQ\"), new YahooReader());\n",
    "var strategy = new RSI2Strategy(stockdataYahoo);\n",
    "var trader = new PaperTrader(account);\n",
    "var state = new Fitness(trader).getFitness(strategy, account.getDateRange());\n",
    "\n",
    "// print one parameter\n",
    "\"Return: \" + state.result().getValue(KPI.AbsoluteReturn);"
   ]
  },
  {
   "cell_type": "markdown",
   "metadata": {},
   "source": [
    "### AlphaVantageReader"
   ]
  },
  {
   "cell_type": "code",
   "execution_count": 6,
   "metadata": {},
   "outputs": [
    {
     "data": {
      "text/plain": [
       "Return: 139973.0"
      ]
     },
     "execution_count": 6,
     "metadata": {},
     "output_type": "execute_result"
    }
   ],
   "source": [
    "var account = new Account(\"Simulation\",\"USD\", 100000.00, Context.date(\"2015-01-01\"), new PerTradeFees(10.0));\n",
    "var stockdataAV = new StockData(new StockID(\"AAPL\", \"NASDAQ\"), new AlphaVantageReader());\n",
    "var strategy = new RSI2Strategy(stockdataAV);\n",
    "var trader = new PaperTrader(account);\n",
    "var state = new Fitness(trader).getFitness(strategy, account.getDateRange());\n",
    "\n",
    "// print one parameter\n",
    "\"Return: \" + state.result().getValue(KPI.AbsoluteReturn);"
   ]
  },
  {
   "cell_type": "markdown",
   "metadata": {},
   "source": [
    "### IEXReader"
   ]
  },
  {
   "cell_type": "code",
   "execution_count": 7,
   "metadata": {},
   "outputs": [
    {
     "data": {
      "text/plain": [
       "Return: 139969.0"
      ]
     },
     "execution_count": 7,
     "metadata": {},
     "output_type": "execute_result"
    }
   ],
   "source": [
    "var account = new Account(\"Simulation\",\"USD\", 100000.00, Context.date(\"2015-01-01\"), new PerTradeFees(10.0));\n",
    "var stockdataIEX = new StockData(new StockID(\"AAPL\", \"NASDAQ\"), new IEXReader());\n",
    "var strategy = new RSI2Strategy(stockdataIEX);\n",
    "var trader = new PaperTrader(account);\n",
    "var state = new Fitness(trader).getFitness(strategy, account.getDateRange());\n",
    "\n",
    "// print one parameter\n",
    "\"Return: \" + state.result().getValue(KPI.AbsoluteReturn);"
   ]
  },
  {
   "cell_type": "markdown",
   "metadata": {},
   "source": [
    "### Charts\n",
    "\n",
    "We can compare the three data sources on a chart. In this case we can not put the StockData into the table, because they share all the same key. We wrap them into a HistoricValues object in order to be able to assign a label as key. We could also use Indicators for this purpose instead."
   ]
  },
  {
   "cell_type": "code",
   "execution_count": 17,
   "metadata": {},
   "outputs": [
    {
     "data": {
      "application/vnd.jupyter.widget-view+json": {
       "model_id": "5c560697-643f-40cb-836e-43fbe5d9037e",
       "version_major": 2,
       "version_minor": 0
      },
      "method": "display_data"
     },
     "metadata": {},
     "output_type": "display_data"
    }
   ],
   "source": [
    "\n",
    "var table = Table.create(\n",
    "    HistoricValues.create(stockdata,\"MarketArchive\"), \n",
    "    HistoricValues.create(stockdataQ,\"Quandl\"),\n",
    "    HistoricValues.create(stockdataAV,\"AlphaVantage\"),\n",
    "    HistoricValues.create(stockdataIEX,\"IEX\"),\n",
    "    HistoricValues.create(stockdataYahoo,\"Yahoo\")\n",
    ")\n",
    "\n",
    "new SimpleTimePlot {\n",
    "    data = table.seq()\n",
    "    columns = Seq(\"MarketArchive\",\"Quandl\",\"AlphaVantage\",\"IEX\",\"Yahoo\")\n",
    "    showLegend = false\n",
    "}"
   ]
  },
  {
   "cell_type": "markdown",
   "metadata": {},
   "source": [
    "## Impact of Selection of Rate ##\n",
    "### Closing Prices ###"
   ]
  },
  {
   "cell_type": "code",
   "execution_count": 9,
   "metadata": {},
   "outputs": [
    {
     "data": {
      "text/plain": [
       "Return: 87513.0"
      ]
     },
     "execution_count": 9,
     "metadata": {},
     "output_type": "execute_result"
    }
   ],
   "source": [
    "var account = new Account(\"Simulation\",\"USD\", 100000.00, Context.date(\"2015-01-01\"), new PerTradeFees(10.0))\n",
    "var stockdata = new StockData(new StockID(\"AAPL\", \"NASDAQ\"), new MarketArchiveHttpReader())\n",
    "var strategy = new RSI2Strategy(stockdata)\n",
    "var trader = new PaperTrader(account)\n",
    "trader.setPrice(new ClosePrice())\n",
    "var state = new Fitness(trader).getFitness(strategy, account.getDateRange())\n",
    "\n",
    "// print one parameter\n",
    "\"Return: \" + state.result().getValue(KPI.AbsoluteReturn)"
   ]
  },
  {
   "cell_type": "markdown",
   "metadata": {},
   "source": [
    "### Open Prices ###"
   ]
  },
  {
   "cell_type": "code",
   "execution_count": 10,
   "metadata": {},
   "outputs": [
    {
     "data": {
      "text/plain": [
       "Return: 81297.0"
      ]
     },
     "execution_count": 10,
     "metadata": {},
     "output_type": "execute_result"
    }
   ],
   "source": [
    "var account = new Account(\"Simulation\",\"USD\", 100000.00, Context.date(\"2015-01-01\"), new PerTradeFees(10.0))\n",
    "var stockdata = new StockData(new StockID(\"AAPL\", \"NASDAQ\"), new MarketArchiveHttpReader())\n",
    "var strategy = new RSI2Strategy(stockdata)\n",
    "var trader = new PaperTrader(account)\n",
    "trader.setPrice(new OpenPrice())\n",
    "var state = new Fitness(trader).getFitness(strategy, account.getDateRange())\n",
    "\n",
    "// print one parameter\n",
    "\"Return: \" + state.result().getValue(KPI.AbsoluteReturn)"
   ]
  },
  {
   "cell_type": "markdown",
   "metadata": {},
   "source": [
    "### Avarege (between High and Low) Prices ###"
   ]
  },
  {
   "cell_type": "code",
   "execution_count": 11,
   "metadata": {},
   "outputs": [
    {
     "data": {
      "text/plain": [
       "Return: 23794.0"
      ]
     },
     "execution_count": 11,
     "metadata": {},
     "output_type": "execute_result"
    }
   ],
   "source": [
    "var account = new Account(\"Simulation\",\"USD\", 100000.00, Context.date(\"2015-01-01\"), new PerTradeFees(10.0))\n",
    "var stockdata = new StockData(new StockID(\"AAPL\", \"NASDAQ\"), new MarketArchiveHttpReader())\n",
    "var strategy = new RSI2Strategy(stockdata)\n",
    "var trader = new PaperTrader(account)\n",
    "trader.setPrice(new AvaragePrice())\n",
    "var state = new Fitness(trader).getFitness(strategy, account.getDateRange())\n",
    "\n",
    "// print one parameter\n",
    "\"Return: \" + state.result().getValue(KPI.AbsoluteReturn)"
   ]
  },
  {
   "cell_type": "markdown",
   "metadata": {},
   "source": [
    "## Impact of Delays ##\n",
    "### Same Day ##\n",
    "We assume that we can do the deal at the close price for the same day. This suffers from look ahead bias because during the day the close price is not know"
   ]
  },
  {
   "cell_type": "code",
   "execution_count": 12,
   "metadata": {},
   "outputs": [
    {
     "data": {
      "text/plain": [
       "Return: 87513.0"
      ]
     },
     "execution_count": 12,
     "metadata": {},
     "output_type": "execute_result"
    }
   ],
   "source": [
    "var account = new Account(\"Simulation\",\"USD\", 100000.00, Context.date(\"2015-01-01\"), new PerTradeFees(10.0))\n",
    "var stockdata = new StockData(new StockID(\"AAPL\", \"NASDAQ\"), new MarketArchiveHttpReader())\n",
    "var strategy = new RSI2Strategy(stockdata)\n",
    "var trader = new PaperTrader(account)\n",
    "trader.setPrice(new ClosePrice())\n",
    "var state = new Fitness(trader).getFitness(strategy, account.getDateRange())\n",
    "\n",
    "// print one parameter\n",
    "\"Return: \" + state.result().getValue(KPI.AbsoluteReturn)"
   ]
  },
  {
   "cell_type": "markdown",
   "metadata": {},
   "source": [
    "### Open Price of Next Day ##\n",
    "\n",
    "We get the buy/sell signar based on the closing price and perform the trade the next day at the open price"
   ]
  },
  {
   "cell_type": "code",
   "execution_count": 13,
   "metadata": {},
   "outputs": [
    {
     "data": {
      "text/plain": [
       "Return: 89494.0"
      ]
     },
     "execution_count": 13,
     "metadata": {},
     "output_type": "execute_result"
    }
   ],
   "source": [
    "var account = new Account(\"Simulation\",\"USD\", 100000.00, Context.date(\"2015-01-01\"), new PerTradeFees(10.0))\n",
    "var stockdata = new StockData(new StockID(\"AAPL\", \"NASDAQ\"), new MarketArchiveHttpReader())\n",
    "var strategy = new RSI2Strategy(stockdata)\n",
    "var trader = new PaperTrader(account)\n",
    "trader.setPrice(new OpenPrice())\n",
    "trader.setDelay(new OneDayDelay())\n",
    "var state = new Fitness(trader).getFitness(strategy, account.getDateRange())\n",
    "\n",
    "// print one parameter\n",
    "\"Return: \" + state.result().getValue(KPI.AbsoluteReturn)"
   ]
  },
  {
   "cell_type": "markdown",
   "metadata": {},
   "source": [
    "### Close Price of Next Day ##\n",
    "\n",
    "We get the buy/sell signar based on the closing price and perform the trade the next day at the close price"
   ]
  },
  {
   "cell_type": "code",
   "execution_count": 14,
   "metadata": {},
   "outputs": [
    {
     "data": {
      "text/plain": [
       "Return: 93475.0"
      ]
     },
     "execution_count": 14,
     "metadata": {},
     "output_type": "execute_result"
    }
   ],
   "source": [
    "var account = new Account(\"Simulation\",\"USD\", 100000.00, Context.date(\"2015-01-01\"), new PerTradeFees(10.0))\n",
    "var stockdata = new StockData(new StockID(\"AAPL\", \"NASDAQ\"), new MarketArchiveHttpReader())\n",
    "var strategy = new RSI2Strategy(stockdata)\n",
    "var trader = new PaperTrader(account)\n",
    "trader.setPrice(new ClosePrice())\n",
    "trader.setDelay(new OneDayDelay())\n",
    "var state = new Fitness(trader).getFitness(strategy, account.getDateRange())\n",
    "\n",
    "// print one parameter\n",
    "\"Return: \" + state.result().getValue(KPI.AbsoluteReturn)"
   ]
  },
  {
   "cell_type": "markdown",
   "metadata": {},
   "source": [
    "### Avarage Price of Next Day ##\n",
    "\n",
    "We get the buy/sell signar based on the closing price and perform the trade the next day at the close price"
   ]
  },
  {
   "cell_type": "code",
   "execution_count": 15,
   "metadata": {},
   "outputs": [
    {
     "data": {
      "text/plain": [
       "Return: 28101.0"
      ]
     },
     "execution_count": 15,
     "metadata": {},
     "output_type": "execute_result"
    }
   ],
   "source": [
    "var account = new Account(\"Simulation\",\"USD\", 100000.00, Context.date(\"2015-01-01\"), new PerTradeFees(10.0))\n",
    "var stockdata = new StockData(new StockID(\"AAPL\", \"NASDAQ\"), new MarketArchiveHttpReader())\n",
    "var strategy = new RSI2Strategy(stockdata)\n",
    "var trader = new PaperTrader(account)\n",
    "trader.setPrice(new AvaragePrice())\n",
    "trader.setDelay(new OneDayDelay())\n",
    "var state = new Fitness(trader).getFitness(strategy, account.getDateRange())\n",
    "\n",
    "// print one parameter\n",
    "\"Return: \" + state.result().getValue(KPI.AbsoluteReturn)"
   ]
  },
  {
   "cell_type": "code",
   "execution_count": null,
   "metadata": {},
   "outputs": [],
   "source": []
  }
 ],
 "metadata": {
  "kernelspec": {
   "display_name": "Scala",
   "language": "scala",
   "name": "scala"
  },
  "language_info": {
   "codemirror_mode": "text/x-scala",
   "file_extension": ".scala",
   "mimetype": "",
   "name": "Scala",
   "nbconverter_exporter": "",
   "version": "2.11.12"
  }
 },
 "nbformat": 4,
 "nbformat_minor": 2
}
