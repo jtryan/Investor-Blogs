{
 "cells": [
  {
   "cell_type": "markdown",
   "metadata": {},
   "source": [
    "# Forecasting #\n",
    "\n",
    "The longer you look back, the farther you can look forward. (Winston Churchill) \n",
    "\n",
    "Forecastig of the development of stocks is quite a challagning task with uncertain outcome. In these kind of situations \n",
    "it is of advantage to use scenarios to identify possible outcomes.\n",
    "\n",
    "- Forecasting applying existing history data\n",
    "- Forecasting of Global Trend (Bull or Bear)\n",
    "- Forecasting of Crash\n",
    "- Forecating of Individual Stocks Short Term\n",
    "\n",
    "### Setup ###"
   ]
  },
  {
   "cell_type": "code",
   "execution_count": 1,
   "metadata": {},
   "outputs": [
    {
     "name": "stdout",
     "output_type": "stream",
     "text": [
      "Added new repo: maven-public\n"
     ]
    },
    {
     "data": {
      "application/vnd.jupyter.widget-view+json": {
       "model_id": "",
       "version_major": 2,
       "version_minor": 0
      },
      "method": "display_data"
     },
     "metadata": {},
     "output_type": "display_data"
    },
    {
     "data": {
      "application/vnd.jupyter.widget-view+json": {
       "model_id": "c5480618-7319-44c8-9108-37228253321d",
       "version_major": 2,
       "version_minor": 0
      },
      "method": "display_data"
     },
     "metadata": {},
     "output_type": "display_data"
    },
    {
     "data": {
      "application/vnd.jupyter.widget-view+json": {
       "model_id": "",
       "version_major": 2,
       "version_minor": 0
      },
      "method": "display_data"
     },
     "metadata": {},
     "output_type": "display_data"
    },
    {
     "data": {
      "application/vnd.jupyter.widget-view+json": {
       "model_id": "17a9bee0-145b-4a4a-ad9d-08270d3b3caf",
       "version_major": 2,
       "version_minor": 0
      },
      "method": "display_data"
     },
     "metadata": {},
     "output_type": "display_data"
    }
   ],
   "source": [
    "%classpath config resolver maven-public http://192.168.1.10:8081/repository/maven-public/\n",
    "%classpath add mvn ch.pschatzmann:investor:0.9-SNAPSHOT\n",
    "%classpath add mvn ch.pschatzmann:jupyter-jdk-extensions:0.0.1-SNAPSHOT\n"
   ]
  },
  {
   "cell_type": "code",
   "execution_count": 16,
   "metadata": {},
   "outputs": [
    {
     "data": {
      "text/plain": [
       "import ch.pschatzmann.dates._\n",
       "import ch.pschatzmann.stocks._\n",
       "import ch.pschatzmann.stocks.data.universe._\n",
       "import ch.pschatzmann.stocks.input._\n",
       "import ch.pschatzmann.stocks.accounting._\n",
       "import ch.pschatzmann.stocks.accounting.kpi._\n",
       "import ch.pschatzmann.stocks.execution._\n",
       "import ch.pschatzmann.stocks.execution.fees._\n",
       "import ch.pschatzmann.stocks.execution.price._\n",
       "import ch.pschatzmann.stocks.parameters._\n",
       "import ch.pschatzmann.stocks.strategy._\n",
       "import ch.pschatzmann.stocks.strategy.optimization._\n",
       "import ch.pschatzmann.stocks.strategy.allocation._\n",
       "import ch.pschatzmann.stocks.strategy.selection._\n",
       "import ch.pschatzmann.stocks.integration._\n",
       "import ch.pschatzmann.stocks.forecasting._\n",
       "import ch.pschatzmann.stocks.strategy.OptimizedStrategy.Schedule._\n",
       "import java.util.stream.Collectors\n",
       "import j..."
      ]
     },
     "execution_count": 16,
     "metadata": {},
     "output_type": "execute_result"
    }
   ],
   "source": [
    "// our stock evaluation framwork\n",
    "import ch.pschatzmann.dates._;\n",
    "import ch.pschatzmann.stocks._;\n",
    "import ch.pschatzmann.stocks.data.universe._;\n",
    "import ch.pschatzmann.stocks.input._;\n",
    "import ch.pschatzmann.stocks.accounting._;\n",
    "import ch.pschatzmann.stocks.accounting.kpi._;\n",
    "import ch.pschatzmann.stocks.execution._;\n",
    "import ch.pschatzmann.stocks.execution.fees._;\n",
    "import ch.pschatzmann.stocks.execution.price._;\n",
    "import ch.pschatzmann.stocks.parameters._;\n",
    "import ch.pschatzmann.stocks.strategy._;\n",
    "import ch.pschatzmann.stocks.strategy.optimization._;\n",
    "import ch.pschatzmann.stocks.strategy.allocation._;\n",
    "import ch.pschatzmann.stocks.strategy.selection._;\n",
    "import ch.pschatzmann.stocks.integration._;\n",
    "import ch.pschatzmann.stocks.forecasting._;\n",
    "import ch.pschatzmann.stocks.strategy.OptimizedStrategy.Schedule._;\n",
    "\n",
    "// java\n",
    "import java.util.stream.Collectors;\n",
    "import java.util._;\n",
    "import java.lang._;\n",
    "import java.util.function.Consumer;\n",
    "\n",
    "// jupyter custom displayer\n",
    "import ch.pschatzmann.display.Displayers\n",
    "import ch.pschatzmann.display.Table\n"
   ]
  },
  {
   "cell_type": "code",
   "execution_count": 30,
   "metadata": {},
   "outputs": [
    {
     "data": {
      "text/plain": [
       "false"
      ]
     },
     "execution_count": 30,
     "metadata": {},
     "output_type": "execute_result"
    }
   ],
   "source": [
    "Displayers.setup(\"WARN\")\n",
    "\n",
    "Context.setCacheActive(false);\n",
    "Context.isCacheActive();\n"
   ]
  },
  {
   "cell_type": "markdown",
   "metadata": {},
   "source": [
    "## Forecasting for AAPL ##"
   ]
  },
  {
   "cell_type": "code",
   "execution_count": 45,
   "metadata": {},
   "outputs": [
    {
     "data": {
      "application/vnd.jupyter.widget-view+json": {
       "model_id": "0b46d910-6a81-479f-b224-f200313f1563",
       "version_major": 2,
       "version_minor": 0
      },
      "method": "display_data"
     },
     "metadata": {},
     "output_type": "display_data"
    }
   ],
   "source": [
    "var aapl = new StockData(new StockID(\"AAPL\", \"NASDAQ\"), new MarketArchiveHttpReader());\n",
    "\n",
    "Table.create(aapl)"
   ]
  },
  {
   "cell_type": "code",
   "execution_count": 38,
   "metadata": {},
   "outputs": [
    {
     "data": {
      "application/vnd.jupyter.widget-view+json": {
       "model_id": "93370495-4e2b-4970-94f2-a3bd293f3eda",
       "version_major": 2,
       "version_minor": 0
      },
      "method": "display_data"
     },
     "metadata": {},
     "output_type": "display_data"
    }
   ],
   "source": [
    "new SimpleTimePlot {\n",
    "    data = Table.create(aapl).seq()\n",
    "    columns = Seq(\"AAPL.Open\",\"AAPL.Closing\")\n",
    "    showLegend = false\n",
    "}"
   ]
  },
  {
   "cell_type": "markdown",
   "metadata": {},
   "source": [
    "## Simulation of Future using the Past ##\n",
    "\n",
    "\n",
    "One possiblity is to simulate the future based on the development of the past: Looking at the chart we can e.g.\n",
    "investigate how our strategy would behave if we would be in a simialr position like on March 2015.\n",
    "\n",
    "We simulate the future develpment based on the development starting from\n",
    "- 2012-09-01 of the AAPL stock\n",
    "- 2015-03-01 of the AAPL stock\n",
    "- 2017-03-01 of the NYSE Composite Index \n"
   ]
  },
  {
   "cell_type": "code",
   "execution_count": 46,
   "metadata": {},
   "outputs": [
    {
     "ename": "<console>",
     "evalue": "164",
     "output_type": "error",
     "text": "<console>:164: error: not found: type TimeSeriesChart\n       var chart = new TimeSeriesChart()\n                       ^\n",
     "traceback": [
      "\u001b[1;31m<console>:164: error: not found: type TimeSeriesChart\u001b[0;0m",
      "\u001b[1;31m       var chart = new TimeSeriesChart()\u001b[0;0m",
      "\u001b[1;31m                       ^\u001b[0;0m"
     ]
    }
   ],
   "source": [
    "var nya = new StockData(new StockID(\"^NYA\", \"INDEX\"), new MarketArchiveHttpReader());\n",
    "\n",
    "var aapl = new StockData(new StockID(\"AAPL\", \"NASDAQ\"), new MarketArchiveHttpReader());\n",
    "var aaplWithFuture1 = new ForecasterFromSimulationOnHistory(Context.date(\"2012-09-01\")).forecast(aapl, 200)\n",
    "var aaplWithFuture2 = new ForecasterFromSimulationOnHistory(Context.date(\"2015-03-01\")).forecast(aapl, 200)\n",
    "var aaplWithFuture3 = new ForecasterFromSimulationOnHistory(Context.date(\"2017-03-01\"),nya).forecast(aapl, 200)\n",
    "\n",
    "// display chart\n",
    "var chart = new TimeSeriesChart()\n",
    "var startDisplayDate = Context.date(\"2012-01-01\")\n",
    "chart.add(aaplWithFuture1.getHistory(startDisplayDate),\"1)2012-09-01\")\n",
    "chart.add(aaplWithFuture2.getHistory(startDisplayDate),\"2)2015-03-01\")\n",
    "chart.add(aaplWithFuture3.getHistory(startDisplayDate),\"3)2017-03-01 nya\")\n",
    "\n",
    "new SimpleTimePlot {\n",
    "    data = Table.create(aaplWithFuture1).seq()\n",
    "    columns = Seq(\"AAPL.Open\",\"AAPL.Closing\")\n",
    "    showLegend = false\n",
    "}"
   ]
  },
  {
   "cell_type": "markdown",
   "metadata": {},
   "source": [
    "### Result for Worst Case Option 1 ###"
   ]
  },
  {
   "cell_type": "code",
   "execution_count": 21,
   "metadata": {},
   "outputs": [
    {
     "data": {
      "text/plain": [
       "AbsoluteReturnAvaragePerDay:-64; NumberOfSells:1; AbsoluteReturn:-12080; ReturnPercentStdDev:0; MaxDrawDownPercent:22736; AbsoluteReturnStdDev:900; ReturnPercentAnualized:-16; NumberOfTradedStocks:1; NumberOfCashTransfers:1; ActualValue:87920; NumberOfTrades:2; MaxDrawDownHighValue:101144; SharpeRatio:-1; MaxDrawDownNumberOfDays:158; UnrealizedGains:0; MaxDrawDownLowValue:78408; RealizedGains:-12060; TotalFees:20; PurchasedValue:87920; ReturnPercent:-12; Cash:87920; NumberOfBuys:1; "
      ]
     },
     "execution_count": 21,
     "metadata": {},
     "output_type": "execute_result"
    }
   ],
   "source": [
    "var dates = Context.getDateRanges(\"2018-01-01\",\"2019-01-01\");\n",
    "\n",
    "var account1 = new Account(\"Simulation\",\"USD\", 100000.00, dates.get(0).getStart(), new PerTradeFees(10.0));\n",
    "var aapl = new StockData(new StockID(\"AAPL\", \"NASDAQ\"), new MarketArchiveHttpReader());\n",
    "var aaplWithFuture1 = new ForecasterFromSimulationOnHistory(Context.date(\"2012-09-01\")).forecast(aapl, 200)\n",
    "var strategy1 = new RSI2Strategy(aaplWithFuture1);\n",
    "var trader1 = new PaperTrader(account1);\n",
    "var state = new Fitness(trader1).getFitness(strategy1, dates.get(0));\n",
    "\n",
    "state.result()"
   ]
  },
  {
   "cell_type": "code",
   "execution_count": 40,
   "metadata": {},
   "outputs": [
    {
     "data": {
      "application/vnd.jupyter.widget-view+json": {
       "model_id": "7438dfa1-cbd9-4f76-b4d5-7184542b6f4a",
       "version_major": 2,
       "version_minor": 0
      },
      "method": "display_data"
     },
     "metadata": {},
     "output_type": "display_data"
    }
   ],
   "source": [
    "Table.create(account1.getTransactions())\n"
   ]
  },
  {
   "cell_type": "markdown",
   "metadata": {},
   "source": [
    "###  Result for Option 2 ###"
   ]
  },
  {
   "cell_type": "code",
   "execution_count": 23,
   "metadata": {},
   "outputs": [
    {
     "data": {
      "text/plain": [
       "AbsoluteReturnAvaragePerDay:-25; NumberOfSells:1; AbsoluteReturn:-4701; ReturnPercentStdDev:0; MaxDrawDownPercent:23743; AbsoluteReturnStdDev:1447; ReturnPercentAnualized:-6; NumberOfTradedStocks:1; NumberOfCashTransfers:1; ActualValue:95299; NumberOfTrades:2; MaxDrawDownHighValue:108853; SharpeRatio:0; MaxDrawDownNumberOfDays:117; UnrealizedGains:0; MaxDrawDownLowValue:85110; RealizedGains:-4681; TotalFees:20; PurchasedValue:95299; ReturnPercent:-5; Cash:95299; NumberOfBuys:1; "
      ]
     },
     "execution_count": 23,
     "metadata": {},
     "output_type": "execute_result"
    }
   ],
   "source": [
    "var dates = Context.getDateRanges(\"2018-01-01\",\"2019-01-01\");\n",
    "\n",
    "var account2 = new Account(\"Simulation\",\"USD\", 100000.00, dates.get(0).getStart(), new PerTradeFees(10.0));\n",
    "var aapl = new StockData(new StockID(\"AAPL\", \"NASDAQ\"), new MarketArchiveHttpReader());\n",
    "var aaplWithFuture2 = new ForecasterFromSimulationOnHistory(Context.date(\"2015-03-01\")).forecast(aapl, 200)\n",
    "var strategy2 = new RSI2Strategy(aaplWithFuture2);\n",
    "var trader2 = new PaperTrader(account2);\n",
    "var state2 = new Fitness(trader2).getFitness(strategy2, dates.get(0));\n",
    "\n",
    "state2.result()"
   ]
  },
  {
   "cell_type": "code",
   "execution_count": 41,
   "metadata": {},
   "outputs": [
    {
     "data": {
      "application/vnd.jupyter.widget-view+json": {
       "model_id": "4ca227c4-d3eb-40b0-be7c-761238d87851",
       "version_major": 2,
       "version_minor": 0
      },
      "method": "display_data"
     },
     "metadata": {},
     "output_type": "display_data"
    }
   ],
   "source": [
    "Table.create(account2.getTransactions())\n"
   ]
  },
  {
   "cell_type": "markdown",
   "metadata": {},
   "source": [
    "### Result for Best Case - Option 3 ###"
   ]
  },
  {
   "cell_type": "code",
   "execution_count": 42,
   "metadata": {},
   "outputs": [
    {
     "ename": "<console>",
     "evalue": "158",
     "output_type": "error",
     "text": "<console>:158: error: not found: value nya\n       var aaplWithFuture3 = new ForecasterFromSimulationOnHistory(Context.date(\"2017-03-01\"),nya).forecast(aapl, 200)\n                                                                                              ^\n",
     "traceback": [
      "\u001b[1;31m<console>:158: error: not found: value nya\u001b[0;0m",
      "\u001b[1;31m       var aaplWithFuture3 = new ForecasterFromSimulationOnHistory(Context.date(\"2017-03-01\"),nya).forecast(aapl, 200)\u001b[0;0m",
      "\u001b[1;31m                                                                                              ^\u001b[0;0m"
     ]
    }
   ],
   "source": [
    "var dates = Context.getDateRanges(\"2018-01-01\",\"2019-01-01\");\n",
    "\n",
    "var account3 = new Account(\"Simulation\",\"USD\", 100000.00, dates.get(0).getStart(), new PerTradeFees(10.0));\n",
    "var aapl = new StockData(new StockID(\"AAPL\", \"NASDAQ\"), new MarketArchiveHttpReader());\n",
    "var aaplWithFuture3 = new ForecasterFromSimulationOnHistory(Context.date(\"2017-03-01\"),nya).forecast(aapl, 200)\n",
    "var strategy3 = new RSI2Strategy(aaplWithFuture3);\n",
    "var trader3 = new PaperTrader(account3);\n",
    "var state3 = new Fitness(trader3).getFitness(strategy3, dates.get(0));\n",
    "\n",
    "state3.result()"
   ]
  },
  {
   "cell_type": "code",
   "execution_count": 26,
   "metadata": {},
   "outputs": [
    {
     "ename": "<console>",
     "evalue": "151",
     "output_type": "error",
     "text": "<console>:151: error: not found: value account3\n       Displayers.display(account3.getTransactions().collect(Collectors.toList()));\n                          ^\n",
     "traceback": [
      "\u001b[1;31m<console>:151: error: not found: value account3\u001b[0;0m",
      "\u001b[1;31m       Displayers.display(account3.getTransactions().collect(Collectors.toList()));\u001b[0;0m",
      "\u001b[1;31m                          ^\u001b[0;0m"
     ]
    }
   ],
   "source": [
    "Displayers.display(account3.getTransactions().collect(Collectors.toList()));\n"
   ]
  },
  {
   "cell_type": "markdown",
   "metadata": {},
   "source": [
    "## Arima ##"
   ]
  },
  {
   "cell_type": "code",
   "execution_count": 43,
   "metadata": {},
   "outputs": [
    {
     "ename": "<console>",
     "evalue": "161",
     "output_type": "error",
     "text": "<console>:161: error: not found: type TimeSeriesChart\n       var chart = new TimeSeriesChart()\n                       ^\n",
     "traceback": [
      "\u001b[1;31m<console>:161: error: not found: type TimeSeriesChart\u001b[0;0m",
      "\u001b[1;31m       var chart = new TimeSeriesChart()\u001b[0;0m",
      "\u001b[1;31m                       ^\u001b[0;0m"
     ]
    }
   ],
   "source": [
    "import ch.pschatzmann.stocks.forecasting._\n",
    "import com.workday.insights.timeseries.arima.struct.ArimaParams\n",
    "\n",
    "var aapl = new StockData(new StockID(\"^NYA\", \"INDEX\"), new MarketArchiveHttpReader());\n",
    "var params = new ArimaParams(1, 0, 0, 0, 0, 0, 0);\n",
    "var arima = new ForecasterARIMA(params)\n",
    "var aaplArima = arima.forecast(aapl, 800)\n",
    "\n",
    "// display chart\n",
    "var chart = new TimeSeriesChart()\n",
    "chart.add(aaplArima.getHistory(Context.date(\"2016-01-01\")),\"AAPL\")\n",
    "\n",
    "chart"
   ]
  },
  {
   "cell_type": "code",
   "execution_count": 28,
   "metadata": {},
   "outputs": [
    {
     "ename": "<console>",
     "evalue": "150",
     "output_type": "error",
     "text": "<console>:150: error: not found: value arima\n       var result = arima.getClose()\n                    ^\n",
     "traceback": [
      "\u001b[1;31m<console>:150: error: not found: value arima\u001b[0;0m",
      "\u001b[1;31m       var result = arima.getClose()\u001b[0;0m",
      "\u001b[1;31m                    ^\u001b[0;0m"
     ]
    }
   ],
   "source": [
    "var result = arima.getClose()\n",
    "println(result.getRMSE())\n",
    "println(result.getMaxNormalizedVariance)\n",
    "result.getLog()"
   ]
  },
  {
   "cell_type": "code",
   "execution_count": 29,
   "metadata": {},
   "outputs": [
    {
     "ename": "<console>",
     "evalue": "150",
     "output_type": "error",
     "text": "<console>:150: error: not found: value arima\n       var result = arima.getOpen()\n                    ^\n",
     "traceback": [
      "\u001b[1;31m<console>:150: error: not found: value arima\u001b[0;0m",
      "\u001b[1;31m       var result = arima.getOpen()\u001b[0;0m",
      "\u001b[1;31m                    ^\u001b[0;0m"
     ]
    }
   ],
   "source": [
    "var result = arima.getOpen()\n",
    "println(result.getRMSE())\n",
    "println(result.getMaxNormalizedVariance)\n",
    "result.getLog()"
   ]
  },
  {
   "cell_type": "code",
   "execution_count": null,
   "metadata": {},
   "outputs": [],
   "source": []
  }
 ],
 "metadata": {
  "kernelspec": {
   "display_name": "Scala",
   "language": "scala",
   "name": "scala"
  },
  "language_info": {
   "codemirror_mode": "text/x-scala",
   "file_extension": ".scala",
   "mimetype": "",
   "name": "Scala",
   "nbconverter_exporter": "",
   "version": "2.11.12"
  }
 },
 "nbformat": 4,
 "nbformat_minor": 2
}
