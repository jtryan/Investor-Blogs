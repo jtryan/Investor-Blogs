{
 "cells": [
  {
   "cell_type": "markdown",
   "metadata": {},
   "source": [
    "# Selection of Stocks / Distributed Processing #\n",
    "\n",
    "In order to speed up the processsing we can try to distribute the load. Apache Spark is a popular framework for  large-scale data processing. \n",
    "\n",
    "However I gave it up because I was running into too many problems\n",
    "- Jar Dependency hell because different compoentents were asking for different versions of Jackson\n",
    "- The clustering does not work in Docker Swarm mode with OS/X\n",
    "- It is not possible just to rely on Maven for the deployment in cluster mode.\n",
    "- It needs to have a local installation if you want to start an instance in cluster mode\n",
    "\n",
    "As a less painfull approach we show how to use the scripting-ws to achieve the same goal. This tool is easier to set up and deploy in a multihost environemnt.\n",
    "\n",
    "In this document we demonstrate the different approaches and compare the runtimes."
   ]
  },
  {
   "cell_type": "markdown",
   "metadata": {},
   "source": [
    "## Setup ##\n",
    "### Import Libraries ###"
   ]
  },
  {
   "cell_type": "code",
   "execution_count": 1,
   "metadata": {},
   "outputs": [
    {
     "name": "stdout",
     "output_type": "stream",
     "text": [
      "Added new repo: maven-public\n"
     ]
    },
    {
     "data": {
      "application/vnd.jupyter.widget-view+json": {
       "model_id": "dd5473d3-7ad9-41d2-bce6-e2c0fcc0b897",
       "version_major": 2,
       "version_minor": 0
      },
      "method": "display_data"
     },
     "metadata": {},
     "output_type": "display_data"
    },
    {
     "name": "stdout",
     "output_type": "stream",
     "text": [
      "Added jars: [combinatoradix-0.8.2.jar, commons-jcs-core-2.0.jar, httpmime-4.5.2.jar, websocket-api-9.2.20.v20161216.jar, YahooFinanceAPI-3.12.3.jar, httpclient-4.5.3.jar, log4j-1.2.17.jar, xalan-2.7.2.jar, jcl-over-slf4j-1.7.25.jar, xml-apis-1.4.01.jar, slf4j-api-1.7.25.jar, htmlunit-core-js-2.23.jar, ant-1.5.jar, jackson-annotations-2.9.4.jar, timeseries-forecast-1.1.1.jar, slf4j-log4j12-1.7.25.jar, qdox-1.5.jar, sevenzipjbinding-all-platforms-9.20-2.00beta.jar, commons-codec-1.10.jar, cssparser-0.9.21.jar, jackson-core-2.9.4.jar, commons-cli-1.3.1.jar, jfreechart-1.5.0.jar, websocket-common-9.2.20.v20161216.jar, commons-io-2.5.jar, sojo-1.0.5.jar, jackson-databind-2.9.4.jar, ta4j-core-0.10.jar, neko-htmlunit-2.24.jar, junit-4.10.jar, websocket-client-9.2.20.v20161216.jar, jetty-util-9.2.20.v20161216.jar, commons-lang3-3.5.jar, investor-0.9-SNAPSHOT.jar, commons-attributes-api-2.2.jar, sac-1.3.jar, sevenzipjbinding-9.20-2.00beta.jar, jetty-io-9.2.20.v20161216.jar, xercesImpl-2.11.0.jar, hamcrest-core-1.1.jar, serializer-2.7.2.jar, httpcore-4.4.6.jar, htmlunit-2.24.jar]\n"
     ]
    },
    {
     "data": {
      "application/vnd.jupyter.widget-view+json": {
       "model_id": "9a7a4a18-7162-41cc-a4c5-1ab950bb1251",
       "version_major": 2,
       "version_minor": 0
      },
      "method": "display_data"
     },
     "metadata": {},
     "output_type": "display_data"
    },
    {
     "name": "stdout",
     "output_type": "stream",
     "text": [
      "Added jars: [concurrent-1.3.4.jar, jcs-1.3.jar, jupyter-jdk-extensions-0.0.1-SNAPSHOT.jar, logkit-1.0.1.jar, avalon-framework-4.1.3.jar, servlet-api-2.3.jar, in-memory-stardb-0.0.1-SNAPSHOT.jar, common-0.0.1-SNAPSHOT.jar, commons-logging-1.1.jar]\n"
     ]
    },
    {
     "data": {
      "application/vnd.jupyter.widget-view+json": {
       "model_id": "4444e868-fbfc-4a82-8551-386f57e14ee3",
       "version_major": 2,
       "version_minor": 0
      },
      "method": "display_data"
     },
     "metadata": {},
     "output_type": "display_data"
    },
    {
     "name": "stdout",
     "output_type": "stream",
     "text": [
      "Added jars: [reactor-core-3.1.1.RELEASE.jar, javax.inject-2.5.0-b42.jar, reactive-streams-1.0.1.jar, scala-library-2.12.4.jar, commons-jcs-jcache-2.2.jar, commons-jcs-core-2.2.jar, objenesis-2.5.1.jar, jackson-dataformat-yaml-2.9.4.jar, netty-codec-4.1.20.Final.jar, jersey-container-jdk-http-2.26.jar, jackson-module-jaxb-annotations-2.9.4.jar, javax.annotation-api-1.2.jar, netty-transport-4.1.20.Final.jar, javax.inject-1.jar, hk2-utils-2.5.0-b42.jar, netty-common-4.1.20.Final.jar, netty-codec-dns-4.1.20.Final.jar, mimepull-1.9.6.jar, minlog-1.3.0.jar, netty-resolver-dns-4.1.20.Final.jar, byte-buddy-1.6.14.jar, scala-xml_2.12-1.0.6.jar, redisson-3.6.0.jar, javax.ws.rs-api-2.1.jar, cache-api-1.0.0.jar, snakeyaml-1.18.jar, commons-logging-1.2.jar, validation-api-1.1.0.Final.jar, jersey-server-2.26.jar, netty-handler-4.1.20.Final.jar, netty-resolver-4.1.20.Final.jar, scala-reflect-2.12.4.jar, hk2-api-2.5.0-b42.jar, jersey-hk2-2.26.jar, jersey-client-2.26.jar, osgi-resource-locator-1.0.1.jar, jersey-entity-filtering-2.26.jar, kryo-shaded-4.0.1.jar, jodd-core-3.7.1.jar, scripted-ws-0.0.1-SNAPSHOT.jar, jersey-media-jaxb-2.26.jar, javassist-3.22.0-CR2.jar, scala-compiler-2.12.4.jar, jersey-media-multipart-2.26.jar, jersey-media-json-jackson-2.26.jar, hk2-locator-2.5.0-b42.jar, jodd-bean-3.7.1.jar, jersey-common-2.26.jar, aopalliance-repackaged-2.5.0-b42.jar, netty-buffer-4.1.20.Final.jar]\n"
     ]
    },
    {
     "data": {
      "application/vnd.jupyter.widget-view+json": {
       "model_id": "4b8e1629-a171-486c-ace8-903503f64e71",
       "version_major": 2,
       "version_minor": 0
      },
      "method": "display_data"
     },
     "metadata": {},
     "output_type": "display_data"
    },
    {
     "name": "stdout",
     "output_type": "stream",
     "text": [
      "Added jar: [commons-collections4-4.1.jar]\n"
     ]
    }
   ],
   "source": [
    "%classpath config resolver maven-public http://pschatzmann.ch:8081/repository/maven-public/\n",
    "%classpath add mvn ch.pschatzmann:investor:0.9-SNAPSHOT\n",
    "%classpath add mvn ch.pschatzmann:jupyter-jdk-extensions:0.0.1-SNAPSHOT\n",
    "%classpath add mvn ch.pschatzmann:scripted-ws:0.0.1-SNAPSHOT\n",
    "%classpath add mvn org.apache.commons:commons-collections4:4.1\n"
   ]
  },
  {
   "cell_type": "markdown",
   "metadata": {},
   "source": [
    "### Imports ###"
   ]
  },
  {
   "cell_type": "code",
   "execution_count": 2,
   "metadata": {},
   "outputs": [
    {
     "data": {
      "text/plain": [
       "import ch.pschatzmann.dates._\n",
       "import ch.pschatzmann.stocks._\n",
       "import ch.pschatzmann.stocks.data.universe._\n",
       "import ch.pschatzmann.stocks.input._\n",
       "import ch.pschatzmann.stocks.accounting._\n",
       "import ch.pschatzmann.stocks.accounting.kpi._\n",
       "import ch.pschatzmann.stocks.execution._\n",
       "import ch.pschatzmann.stocks.execution.fees._\n",
       "import ch.pschatzmann.stocks.execution.price._\n",
       "import ch.pschatzmann.stocks.parameters._\n",
       "import ch.pschatzmann.stocks.strategy._\n",
       "import ch.pschatzmann.stocks.strategy.optimization._\n",
       "import ch.pschatzmann.stocks.strategy.allocation._\n",
       "import ch.pschatzmann.stocks.strategy.selection._\n",
       "import ch.pschatzmann.stocks.integration._\n",
       "import ch.pschatzmann.stocks.integration.ChartData.FieldName._\n",
       "import ch.pschatzmann.stocks.strategy.OptimizedStrategy.Schedule._\n",
       "import java.util.stream..."
      ]
     },
     "execution_count": 2,
     "metadata": {},
     "output_type": "execute_result"
    }
   ],
   "source": [
    "// our stock evaluation framwork\n",
    "import ch.pschatzmann.dates._;\n",
    "import ch.pschatzmann.stocks._;\n",
    "import ch.pschatzmann.stocks.data.universe._;\n",
    "import ch.pschatzmann.stocks.input._;\n",
    "import ch.pschatzmann.stocks.accounting._;\n",
    "import ch.pschatzmann.stocks.accounting.kpi._;\n",
    "import ch.pschatzmann.stocks.execution._;\n",
    "import ch.pschatzmann.stocks.execution.fees._;\n",
    "import ch.pschatzmann.stocks.execution.price._;\n",
    "import ch.pschatzmann.stocks.parameters._;\n",
    "import ch.pschatzmann.stocks.strategy._;\n",
    "import ch.pschatzmann.stocks.strategy.optimization._;\n",
    "import ch.pschatzmann.stocks.strategy.allocation._;\n",
    "import ch.pschatzmann.stocks.strategy.selection._;\n",
    "import ch.pschatzmann.stocks.integration._;\n",
    "import ch.pschatzmann.stocks.integration.ChartData.FieldName._;\n",
    "import ch.pschatzmann.stocks.strategy.OptimizedStrategy.Schedule._;\n",
    "\n",
    "// java\n",
    "import java.util.stream.Collectors;\n",
    "import java.util._;\n",
    "import java.lang._;\n",
    "import java.util.function.Consumer;\n",
    "\n",
    "// log4j\n",
    "import org.apache.log4j._;\n",
    "\n",
    "// jupyter custom displayer\n",
    "import ch.pschatzmann.display.Displayers"
   ]
  },
  {
   "cell_type": "markdown",
   "metadata": {},
   "source": [
    "### Deactivate Logging and Caching ###"
   ]
  },
  {
   "cell_type": "code",
   "execution_count": 3,
   "metadata": {},
   "outputs": [
    {
     "data": {
      "text/plain": [
       "false"
      ]
     },
     "execution_count": 3,
     "metadata": {},
     "output_type": "execute_result"
    }
   ],
   "source": [
    "Displayers.setup()\n",
    "Context.setCachingActive(false);\n",
    "Context.isCachingActive();"
   ]
  },
  {
   "cell_type": "markdown",
   "metadata": {},
   "source": [
    "## The Problem Statment ##\n",
    "The following code provides the starting point for our investigation. It is a small scala logic which evaluates for all\n",
    "Trading Strategies for all NASDAQ stocks.\n",
    "We are comparing the runtimes of the different solution approaches with the help of our Timer functionality."
   ]
  },
  {
   "cell_type": "code",
   "execution_count": 4,
   "metadata": {},
   "outputs": [
    {
     "data": {
      "text/plain": [
       "ch.pschatzmann.stocks.strategy.selection.StrategySelector@96a7757"
      ]
     },
     "execution_count": 4,
     "metadata": {},
     "output_type": "execute_result"
    }
   ],
   "source": [
    "import scala.collection.JavaConverters\n",
    "import java.util.Comparator\n",
    "\n",
    "\n",
    "// this is our input data\n",
    "var periods = Context.getDateRanges(\"2016-01-01\",\"2017-01-01\");\n",
    "var account = new Account(\"Simulation\", \"USD\", 100000.00, periods.get(0).getStart(), new PerTradeFees(100.00))\n",
    "var strategies = TradingStrategyFactory.list()\n",
    "var kpi = KPI.SharpeRatio\n",
    " \n",
    "// Selection setup of best strategy for the defined period and KPI\n",
    "var strategySelector = new StrategySelector(account, strategies, periods.get(0), kpi)\n"
   ]
  },
  {
   "cell_type": "code",
   "execution_count": 5,
   "metadata": {},
   "outputs": [
    {
     "data": {
      "text/plain": [
       "14 minutes 15 seconds"
      ]
     },
     "execution_count": 5,
     "metadata": {},
     "output_type": "execute_result"
    }
   ],
   "source": [
    "var timer = new ch.pschatzmann.performance.Timer();\n",
    "\n",
    "// and we limit the result to the best 50: TopNSet is thread save and synchronized \n",
    "var comparator = new StateComparator(kpi).asInstanceOf[Comparator[SelectionState]]\n",
    "var top50 = new TopNSet[SelectionState](50, comparator)\n",
    "\n",
    "// Now we can process the universe in par(allel)\n",
    "var universe = JavaConverters.asScalaBufferConverter(new MarketUniverse(\"NASDAQ\").list()).asScala.toSeq\n",
    "universe.par.foreach( \n",
    "    stockID =>  top50.add(strategySelector.getMax(Context.getStockData(stockID)))\n",
    ")\n",
    "\n",
    "timer.getResult()"
   ]
  },
  {
   "cell_type": "markdown",
   "metadata": {},
   "source": [
    "## Parallel Scala Processing ##\n",
    "We can optimize the processing time by simply using a parallel collection. \n",
    "\n",
    "Note that we are collecting the result in our TopNSet which is implemented as a synchronized set whcih limits the number of entries. This is however an antipattern and not the recommended practice."
   ]
  },
  {
   "cell_type": "code",
   "execution_count": 6,
   "metadata": {},
   "outputs": [
    {
     "data": {
      "text/plain": [
       "10 minutes 45 seconds"
      ]
     },
     "execution_count": 6,
     "metadata": {},
     "output_type": "execute_result"
    }
   ],
   "source": [
    "var timer = new ch.pschatzmann.performance.Timer();\n",
    "\n",
    "var top50Parallel = new TopNSet[SelectionState](50, comparator)\n",
    "var universeParallel = JavaConverters.asScalaBufferConverter(new MarketUniverse(\"NASDAQ\").list()).asScala.toSeq.par\n",
    "universeParallel.foreach( \n",
    "    stockID =>  top50Parallel.add(strategySelector.getMax(Context.getStockData(stockID)))\n",
    ")\n",
    "\n",
    "timer.getResult()"
   ]
  },
  {
   "cell_type": "markdown",
   "metadata": {},
   "source": [
    "Here is the implementation which follows more the Scala recommendation:\n",
    "- we calculate the result\n",
    "- then we sort (in descending order with <) and take the first 5 elements\n",
    "It has however the disadvantage that we need to sort the full result list only disregard all except the first 5 entries."
   ]
  },
  {
   "cell_type": "code",
   "execution_count": 7,
   "metadata": {},
   "outputs": [
    {
     "data": {
      "text/plain": [
       "10 minutes 10 seconds"
      ]
     },
     "execution_count": 7,
     "metadata": {},
     "output_type": "execute_result"
    }
   ],
   "source": [
    "var timer = new ch.pschatzmann.performance.Timer();\n",
    "\n",
    "var universeParallel = JavaConverters.asScalaBufferConverter(new MarketUniverse(\"NASDAQ\").list()).asScala.toSeq.par\n",
    "var result = universeParallel.map( stockID =>  strategySelector.getMax(Context.getStockData(stockID)))\n",
    "var top5ViaSort = result.seq.sortWith{(leftE,rightE) => \n",
    "     leftE.getResult().getDouble(kpi) < rightE.getResult().getDouble(kpi)\n",
    "}.reverse.take(5)\n",
    "\n",
    "timer.getResult()"
   ]
  },
  {
   "cell_type": "markdown",
   "metadata": {},
   "source": [
    "## Distributed Scripted Services ##\n",
    "If we want to distribute the load to multiple machines with the help of e.g. Docker Swarm, we can use the scripted-ws framework. \n",
    "The functionality was made available with the following entry to the classpath:\n",
    "\n",
    "- %classpath add mvn ch.pschatzmann scripted-ws 0.0.1-SNAPSHOT\n",
    "\n",
    "This framwork has the folowing advantages \n",
    "- it can reuse existing functionality in an very easy way\n",
    "- there are no separate compilation or deployment steps \n",
    "- it can be easily distributed (e.g. with Docker) in a multi machine environment with different operating systems and also works correcly if a worker is e.g. a OS/X machine. \n"
   ]
  },
  {
   "cell_type": "markdown",
   "metadata": {},
   "source": [
    "We create an instance of the class that we want to deploy as script and then we call the service method in a loop. In our case we  distribute the execution of the stategy selector. \n",
    "\n",
    "We check the connection to the services first:"
   ]
  },
  {
   "cell_type": "code",
   "execution_count": 8,
   "metadata": {},
   "outputs": [
    {
     "ename": "ch.pschatzmann.scripting.errors.WebserviceException",
     "evalue": " No active address available",
     "output_type": "error",
     "text": "ch.pschatzmann.scripting.errors.WebserviceException: No active address available\n  at ch.pschatzmann.scripting.ScriptingClient.addAddressesToLoadBalancer(ScriptingClient.java:421)\n  at ch.pschatzmann.scripting.ScriptingClient.<init>(ScriptingClient.java:86)\n  ... 86 elided\n",
     "traceback": [
      "\u001b[1;31mch.pschatzmann.scripting.errors.WebserviceException: No active address available\u001b[0;0m",
      "\u001b[1;31m  at ch.pschatzmann.scripting.ScriptingClient.addAddressesToLoadBalancer(ScriptingClient.java:421)\u001b[0;0m",
      "\u001b[1;31m  at ch.pschatzmann.scripting.ScriptingClient.<init>(ScriptingClient.java:86)\u001b[0;0m",
      "\u001b[1;31m  ... 86 elided\u001b[0;0m"
     ]
    }
   ],
   "source": [
    "import ch.pschatzmann.scripting._\n",
    "\n",
    "var service = new ScriptingClient[SelectionState](\"http://10.0.1.2:10001\", \"http://10.0.1.20:10001\",\"http://10.0.1.33:10001\",\"http://10.0.1.16:10001\")\n",
    "//var service = new ScriptingClient[SelectionState]( \"http://10.0.1.33:10001\")\n"
   ]
  },
  {
   "cell_type": "markdown",
   "metadata": {},
   "source": [
    "Here is the implementation:"
   ]
  },
  {
   "cell_type": "code",
   "execution_count": 9,
   "metadata": {},
   "outputs": [
    {
     "ename": "ch.pschatzmann.scripting.errors.WebserviceException",
     "evalue": " No active address available",
     "output_type": "error",
     "text": "ch.pschatzmann.scripting.errors.WebserviceException: No active address available\n  at ch.pschatzmann.scripting.ScriptingClient.addAddressesToLoadBalancer(ScriptingClient.java:421)\n  at ch.pschatzmann.scripting.ScriptingClient.<init>(ScriptingClient.java:86)\n  ... 86 elided\n",
     "traceback": [
      "\u001b[1;31mch.pschatzmann.scripting.errors.WebserviceException: No active address available\u001b[0;0m",
      "\u001b[1;31m  at ch.pschatzmann.scripting.ScriptingClient.addAddressesToLoadBalancer(ScriptingClient.java:421)\u001b[0;0m",
      "\u001b[1;31m  at ch.pschatzmann.scripting.ScriptingClient.<init>(ScriptingClient.java:86)\u001b[0;0m",
      "\u001b[1;31m  ... 86 elided\u001b[0;0m"
     ]
    }
   ],
   "source": [
    "import ch.pschatzmann.scripting._\n",
    "import scala.collection.JavaConverters\n",
    "\n",
    "var timer = new ch.pschatzmann.performance.Timer();\n",
    "// key data\n",
    "var periods = Context.getDateRanges(\"2016-01-01\",\"2017-01-01\");\n",
    "var account = new Account(\"Simulation\", \"USD\", 100000.00, periods.get(0).getStart(), new PerTradeFees(100.00))\n",
    "var strategies = TradingStrategyFactory.list()\n",
    "var kpi = KPI.SharpeRatio\n",
    "\n",
    "// setup distributed service object with the strategySelector\n",
    "var dependencies = Dependency.create(\"stocks:stocks:1.3-SNAPSHOT:http://10.0.1.20:8081/repository/maven-public/\")\n",
    "var bindings = Bindings.create().value(\"strategySelector\", new StrategySelector(account, strategies, periods.get(0), kpi))\n",
    "var serviceDef = new Definition(\"js-strategySelector\", null, bindings, \"js\",  dependencies)\n",
    "var service = new ScriptingClient[SelectionState]( \"http://10.0.1.20:10001\",\"http://10.0.1.33:10001\",\"http://10.0.1.16:10001\")\n",
    "\n",
    "service.register(serviceDef)\n",
    "\n",
    "// this is the client method that we plan to call\n",
    "var serviceMethod = \"strategySelector.getMax(stockData)\"\n",
    "\n",
    "// Now we can process the universe in par(allel)\n",
    "var universe = JavaConverters.asScalaBufferConverter(new MarketUniverse(\"NASDAQ\").list()).asScala.toSeq\n",
    "var comparator = new StateComparator(kpi).asInstanceOf[Comparator[SelectionState]]\n",
    "var top50Dec = new TopNSet[SelectionState](50, comparator)\n",
    "universe.par.foreach( \n",
    "    stockID => \n",
    "        top50Dec.add(\n",
    "            service.call(\"js-strategySelector\", serviceMethod, Bindings.create().value(\"stockData\", Context.getStockData(stockID)), classOf[SelectionState])\n",
    "        )\n",
    ")\n",
    "    \n",
    "timer.getResult()"
   ]
  },
  {
   "cell_type": "markdown",
   "metadata": {},
   "source": [
    "## Design Pattern : A Remote Executable Class ##\n",
    "Now that we understand the mechanism we can improve the structure of our solution. In our Stocks Framework the StrategySelector is implementing the interface IStategySelector. So - in order to make a distributed implementation available we just need to implement a new class which extends from that interface.\n",
    "As you can see all the concepts fall naturatly to their expected place: \n",
    "- The setup and registration of the service is in the constructor\n",
    "- And the the getMax call is just forwarding the call to the service."
   ]
  },
  {
   "cell_type": "code",
   "execution_count": 10,
   "metadata": {},
   "outputs": [
    {
     "data": {
      "text/plain": [
       "import ch.pschatzmann.stocks.strategy.selection.IStategySelector\n",
       "import ch.pschatzmann.stocks.accounting._\n",
       "import java.util._\n",
       "import ch.pschatzmann.dates.DateRange\n",
       "import ch.pschatzmann.stocks._\n",
       "import ch.pschatzmann.stocks.accounting.kpi.KPI\n",
       "import ch.pschatzmann.stocks.accounting.kpi.KPI._\n",
       "import ch.pschatzmann.scripting._\n",
       "import ch.pschatzmann.stocks.strategy._\n",
       "import ch.pschatzmann.stocks.execution.fees._\n",
       "import ch.pschatzmann.stocks.strategy.selection._\n",
       "import ch.pschatzmann.stocks.accounting.kpi._\n",
       "defined class DistributedStrategySelector\n"
      ]
     },
     "execution_count": 10,
     "metadata": {},
     "output_type": "execute_result"
    }
   ],
   "source": [
    "import ch.pschatzmann.stocks.strategy.selection.IStategySelector\n",
    "import ch.pschatzmann.stocks.accounting._\n",
    "import java.util._\n",
    "import ch.pschatzmann.dates.DateRange\n",
    "import ch.pschatzmann.stocks._\n",
    "import ch.pschatzmann.stocks.accounting.kpi.KPI\n",
    "import ch.pschatzmann.stocks.accounting.kpi.KPI._\n",
    "import ch.pschatzmann.scripting._\n",
    "import ch.pschatzmann.stocks.strategy._\n",
    "import ch.pschatzmann.stocks.execution.fees._;\n",
    "import ch.pschatzmann.stocks.strategy.selection._\n",
    "import ch.pschatzmann.stocks.accounting.kpi._;\n",
    "\n",
    "\n",
    "class DistributedStrategySelector(account:IAccount, strategies:Collection[String], optimizationPeriod:DateRange, target:KPI) extends IStategySelector {\n",
    "    var periods = Context.getDateRanges(\"2016-01-01\",\"2017-01-01\")\n",
    "    var account = new Account(\"Simulation\", \"USD\", 100000.00, periods.get(0).getStart(), new PerTradeFees(100.00))\n",
    "    var strategies = TradingStrategyFactory.list()\n",
    "    var dependencies = Dependency.create(\"stocks:stocks:1.3-SNAPSHOT\")\n",
    "    var bindings = Bindings.create().value(\"strategySelector\", new StrategySelector(account, strategies, periods.get(0), target))\n",
    "    var serviceDef = new Definition(\"DistributedStrategySelector\", null, bindings, \"js\",  new ArrayList())\n",
    "    var service = new ScriptingClient[SelectionState](\"http://10.0.1.20:10001\",\"http://10.0.1.2:10001\", \"http://10.0.1.16:10001\" )\n",
    "    service.register(serviceDef)\n",
    "\n",
    "    def getMax(stockData:IStockData):SelectionState = {\n",
    "        var serviceMethod = \"strategySelector.getMax(stockData)\"\n",
    "        return service.call(\"DistributedStrategySelector\", serviceMethod, Bindings.create().value(\"stockData\", stockData), classOf[SelectionState])\n",
    "    }\n",
    "    \n",
    "    def getOptimizationParameter():KPI = {\n",
    "        return target\n",
    "    }\n",
    "}\n"
   ]
  },
  {
   "cell_type": "markdown",
   "metadata": {},
   "source": [
    "With this we have a class we can use the same logic that we have used in chapter \"4) Selection\" by just replacing the\n",
    "StrategySelector with our new DistributedStrategySelector"
   ]
  },
  {
   "cell_type": "code",
   "execution_count": 11,
   "metadata": {},
   "outputs": [
    {
     "data": {
      "text/plain": [
       "3 seconds"
      ]
     },
     "execution_count": 11,
     "metadata": {},
     "output_type": "execute_result"
    }
   ],
   "source": [
    "var timer = new ch.pschatzmann.performance.Timer();\n",
    "    \n",
    "var kpi = KPI.SharpeRatio\n",
    "var periods = Context.getDateRanges(\"2016-01-01\",\"2017-01-01\");\n",
    "var account = new Account(\"Simulation\", \"USD\", 100000.00, periods.get(0).getStart(), new PerTradeFees(100.00))\n",
    "var file = new java.io.File(\"NASDAQ-2017-01-Distributed.json\")\n",
    "if (!file.exists()) {\n",
    "    var universe = new MarketUniverse(\"NASDAQ\")\n",
    "    var strategies = TradingStrategyFactory.list()\n",
    "    var strategySelector = new DistributedStrategySelector(account, strategies, periods.get(0), KPI.SharpeRatio)\n",
    "    var stockSelector = new StockSelector(strategySelector, new Restartable(\"restart-v1S.ser\",50))\n",
    "    // calculate the result\n",
    "    var result = stockSelector.getSelection(200, universe, new MarketArchiveHttpReader())\n",
    "    // save the result to a file\n",
    "    result.save(file) \n",
    "} \n",
    "\n",
    "// provide result even if we did not run the selection above\n",
    "var resultS = new SelectionResult()\n",
    "resultS.load(file)\n",
    "var trader = new PaperTrader(account);\n",
    "var allocationStrategy = new DistributedAllocationStrategy(trader);\n",
    "var executor = new StrategyExecutor(trader, allocationStrategy);\n",
    "executor.addStrategy(resultS.getStrategies(new MarketArchiveHttpReader()));\n",
    "executor.run(periods.get(1));\n",
    "\n",
    "timer.getResult()"
   ]
  },
  {
   "cell_type": "markdown",
   "metadata": {},
   "source": [
    "## Using Java Multithreading With A Threadpool ##\n",
    "\n",
    "Each webservice is staring a thread on the server, therfore it is of advantage to keep the server busy by executing many calls in parallel. This can be achieved and managed with the help of a Java ThreadPool. We start 10 Threads which in our example are thitting 3 physical servers: So we execute constently 3 requests for each server.\n",
    "\n",
    "The framework automatically limits the number of open server requests in order to avoid that the server is overloaded."
   ]
  },
  {
   "cell_type": "code",
   "execution_count": 12,
   "metadata": {},
   "outputs": [
    {
     "ename": "ch.pschatzmann.scripting.errors.WebserviceException",
     "evalue": " No active address available",
     "output_type": "error",
     "text": "ch.pschatzmann.scripting.errors.WebserviceException: No active address available\n  at ch.pschatzmann.scripting.ScriptingClient.addAddressesToLoadBalancer(ScriptingClient.java:421)\n  at ch.pschatzmann.scripting.ScriptingClient.<init>(ScriptingClient.java:86)\n  ... 47 elided\n",
     "traceback": [
      "\u001b[1;31mch.pschatzmann.scripting.errors.WebserviceException: No active address available\u001b[0;0m",
      "\u001b[1;31m  at ch.pschatzmann.scripting.ScriptingClient.addAddressesToLoadBalancer(ScriptingClient.java:421)\u001b[0;0m",
      "\u001b[1;31m  at ch.pschatzmann.scripting.ScriptingClient.<init>(ScriptingClient.java:86)\u001b[0;0m",
      "\u001b[1;31m  ... 47 elided\u001b[0;0m"
     ]
    }
   ],
   "source": [
    "import ch.pschatzmann.scripting._\n",
    "import ch.pschatzmann.stocks.strategy.selection._;\n",
    "import ch.pschatzmann.stocks.data.universe._\n",
    "import scala.collection.JavaConverters\n",
    "import java.util.concurrent._\n",
    "import ch.pschatzmann.stocks._;\n",
    "import ch.pschatzmann.stocks.accounting.kpi._;\n",
    "import ch.pschatzmann.stocks.accounting._;\n",
    "import ch.pschatzmann.stocks.strategy._;\n",
    "import ch.pschatzmann.stocks.execution.fees._\n",
    "import ch.pschatzmann.scripting.utils.ThrottlingLoadBalancer\n",
    "\n",
    "class SelectStrategyCallable(service:ScriptingClient[SelectionState], stockID:IStockID) extends Callable[SelectionState] {\n",
    "    override def call():SelectionState = {\n",
    "        var serviceMethod = \"strategySelector.getMax(stockData)\"\n",
    "        service.call(\"js-strategySelector\", serviceMethod, Bindings.create().value(\"stockData\", Context.getStockData(stockID)), classOf[SelectionState])       \n",
    "    }\n",
    "}\n",
    "\n",
    "object StrategyServiceWithThreadPool {\n",
    "    var kpi = KPI.SharpeRatio\n",
    "    var service = new ScriptingClient[SelectionState]( \"http://10.0.1.20:10001\",\"http://10.0.1.2:10001\",\"http://10.0.1.16:10001\")\n",
    "    service.setSerializer(classOf[ch.pschatzmann.scripting.serialization.JavaSerializer]);\n",
    "    var loadBalancer = new ThrottlingLoadBalancer()\n",
    "    // define custom load balancer\n",
    "    loadBalancer.setMaxOpenRequests(10)\n",
    "    service.setLoadBalancer(loadBalancer)\n",
    "    \n",
    "    def registerService() {\n",
    "        var periods = Context.getDateRanges(\"2016-01-01\",\"2017-01-01\");\n",
    "        var account = new Account(\"Simulation\", \"USD\", 100000.00, periods.get(0).getStart(), new PerTradeFees(100.00))\n",
    "        var strategies = TradingStrategyFactory.list()\n",
    "        var dependencies = Dependency.create(\"stocks:stocks:1.3-SNAPSHOT:http://10.0.1.20:8081/repository/maven-public/\")\n",
    "        var bindings = Bindings.create().value(\"strategySelector\", new StrategySelector(account, strategies, periods.get(0), kpi))\n",
    "        var serviceDef = new Definition(\"js-strategySelector\", null, bindings, \"js\",  dependencies)\n",
    "        service.register(serviceDef)  \n",
    "    }\n",
    "    \n",
    "    def process():Seq[SelectionState] = {\n",
    "        val numberOfThreads = 9\n",
    "        val topLimit = 50\n",
    "        // Now we can process the universe in n parallel threads\n",
    "        var universe = JavaConverters.asScalaBufferConverter(new MarketUniverse(\"NASDAQ\").list()).asScala.toSeq\n",
    "        val pool = Executors.newFixedThreadPool(numberOfThreads) \n",
    "        val futures = universe.map(stockID => pool.submit(new SelectStrategyCallable(service, stockID)))\n",
    "        val result = futures.map(future => future.get()).filter(result => result!=null)\n",
    "        val top5 = result.sortWith{(leftE,rightE) =>  leftE.getResult().getDouble(kpi) < rightE.getResult().getDouble(kpi)}.reverse.take(topLimit)           \n",
    "        top5\n",
    "    }\n",
    "}\n",
    "\n",
    "var timer = new ch.pschatzmann.performance.Timer();\n",
    "\n",
    "StrategyServiceWithThreadPool.registerService\n",
    "var result = StrategyServiceWithThreadPool.process\n",
    "\n",
    "timer.getResult()"
   ]
  },
  {
   "cell_type": "markdown",
   "metadata": {},
   "source": [
    "Here are some timings:\n",
    "\n",
    "- 5  Threads/20 max open requests -> 17 minutes 15 seconds\n",
    "- 5  Threads/10 max open requests -> 10 minutes 4 seconds\n",
    "- 6  Threads/10 max open requests -> 9 minutes 39 seconds\n",
    "- 9  Threads/10 max open requests -> 9 minutes 39 seconds\n",
    "- 10 Threads/20 max open requests -> 10 minutes 55 seconds\n",
    "- 10 Threads/30 max open requests -> 11 minutes 2 seconds\n",
    "- 50 Threads/20 max open requests -> 23 minutes 55 seconds\n",
    "\n",
    "This is not very impressing! So we look how we can improve the timings:\n",
    "\n",
    "\n",
    "## Minimizing the Number of Calls by Producig Batches of Data #\n",
    "\n",
    "For each method call there is quite a big overhead because we need to set up the scripting engine, go thru the serialization of paramters and on top of this we have the network overhead for each call.\n",
    "\n",
    "So it is much better to give the server a bigger chunk of work. If you remember our last tuturial we used a StockSelector on a list of stocks. So it is a better strategy to split this list, calculate the result decentrally and then consolidate the result:"
   ]
  },
  {
   "cell_type": "code",
   "execution_count": 13,
   "metadata": {},
   "outputs": [
    {
     "data": {
      "text/plain": [
       "3683"
      ]
     },
     "execution_count": 13,
     "metadata": {},
     "output_type": "execute_result"
    }
   ],
   "source": [
    "new MarketUniverse(\"NASDAQ\").list().size()"
   ]
  },
  {
   "cell_type": "markdown",
   "metadata": {},
   "source": [
    "So we have roughly 3600 entries to distribute. So we partion by 800 which gives roughly 5 \"batches\" which need to be processed"
   ]
  },
  {
   "cell_type": "code",
   "execution_count": 14,
   "metadata": {},
   "outputs": [
    {
     "ename": "ch.pschatzmann.scripting.errors.WebserviceException",
     "evalue": " No active address available",
     "output_type": "error",
     "text": "ch.pschatzmann.scripting.errors.WebserviceException: No active address available\n  at ch.pschatzmann.scripting.ScriptingClient.addAddressesToLoadBalancer(ScriptingClient.java:421)\n  at ch.pschatzmann.scripting.ScriptingClient.<init>(ScriptingClient.java:86)\n  ... 55 elided\n",
     "traceback": [
      "\u001b[1;31mch.pschatzmann.scripting.errors.WebserviceException: No active address available\u001b[0;0m",
      "\u001b[1;31m  at ch.pschatzmann.scripting.ScriptingClient.addAddressesToLoadBalancer(ScriptingClient.java:421)\u001b[0;0m",
      "\u001b[1;31m  at ch.pschatzmann.scripting.ScriptingClient.<init>(ScriptingClient.java:86)\u001b[0;0m",
      "\u001b[1;31m  ... 55 elided\u001b[0;0m"
     ]
    }
   ],
   "source": [
    "import ch.pschatzmann.scripting._\n",
    "import ch.pschatzmann.stocks._;\n",
    "import ch.pschatzmann.stocks.parameters._;\n",
    "import ch.pschatzmann.stocks.strategy.selection._;\n",
    "import ch.pschatzmann.stocks.data.universe._\n",
    "import ch.pschatzmann.stocks.accounting.kpi._;\n",
    "import ch.pschatzmann.stocks.execution.fees._\n",
    "import ch.pschatzmann.stocks.accounting._;\n",
    "import ch.pschatzmann.stocks.strategy._;\n",
    "import org.apache.commons.collections4.ListUtils\n",
    "import ch.pschatzmann.stocks.input.MarketArchiveHttpReader\n",
    "import java.util.concurrent._\n",
    "import java.util._\n",
    "import scala.collection.JavaConverters\n",
    "import ch.pschatzmann.scripting.utils.ThrottlingLoadBalancer\n",
    "\n",
    "\n",
    "class SelectStockCallable(service:ScriptingClient[TopNSet[SelectionState]], stockList: ArrayList[IStockID], topLimit:Integer) extends Callable[TopNSet[SelectionState]] {\n",
    "\n",
    "    override def call():TopNSet[SelectionState] = {\n",
    "        var serviceMethod = \"stockSelector.getSelection(topLimit, stockList, reader).getResult()\"\n",
    "        var bindings = Bindings.create()\n",
    "            .value(\"topLimit\", topLimit)\n",
    "            .value(\"stockList\", stockList)\n",
    "            .value(\"reader\", new MarketArchiveHttpReader())\n",
    "        var result = service.call(\"js-stockSelector\", serviceMethod, bindings, classOf[List[SelectionState]])   \n",
    "        return result.asInstanceOf[TopNSet[SelectionState]]\n",
    "    }                                \n",
    "}\n",
    "                     \n",
    " object StocksServiceWithThreadPool {\n",
    "    var kpi = KPI.SharpeRatio\n",
    "    var service = new ScriptingClient[TopNSet[SelectionState]](\"http://10.0.1.2:10001\", \"http://10.0.1.20:10001\",\"http://10.0.1.16:10001\")\n",
    "    //var service = new ScriptingClient[TopNSet[SelectionState]](\"http://10.0.1.2:10001\", \"http://10.0.1.20:10001\",\"http://10.0.1.33:10001\",\"http://10.0.1.16:10001\")\n",
    "    //var service = new ScriptingClient[TopNSet[SelectionState]]( \"http://10.0.1.16:10001\", \"http://10.0.1.33:10001\")\n",
    "    //service.setSerializer(classOf[ch.pschatzmann.scripting.serialization.JavaSerializer]);\n",
    "    var loadBalancer = new ThrottlingLoadBalancer()\n",
    "    // define custom load balancer\n",
    "    loadBalancer.setMaxOpenRequests(20)\n",
    "    service.setLoadBalancer(loadBalancer)\n",
    "    val topLimit = 50\n",
    "    val partitionSize = 150\n",
    "    val numberOfThreads = 8\n",
    "\n",
    "    def registerService() = {\n",
    "        var periods = Context.getDateRanges(\"2016-01-01\",\"2017-01-01\");\n",
    "        var account = new Account(\"Simulation\", \"USD\", 100000.00, periods.get(0).getStart(), new PerTradeFees(100.00))\n",
    "        var strategies = TradingStrategyFactory.list()\n",
    "        var strategySelector = new StrategySelector(account, strategies, periods.get(0), kpi)\n",
    "        var bindings = Bindings.create()\n",
    "            .value(\"stockSelector\", new StockSelector(strategySelector))\n",
    "        var dependencies = Dependency.create(\"stocks:stocks:1.3-SNAPSHOT:http://10.0.1.20:8081/repository/maven-public/\")\n",
    "        var serviceDef = new Definition(\"js-stockSelector\", null, bindings, \"js\",  dependencies)\n",
    "        service.register(serviceDef)\n",
    "    }\n",
    "    \n",
    "    def process():TopNSet[SelectionState] = {\n",
    "        var universeList = new MarketUniverse(\"NASDAQ\").list()\n",
    "        var listOfListOfStocks = ListUtils.partition(universeList, partitionSize)\n",
    "        var scalaListOfListOfStocks = JavaConverters.asScalaBufferConverter(listOfListOfStocks).asScala.toSeq\n",
    "        val pool = Executors.newFixedThreadPool(numberOfThreads) \n",
    "        val futures = scalaListOfListOfStocks.map(listOfStocks => pool.submit(new SelectStockCallable(service, new ArrayList(listOfStocks), topLimit)))\n",
    "        var comparator = new StateComparator(kpi).asInstanceOf[Comparator[SelectionState]]\n",
    "        var top50X = new TopNSet[SelectionState](topLimit, comparator)                     \n",
    "        val result = futures.map(futures => futures.get())\n",
    "        result.foreach(list => top50X.addAll(list))\n",
    "        top50X\n",
    "    }\n",
    "}\n",
    "                    \n",
    "                                     \n",
    "var timer = new ch.pschatzmann.performance.Timer()\n",
    "\n",
    "StocksServiceWithThreadPool.registerService\n",
    "var result = StocksServiceWithThreadPool.process\n",
    "\n",
    "timer.getResult()"
   ]
  },
  {
   "cell_type": "markdown",
   "metadata": {},
   "source": [
    "- Size/Th/Open\n",
    "- 300 / 6 / 10 -> 9 minutes 9 seconds\n",
    "- 200 / 6 / 10 -> 6 minutes 33 seconds\n",
    "- 200 / 6 / 20 -> 6 minutes 33 seconds\n",
    "- 200 / 9 / 10 -> 7 minutes 48 seconds\n",
    "- 100 / 6 / 10 -> 7 minutes 48 seconds\n",
    "\n",
    "## Example w/o Java Threds ##"
   ]
  },
  {
   "cell_type": "code",
   "execution_count": 15,
   "metadata": {},
   "outputs": [
    {
     "ename": "ch.pschatzmann.scripting.errors.WebserviceException",
     "evalue": " No active address available",
     "output_type": "error",
     "text": "ch.pschatzmann.scripting.errors.WebserviceException: No active address available\n  at ch.pschatzmann.scripting.ScriptingClient.addAddressesToLoadBalancer(ScriptingClient.java:421)\n  at ch.pschatzmann.scripting.ScriptingClient.<init>(ScriptingClient.java:86)\n  ... 107 elided\n",
     "traceback": [
      "\u001b[1;31mch.pschatzmann.scripting.errors.WebserviceException: No active address available\u001b[0;0m",
      "\u001b[1;31m  at ch.pschatzmann.scripting.ScriptingClient.addAddressesToLoadBalancer(ScriptingClient.java:421)\u001b[0;0m",
      "\u001b[1;31m  at ch.pschatzmann.scripting.ScriptingClient.<init>(ScriptingClient.java:86)\u001b[0;0m",
      "\u001b[1;31m  ... 107 elided\u001b[0;0m"
     ]
    }
   ],
   "source": [
    "import ch.pschatzmann.scripting._\n",
    "import ch.pschatzmann.stocks._;\n",
    "import ch.pschatzmann.stocks.parameters._;\n",
    "import ch.pschatzmann.stocks.strategy.selection._;\n",
    "import ch.pschatzmann.stocks.data.universe._\n",
    "import ch.pschatzmann.stocks.accounting.kpi._;\n",
    "import ch.pschatzmann.stocks.execution.fees._\n",
    "import ch.pschatzmann.stocks.accounting._;\n",
    "import ch.pschatzmann.stocks.strategy._;\n",
    "import org.apache.commons.collections4.ListUtils\n",
    "import ch.pschatzmann.stocks.input.MarketArchiveHttpReader\n",
    "import java.util.concurrent._\n",
    "import java.util._\n",
    "import scala.collection.JavaConverters\n",
    "import ch.pschatzmann.scripting.utils.ThrottlingLoadBalancer\n",
    "\n",
    "                     \n",
    " object StocksService {\n",
    "    var kpi = KPI.SharpeRatio\n",
    "    var service = new ScriptingClient[TopNSet[SelectionState]]( \"http://10.0.1.20:10001\",\"http://10.0.1.33:10001\",\"http://10.0.1.16:10001\")\n",
    "    var loadBalancer = new ThrottlingLoadBalancer()\n",
    "    // define custom load balancer\n",
    "    loadBalancer.setMaxOpenRequests(10)\n",
    "    service.setLoadBalancer(loadBalancer)\n",
    "    val topLimit = 50\n",
    "    val partitionSize = 200\n",
    "\n",
    "    def registerService() = {\n",
    "        var periods = Context.getDateRanges(\"2016-01-01\",\"2017-01-01\");\n",
    "        var account = new Account(\"Simulation\", \"USD\", 100000.00, periods.get(0).getStart(), new PerTradeFees(100.00))\n",
    "        var strategies = TradingStrategyFactory.list()\n",
    "        var strategySelector = new StrategySelector(account, strategies, periods.get(0), kpi)\n",
    "        var bindings = Bindings.create()\n",
    "            .value(\"stockSelector\", new StockSelector(strategySelector))\n",
    "        var dependencies = Dependency.create(\"stocks:stocks:1.3-SNAPSHOT:http://10.0.1.20:8081/repository/maven-public/\")\n",
    "        var serviceDef = new Definition(\"js-stockSelector\", null, bindings, \"js\",  dependencies)\n",
    "        service.register(serviceDef)\n",
    "    }\n",
    "     \n",
    "     def processListOfStocks(stockList: List[IStockID]):TopNSet[SelectionState] = {\n",
    "        var serviceMethod = \"stockSelector.getSelection(topLimit, stockList, reader).getResult()\"\n",
    "        var bindings = Bindings.create()\n",
    "            .value(\"topLimit\", topLimit)\n",
    "            .value(\"stockList\", stockList)\n",
    "            .value(\"reader\", new MarketArchiveHttpReader())\n",
    "        var result = service.call(\"js-stockSelector\", serviceMethod, bindings, classOf[List[SelectionState]])   \n",
    "        return result.asInstanceOf[TopNSet[SelectionState]]\n",
    "    }       \n",
    "    \n",
    "    def processAll():TopNSet[SelectionState] = {\n",
    "        var universeList = new MarketUniverse(\"NASDAQ\").list()\n",
    "        var listOfListOfStocks = ListUtils.partition(universeList, partitionSize)\n",
    "        var scalaListOfListOfStocks = JavaConverters.asScalaBufferConverter(listOfListOfStocks).asScala.toSeq\n",
    "        var comparator = new StateComparator(kpi).asInstanceOf[Comparator[SelectionState]]\n",
    "        var top50Parallel = new TopNSet[SelectionState](50, comparator)\n",
    "\n",
    "        scalaListOfListOfStocks.par.foreach(\n",
    "            list => top50Parallel.addAll(processListOfStocks(new ArrayList(list)))\n",
    "        )\n",
    "        top50Parallel\n",
    "    }\n",
    "}\n",
    "                    \n",
    "                                     \n",
    "var timer = new ch.pschatzmann.performance.Timer()\n",
    "\n",
    "StocksService.registerService\n",
    "var result = StocksService.processAll\n",
    "\n",
    "timer.getResult()"
   ]
  },
  {
   "cell_type": "code",
   "execution_count": null,
   "metadata": {},
   "outputs": [],
   "source": []
  }
 ],
 "metadata": {
  "kernelspec": {
   "display_name": "Scala",
   "language": "scala",
   "name": "scala"
  },
  "language_info": {
   "codemirror_mode": "text/x-scala",
   "file_extension": ".scala",
   "mimetype": "",
   "name": "Scala",
   "nbconverter_exporter": "",
   "version": "2.11.12"
  }
 },
 "nbformat": 4,
 "nbformat_minor": 2
}
